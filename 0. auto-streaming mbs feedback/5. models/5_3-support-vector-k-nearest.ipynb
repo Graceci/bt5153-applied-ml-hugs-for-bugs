{
 "cells": [
  {
   "cell_type": "code",
   "execution_count": 1,
   "metadata": {
    "colab": {},
    "colab_type": "code",
    "id": "dh2fgg5p9hX7",
    "scrolled": true
   },
   "outputs": [
    {
     "name": "stderr",
     "output_type": "stream",
     "text": [
      "/anaconda3/lib/python3.6/importlib/_bootstrap.py:219: RuntimeWarning: numpy.ufunc size changed, may indicate binary incompatibility. Expected 192 from C header, got 216 from PyObject\n",
      "  return f(*args, **kwds)\n",
      "/anaconda3/lib/python3.6/importlib/_bootstrap.py:219: RuntimeWarning: numpy.ufunc size changed, may indicate binary incompatibility. Expected 192 from C header, got 216 from PyObject\n",
      "  return f(*args, **kwds)\n",
      "/anaconda3/lib/python3.6/importlib/_bootstrap.py:219: RuntimeWarning: numpy.ufunc size changed, may indicate binary incompatibility. Expected 192 from C header, got 216 from PyObject\n",
      "  return f(*args, **kwds)\n",
      "/anaconda3/lib/python3.6/importlib/_bootstrap.py:219: RuntimeWarning: numpy.ufunc size changed, may indicate binary incompatibility. Expected 192 from C header, got 216 from PyObject\n",
      "  return f(*args, **kwds)\n",
      "Using TensorFlow backend.\n",
      "/anaconda3/lib/python3.6/site-packages/tensorflow/python/framework/dtypes.py:516: FutureWarning: Passing (type, 1) or '1type' as a synonym of type is deprecated; in a future version of numpy, it will be understood as (type, (1,)) / '(1,)type'.\n",
      "  _np_qint8 = np.dtype([(\"qint8\", np.int8, 1)])\n",
      "/anaconda3/lib/python3.6/site-packages/tensorflow/python/framework/dtypes.py:517: FutureWarning: Passing (type, 1) or '1type' as a synonym of type is deprecated; in a future version of numpy, it will be understood as (type, (1,)) / '(1,)type'.\n",
      "  _np_quint8 = np.dtype([(\"quint8\", np.uint8, 1)])\n",
      "/anaconda3/lib/python3.6/site-packages/tensorflow/python/framework/dtypes.py:518: FutureWarning: Passing (type, 1) or '1type' as a synonym of type is deprecated; in a future version of numpy, it will be understood as (type, (1,)) / '(1,)type'.\n",
      "  _np_qint16 = np.dtype([(\"qint16\", np.int16, 1)])\n",
      "/anaconda3/lib/python3.6/site-packages/tensorflow/python/framework/dtypes.py:519: FutureWarning: Passing (type, 1) or '1type' as a synonym of type is deprecated; in a future version of numpy, it will be understood as (type, (1,)) / '(1,)type'.\n",
      "  _np_quint16 = np.dtype([(\"quint16\", np.uint16, 1)])\n",
      "/anaconda3/lib/python3.6/site-packages/tensorflow/python/framework/dtypes.py:520: FutureWarning: Passing (type, 1) or '1type' as a synonym of type is deprecated; in a future version of numpy, it will be understood as (type, (1,)) / '(1,)type'.\n",
      "  _np_qint32 = np.dtype([(\"qint32\", np.int32, 1)])\n",
      "/anaconda3/lib/python3.6/site-packages/tensorflow/python/framework/dtypes.py:525: FutureWarning: Passing (type, 1) or '1type' as a synonym of type is deprecated; in a future version of numpy, it will be understood as (type, (1,)) / '(1,)type'.\n",
      "  np_resource = np.dtype([(\"resource\", np.ubyte, 1)])\n",
      "/anaconda3/lib/python3.6/importlib/_bootstrap.py:219: RuntimeWarning: numpy.ufunc size changed, may indicate binary incompatibility. Expected 216, got 192\n",
      "  return f(*args, **kwds)\n",
      "/anaconda3/lib/python3.6/site-packages/tensorboard/compat/tensorflow_stub/dtypes.py:541: FutureWarning: Passing (type, 1) or '1type' as a synonym of type is deprecated; in a future version of numpy, it will be understood as (type, (1,)) / '(1,)type'.\n",
      "  _np_qint8 = np.dtype([(\"qint8\", np.int8, 1)])\n",
      "/anaconda3/lib/python3.6/site-packages/tensorboard/compat/tensorflow_stub/dtypes.py:542: FutureWarning: Passing (type, 1) or '1type' as a synonym of type is deprecated; in a future version of numpy, it will be understood as (type, (1,)) / '(1,)type'.\n",
      "  _np_quint8 = np.dtype([(\"quint8\", np.uint8, 1)])\n",
      "/anaconda3/lib/python3.6/site-packages/tensorboard/compat/tensorflow_stub/dtypes.py:543: FutureWarning: Passing (type, 1) or '1type' as a synonym of type is deprecated; in a future version of numpy, it will be understood as (type, (1,)) / '(1,)type'.\n",
      "  _np_qint16 = np.dtype([(\"qint16\", np.int16, 1)])\n",
      "/anaconda3/lib/python3.6/site-packages/tensorboard/compat/tensorflow_stub/dtypes.py:544: FutureWarning: Passing (type, 1) or '1type' as a synonym of type is deprecated; in a future version of numpy, it will be understood as (type, (1,)) / '(1,)type'.\n",
      "  _np_quint16 = np.dtype([(\"quint16\", np.uint16, 1)])\n",
      "/anaconda3/lib/python3.6/site-packages/tensorboard/compat/tensorflow_stub/dtypes.py:545: FutureWarning: Passing (type, 1) or '1type' as a synonym of type is deprecated; in a future version of numpy, it will be understood as (type, (1,)) / '(1,)type'.\n",
      "  _np_qint32 = np.dtype([(\"qint32\", np.int32, 1)])\n",
      "/anaconda3/lib/python3.6/site-packages/tensorboard/compat/tensorflow_stub/dtypes.py:550: FutureWarning: Passing (type, 1) or '1type' as a synonym of type is deprecated; in a future version of numpy, it will be understood as (type, (1,)) / '(1,)type'.\n",
      "  np_resource = np.dtype([(\"resource\", np.ubyte, 1)])\n",
      "/anaconda3/lib/python3.6/importlib/_bootstrap.py:219: RuntimeWarning: numpy.ufunc size changed, may indicate binary incompatibility. Expected 192 from C header, got 216 from PyObject\n",
      "  return f(*args, **kwds)\n"
     ]
    }
   ],
   "source": [
    "import os\n",
    "import pandas as pd\n",
    "import numpy as np\n",
    "from sklearn.model_selection import train_test_split, cross_validate\n",
    "from imblearn.over_sampling import RandomOverSampler\n",
    "from imblearn.under_sampling import RandomUnderSampler\n",
    "from sklearn.feature_extraction.text import CountVectorizer, TfidfTransformer\n",
    "from sklearn.metrics import accuracy_score, classification_report, f1_score\n",
    "from sklearn.svm import LinearSVC"
   ]
  },
  {
   "cell_type": "code",
   "execution_count": 2,
   "metadata": {
    "colab": {
     "base_uri": "https://localhost:8080/"
    },
    "colab_type": "code",
    "id": "EjzKmoco9hYB",
    "outputId": "3fe62f99-0a2a-4683-95de-6b75d533c27e"
   },
   "outputs": [
    {
     "name": "stderr",
     "output_type": "stream",
     "text": [
      "/anaconda3/lib/python3.6/site-packages/ipykernel_launcher.py:1: FutureWarning: Passing a negative integer is deprecated in version 1.0 and will not be supported in future version. Instead, use None to not limit the column width.\n",
      "  \"\"\"Entry point for launching an IPython kernel.\n"
     ]
    }
   ],
   "source": [
    "pd.set_option('display.max_colwidth',-1)"
   ]
  },
  {
   "cell_type": "code",
   "execution_count": 3,
   "metadata": {
    "colab": {
     "base_uri": "https://localhost:8080/",
     "height": 221
    },
    "colab_type": "code",
    "id": "Tk7SDjra9hYG",
    "outputId": "5810c6e9-7a79-447e-d369-3d5eea8a43c7",
    "scrolled": true
   },
   "outputs": [
    {
     "data": {
      "text/html": [
       "<div>\n",
       "<style scoped>\n",
       "    .dataframe tbody tr th:only-of-type {\n",
       "        vertical-align: middle;\n",
       "    }\n",
       "\n",
       "    .dataframe tbody tr th {\n",
       "        vertical-align: top;\n",
       "    }\n",
       "\n",
       "    .dataframe thead th {\n",
       "        text-align: right;\n",
       "    }\n",
       "</style>\n",
       "<table border=\"1\" class=\"dataframe\">\n",
       "  <thead>\n",
       "    <tr style=\"text-align: right;\">\n",
       "      <th></th>\n",
       "      <th>review_number</th>\n",
       "      <th>facility_ind</th>\n",
       "      <th>security_ind</th>\n",
       "      <th>pricing_ind</th>\n",
       "      <th>location_ind</th>\n",
       "      <th>fb_ind</th>\n",
       "      <th>housekeep_ind</th>\n",
       "      <th>frontoff_ind</th>\n",
       "      <th>Others</th>\n",
       "      <th>cons</th>\n",
       "    </tr>\n",
       "  </thead>\n",
       "  <tbody>\n",
       "    <tr>\n",
       "      <th>0</th>\n",
       "      <td>0</td>\n",
       "      <td>1</td>\n",
       "      <td>0</td>\n",
       "      <td>0</td>\n",
       "      <td>0</td>\n",
       "      <td>0</td>\n",
       "      <td>0</td>\n",
       "      <td>0</td>\n",
       "      <td>0</td>\n",
       "      <td>bedroom bland</td>\n",
       "    </tr>\n",
       "    <tr>\n",
       "      <th>1</th>\n",
       "      <td>0</td>\n",
       "      <td>1</td>\n",
       "      <td>0</td>\n",
       "      <td>0</td>\n",
       "      <td>0</td>\n",
       "      <td>0</td>\n",
       "      <td>0</td>\n",
       "      <td>0</td>\n",
       "      <td>0</td>\n",
       "      <td>soft furnish</td>\n",
       "    </tr>\n",
       "    <tr>\n",
       "      <th>2</th>\n",
       "      <td>0</td>\n",
       "      <td>1</td>\n",
       "      <td>0</td>\n",
       "      <td>0</td>\n",
       "      <td>0</td>\n",
       "      <td>0</td>\n",
       "      <td>0</td>\n",
       "      <td>0</td>\n",
       "      <td>0</td>\n",
       "      <td>littl furnitur big space</td>\n",
       "    </tr>\n",
       "    <tr>\n",
       "      <th>3</th>\n",
       "      <td>0</td>\n",
       "      <td>1</td>\n",
       "      <td>0</td>\n",
       "      <td>0</td>\n",
       "      <td>0</td>\n",
       "      <td>0</td>\n",
       "      <td>0</td>\n",
       "      <td>0</td>\n",
       "      <td>0</td>\n",
       "      <td>uncomfort couch area need colour invent design make want spend time bedroom</td>\n",
       "    </tr>\n",
       "    <tr>\n",
       "      <th>4</th>\n",
       "      <td>0</td>\n",
       "      <td>0</td>\n",
       "      <td>0</td>\n",
       "      <td>0</td>\n",
       "      <td>0</td>\n",
       "      <td>1</td>\n",
       "      <td>0</td>\n",
       "      <td>0</td>\n",
       "      <td>0</td>\n",
       "      <td>hotel could resid bar relax drink dinner</td>\n",
       "    </tr>\n",
       "  </tbody>\n",
       "</table>\n",
       "</div>"
      ],
      "text/plain": [
       "   review_number  facility_ind  security_ind  pricing_ind  location_ind  \\\n",
       "0  0              1             0             0            0              \n",
       "1  0              1             0             0            0              \n",
       "2  0              1             0             0            0              \n",
       "3  0              1             0             0            0              \n",
       "4  0              0             0             0            0              \n",
       "\n",
       "   fb_ind  housekeep_ind  frontoff_ind  Others  \\\n",
       "0  0       0              0             0        \n",
       "1  0       0              0             0        \n",
       "2  0       0              0             0        \n",
       "3  0       0              0             0        \n",
       "4  1       0              0             0        \n",
       "\n",
       "                                                                          cons  \n",
       "0  bedroom bland                                                                \n",
       "1  soft furnish                                                                 \n",
       "2  littl furnitur big space                                                     \n",
       "3  uncomfort couch area need colour invent design make want spend time bedroom  \n",
       "4  hotel could resid bar relax drink dinner                                     "
      ]
     },
     "execution_count": 3,
     "metadata": {},
     "output_type": "execute_result"
    }
   ],
   "source": [
    "df = pd.read_csv('data_cleaned.csv',index_col=False)\n",
    "df.head()"
   ]
  },
  {
   "cell_type": "code",
   "execution_count": 4,
   "metadata": {
    "colab": {},
    "colab_type": "code",
    "id": "ioPwrioo9hYS",
    "scrolled": true
   },
   "outputs": [],
   "source": [
    "# Convert all rows to string\n",
    "df.cons = df.cons.astype(str)"
   ]
  },
  {
   "cell_type": "code",
   "execution_count": 5,
   "metadata": {
    "colab": {
     "base_uri": "https://localhost:8080/",
     "height": 306
    },
    "colab_type": "code",
    "id": "As1V5L1j9hYV",
    "outputId": "56d2a1fb-42e4-48c7-ccae-bd05f6bd5f1e"
   },
   "outputs": [
    {
     "name": "stdout",
     "output_type": "stream",
     "text": [
      "<class 'pandas.core.frame.DataFrame'>\n",
      "RangeIndex: 5788 entries, 0 to 5787\n",
      "Data columns (total 10 columns):\n",
      " #   Column         Non-Null Count  Dtype \n",
      "---  ------         --------------  ----- \n",
      " 0   review_number  5788 non-null   int64 \n",
      " 1   facility_ind   5788 non-null   int64 \n",
      " 2   security_ind   5788 non-null   int64 \n",
      " 3   pricing_ind    5788 non-null   int64 \n",
      " 4   location_ind   5788 non-null   int64 \n",
      " 5   fb_ind         5788 non-null   int64 \n",
      " 6   housekeep_ind  5788 non-null   int64 \n",
      " 7   frontoff_ind   5788 non-null   int64 \n",
      " 8   Others         5788 non-null   int64 \n",
      " 9   cons           5788 non-null   object\n",
      "dtypes: int64(9), object(1)\n",
      "memory usage: 452.3+ KB\n"
     ]
    }
   ],
   "source": [
    "df.info()"
   ]
  },
  {
   "cell_type": "code",
   "execution_count": 6,
   "metadata": {
    "colab": {
     "base_uri": "https://localhost:8080/",
     "height": 272
    },
    "colab_type": "code",
    "id": "v7nbYDVi9hYZ",
    "outputId": "11bb130a-ccd1-48a0-d4ee-253c71aa62df",
    "scrolled": true
   },
   "outputs": [
    {
     "name": "stdout",
     "output_type": "stream",
     "text": [
      "There are 5788 rows in total.\n",
      "423 rows involve more than 1 departments.\n",
      "5365 rows involve only 1 departments.\n",
      "0 rows are considered no value.\n",
      "\n",
      "Feedback to each department:\n",
      "facility_ind     1988\n",
      "security_ind     65  \n",
      "pricing_ind      1273\n",
      "location_ind     66  \n",
      "fb_ind           408 \n",
      "housekeep_ind    180 \n",
      "frontoff_ind     970 \n",
      "Others           1296\n",
      "dtype: int64\n"
     ]
    }
   ],
   "source": [
    "cols = ['facility_ind','security_ind','pricing_ind','location_ind','fb_ind','housekeep_ind','frontoff_ind','Others']\n",
    "print('There are',len(df),'rows in total.')\n",
    "print(len(df[df[cols].sum(axis=1)>1]),'rows involve more than 1 departments.')\n",
    "print(len(df[df[cols].sum(axis=1)==1]),'rows involve only 1 departments.')\n",
    "print(len(df[df[cols].sum(axis=1)==0]),'rows are considered no value.')\n",
    "print('')\n",
    "print('Feedback to each department:')\n",
    "print(df[cols].sum())"
   ]
  },
  {
   "cell_type": "code",
   "execution_count": 7,
   "metadata": {
    "colab": {
     "base_uri": "https://localhost:8080/",
     "height": 34
    },
    "colab_type": "code",
    "id": "0ODas8Ee9hYc",
    "outputId": "9dc7c11d-4179-4d1d-df1b-9421aac7d4f7"
   },
   "outputs": [
    {
     "name": "stdout",
     "output_type": "stream",
     "text": [
      "5788 5788\n"
     ]
    }
   ],
   "source": [
    "Y = df[cols]\n",
    "X = df['cons']\n",
    "print(len(Y),len(X))"
   ]
  },
  {
   "cell_type": "markdown",
   "metadata": {
    "colab_type": "text",
    "id": "q5gtfDpI9m8V"
   },
   "source": [
    "# SVC"
   ]
  },
  {
   "cell_type": "markdown",
   "metadata": {
    "colab_type": "text",
    "id": "7PVuVuam4Yeu"
   },
   "source": [
    "## 1. Facility_ind"
   ]
  },
  {
   "cell_type": "code",
   "execution_count": 8,
   "metadata": {
    "colab": {
     "base_uri": "https://localhost:8080/",
     "height": 34
    },
    "colab_type": "code",
    "id": "k3xPG7wf9hYg",
    "outputId": "3e1ec5c8-50bb-41ad-ae19-bd2aa60572ff",
    "scrolled": false
   },
   "outputs": [
    {
     "name": "stdout",
     "output_type": "stream",
     "text": [
      "4630 1158 4630 1158\n"
     ]
    }
   ],
   "source": [
    "y = Y.iloc[:,0]\n",
    "X_train, X_test, y_train, y_test = train_test_split(X, y, test_size=0.2, stratify=y, random_state=111)\n",
    "print(len(X_train), len(X_test), len(y_train), len(y_test))"
   ]
  },
  {
   "cell_type": "code",
   "execution_count": 9,
   "metadata": {
    "colab": {},
    "colab_type": "code",
    "id": "SvQuTN6d9hYk"
   },
   "outputs": [],
   "source": [
    "from sklearn.model_selection import StratifiedKFold\n",
    "from sklearn.preprocessing import FunctionTransformer\n",
    "\n",
    "max_f = 5000\n",
    "\n",
    "cv_set = StratifiedKFold(n_splits=3, shuffle=True, random_state=111)\n",
    "\n",
    "def reshape_for_resampling(X_train):\n",
    "    return X_train.values.reshape(-1,1)\n",
    "\n",
    "ros = RandomOverSampler()\n",
    "rus = RandomUnderSampler()\n",
    "\n",
    "def ravel_resampled_data(X_train):\n",
    "    return X_train.ravel()\n",
    "\n",
    "f_reshape = FunctionTransformer(reshape_for_resampling)\n",
    "f_ravel = FunctionTransformer(ravel_resampled_data)\n",
    "\n",
    "cv = CountVectorizer(max_features=max_f, ngram_range=(1,2))\n",
    "\n",
    "tfidf = TfidfTransformer()"
   ]
  },
  {
   "cell_type": "code",
   "execution_count": 10,
   "metadata": {
    "colab": {},
    "colab_type": "code",
    "id": "25xgYYWrNjNj"
   },
   "outputs": [],
   "source": [
    "sv = LinearSVC(random_state = 111)"
   ]
  },
  {
   "cell_type": "code",
   "execution_count": 11,
   "metadata": {
    "colab": {
     "base_uri": "https://localhost:8080/",
     "height": 547
    },
    "colab_type": "code",
    "id": "CjRK3NHi9hYp",
    "outputId": "f70932df-c6bd-490e-d490-42c036f8b17a",
    "scrolled": true
   },
   "outputs": [
    {
     "name": "stdout",
     "output_type": "stream",
     "text": [
      "Mean cross validation accuracy (no resampling): 0.8218143781543928\n",
      "Mean cross validation f1 score (no resampling): 0.7295999045621785\n",
      "Test accuracy (no resampling) 0.8376511226252159\n",
      "Test f1 score (no resampling) 0.7545691906005222\n",
      "\n",
      "Mean cross validation accuracy (ROS): 0.8127435227564006\n",
      "Mean cross validation f1 score (ROS): 0.7186163892650734\n",
      "Test accuracy (ROS) 0.8255613126079447\n",
      "Test f1 score (ROS) 0.7430025445292622\n",
      "\n",
      "Mean cross validation accuracy (RUS): 0.7967609864371606\n",
      "Mean cross validation f1 score (RUS): 0.7285921766454436\n",
      "Test accuracy (RUS) 0.8143350604490501\n",
      "Test f1 score (RUS) 0.7443519619500594\n"
     ]
    }
   ],
   "source": [
    "from imblearn.pipeline import Pipeline\n",
    "from sklearn.model_selection import cross_val_score\n",
    "\n",
    "ppl = Pipeline([('countVec',cv),('tfidf',tfidf),('svc',sv)])\n",
    "val_score = cross_validate(ppl, X_train, y_train, cv=cv_set, scoring=['accuracy','f1'])\n",
    "print('Mean cross validation accuracy (no resampling):', val_score['test_accuracy'].mean())\n",
    "print('Mean cross validation f1 score (no resampling):', val_score['test_f1'].mean())\n",
    "ppl.fit(X_train, y_train)\n",
    "y_pred = ppl.predict(X_test)\n",
    "print('Test accuracy (no resampling)',accuracy_score(y_pred, y_test))\n",
    "print('Test f1 score (no resampling)',f1_score(y_pred, y_test))\n",
    "print('')\n",
    "\n",
    "ppl = Pipeline([('reshape',f_reshape),('resample',ros),('ravel',f_ravel),('countVec',cv),('tfidf',tfidf),('svc',sv)])\n",
    "val_score = cross_validate(ppl, X_train, y_train, cv=cv_set, scoring=['accuracy','f1'])\n",
    "print('Mean cross validation accuracy (ROS):', val_score['test_accuracy'].mean())\n",
    "print('Mean cross validation f1 score (ROS):', val_score['test_f1'].mean())\n",
    "ppl.fit(X_train, y_train)\n",
    "y_pred = ppl.predict(X_test)\n",
    "print('Test accuracy (ROS)',accuracy_score(y_pred, y_test))\n",
    "print('Test f1 score (ROS)',f1_score(y_pred, y_test))\n",
    "print('')\n",
    "\n",
    "ppl = Pipeline([('reshape',f_reshape),('resample',rus),('ravel',f_ravel),('countVec',cv),('tfidf',tfidf),('svc',sv)])\n",
    "val_score = cross_validate(ppl, X_train, y_train, cv=cv_set, scoring=['accuracy','f1'])\n",
    "print('Mean cross validation accuracy (RUS):', val_score['test_accuracy'].mean())\n",
    "print('Mean cross validation f1 score (RUS):', val_score['test_f1'].mean())\n",
    "ppl.fit(X_train, y_train)\n",
    "y_pred = ppl.predict(X_test)\n",
    "print('Test accuracy (RUS)',accuracy_score(y_pred, y_test))\n",
    "print('Test f1 score (RUS)',f1_score(y_pred, y_test))"
   ]
  },
  {
   "cell_type": "markdown",
   "metadata": {
    "colab_type": "text",
    "id": "COvbdsX19hYt"
   },
   "source": [
    "### Grid Search"
   ]
  },
  {
   "cell_type": "code",
   "execution_count": 12,
   "metadata": {
    "colab": {
     "base_uri": "https://localhost:8080/",
     "height": 173
    },
    "colab_type": "code",
    "id": "WT-AfscI9hYv",
    "outputId": "613de349-cfb6-41cc-b479-55767d3ec4be",
    "scrolled": true
   },
   "outputs": [
    {
     "name": "stdout",
     "output_type": "stream",
     "text": [
      "Fitting 3 folds for each of 96 candidates, totalling 288 fits\n"
     ]
    },
    {
     "name": "stderr",
     "output_type": "stream",
     "text": [
      "[Parallel(n_jobs=-1)]: Using backend LokyBackend with 4 concurrent workers.\n",
      "[Parallel(n_jobs=-1)]: Done  42 tasks      | elapsed:   10.4s\n",
      "[Parallel(n_jobs=-1)]: Done 192 tasks      | elapsed:   33.2s\n"
     ]
    },
    {
     "name": "stdout",
     "output_type": "stream",
     "text": [
      "Best score: 0.821814 using {'countVec__analyzer': 'word', 'countVec__ngram_range': (1, 2), 'svc__C': 1, 'svc__penalty': 'l2', 'tfidf__use_idf': True}\n"
     ]
    },
    {
     "name": "stderr",
     "output_type": "stream",
     "text": [
      "[Parallel(n_jobs=-1)]: Done 288 out of 288 | elapsed:  1.1min finished\n"
     ]
    }
   ],
   "source": [
    "from sklearn.model_selection import GridSearchCV\n",
    "\n",
    "ppl = Pipeline([('countVec',cv),('tfidf',tfidf),('svc',sv)])\n",
    "\n",
    "param_grid = {\n",
    "    'countVec__ngram_range': [(1,2), (1,3)],\n",
    "    'countVec__analyzer': ['word','char_wb'],\n",
    "    'tfidf__use_idf': [True, False],\n",
    "    'svc__C': [0.001,0.01,0.1,1,10,20],\n",
    "    'svc__penalty':['l1','l2']\n",
    "}\n",
    "\n",
    "kfold_splits = 5\n",
    "grid = GridSearchCV(estimator=ppl,  \n",
    "                    n_jobs=-1, \n",
    "                    verbose=1,\n",
    "                    return_train_score=True,\n",
    "                    cv=cv_set,\n",
    "                    param_grid=param_grid,)\n",
    "#grid.get_params\n",
    "\n",
    "grid_result = grid.fit(X_train, y_train)\n",
    "\n",
    "# summarize results\n",
    "print(\"Best score: %f using %s\" % (grid_result.best_score_, grid_result.best_params_))"
   ]
  },
  {
   "cell_type": "markdown",
   "metadata": {
    "colab_type": "text",
    "id": "JbSVr7FY9hYy"
   },
   "source": [
    "### Final prediction"
   ]
  },
  {
   "cell_type": "code",
   "execution_count": 13,
   "metadata": {},
   "outputs": [],
   "source": [
    "# Definition of the best model\n",
    "cv = CountVectorizer(max_features=max_f, analyzer='word',ngram_range=(1,2))\n",
    "tfidf = TfidfTransformer(use_idf=True)\n",
    "sv = LinearSVC(random_state = 111,C=1,penalty='l2')\n",
    "ppl = Pipeline([('countVec',cv),('tfidf',tfidf),('svc',sv)])"
   ]
  },
  {
   "cell_type": "code",
   "execution_count": 15,
   "metadata": {
    "colab": {
     "base_uri": "https://localhost:8080/",
     "height": 221
    },
    "colab_type": "code",
    "id": "Pz9BbK3N9hYz",
    "outputId": "95f016a9-2769-44ee-bac4-a6c56526242d",
    "scrolled": true
   },
   "outputs": [
    {
     "name": "stdout",
     "output_type": "stream",
     "text": [
      "-------------Predicting category facility_ind ...-----------\n",
      "Test accuracy 0.8376511226252159\n",
      "              precision    recall  f1-score   support\n",
      "\n",
      "           0       0.90      0.86      0.88       790\n",
      "           1       0.73      0.79      0.75       368\n",
      "\n",
      "    accuracy                           0.84      1158\n",
      "   macro avg       0.81      0.82      0.82      1158\n",
      "weighted avg       0.84      0.84      0.84      1158\n",
      "\n",
      "Test f1: 0.7545691906005222\n"
     ]
    }
   ],
   "source": [
    "print('-------------Predicting category',y.name,'...-----------')\n",
    "ppl.fit(X_train, y_train)\n",
    "y_pred = ppl.predict(X_test)\n",
    "print('Test accuracy',accuracy_score(y_pred, y_test))\n",
    "print(classification_report(y_pred, y_test))\n",
    "print('Test f1:',f1_score(y_pred, y_test))"
   ]
  },
  {
   "cell_type": "markdown",
   "metadata": {
    "colab_type": "text",
    "id": "2LoDhLbHgDrh"
   },
   "source": [
    "## 2. Security_Ind"
   ]
  },
  {
   "cell_type": "code",
   "execution_count": 16,
   "metadata": {
    "colab": {
     "base_uri": "https://localhost:8080/",
     "height": 34
    },
    "colab_type": "code",
    "id": "W7lx8ugM9hY8",
    "outputId": "ba673097-764d-4317-aaeb-b1052fe6d515",
    "scrolled": true
   },
   "outputs": [
    {
     "name": "stdout",
     "output_type": "stream",
     "text": [
      "4630 1158 4630 1158\n"
     ]
    }
   ],
   "source": [
    "y = Y.iloc[:,1]\n",
    "train_index = X_train.index\n",
    "test_index = X_test.index\n",
    "y_train = Y.loc[train_index,y.name]\n",
    "y_test = Y.loc[test_index,y.name]\n",
    "print(len(X_train), len(X_test), len(y_train), len(y_test))"
   ]
  },
  {
   "cell_type": "code",
   "execution_count": 17,
   "metadata": {
    "colab": {
     "base_uri": "https://localhost:8080/",
     "height": 547
    },
    "colab_type": "code",
    "id": "LZeV7n-59hY_",
    "outputId": "d0d5aff1-5712-4acb-ade8-3cacb98ddb12"
   },
   "outputs": [
    {
     "name": "stdout",
     "output_type": "stream",
     "text": [
      "Mean cross validation accuracy (no resampling): 0.9887687108866494\n",
      "Mean cross validation f1 score (no resampling): 0.2575757575757575\n",
      "Test accuracy (no resampling) 0.9905008635578584\n",
      "Test f1 score (no resampling) 0.35294117647058826\n",
      "\n",
      "Mean cross validation accuracy (ROS): 0.9831533461607774\n",
      "Mean cross validation f1 score (ROS): 0.20319865319865316\n",
      "Test accuracy (ROS) 0.9775474956822107\n",
      "Test f1 score (ROS) 0.1875\n",
      "\n",
      "Mean cross validation accuracy (RUS): 0.7308865767402398\n",
      "Mean cross validation f1 score (RUS): 0.06905446217729874\n",
      "Test accuracy (RUS) 0.7573402417962003\n",
      "Test f1 score (RUS) 0.0726072607260726\n"
     ]
    }
   ],
   "source": [
    "ppl = Pipeline([('countVec',cv),('tfidf',tfidf),('svc',sv)])\n",
    "val_score = cross_validate(ppl, X_train, y_train, cv=cv_set, scoring=['accuracy','f1'])\n",
    "print('Mean cross validation accuracy (no resampling):', val_score['test_accuracy'].mean())\n",
    "print('Mean cross validation f1 score (no resampling):', val_score['test_f1'].mean())\n",
    "ppl.fit(X_train, y_train)\n",
    "y_pred = ppl.predict(X_test)\n",
    "print('Test accuracy (no resampling)',accuracy_score(y_pred, y_test))\n",
    "print('Test f1 score (no resampling)',f1_score(y_pred, y_test))\n",
    "print('')\n",
    "\n",
    "ppl = Pipeline([('reshape',f_reshape),('resample',ros),('ravel',f_ravel),('countVec',cv),('tfidf',tfidf),('svc',sv)])\n",
    "val_score = cross_validate(ppl, X_train, y_train, cv=cv_set, scoring=['accuracy','f1'])\n",
    "print('Mean cross validation accuracy (ROS):', val_score['test_accuracy'].mean())\n",
    "print('Mean cross validation f1 score (ROS):', val_score['test_f1'].mean())\n",
    "ppl.fit(X_train, y_train)\n",
    "y_pred = ppl.predict(X_test)\n",
    "print('Test accuracy (ROS)',accuracy_score(y_pred, y_test))\n",
    "print('Test f1 score (ROS)',f1_score(y_pred, y_test))\n",
    "print('')\n",
    "\n",
    "ppl = Pipeline([('reshape',f_reshape),('resample',rus),('ravel',f_ravel),('countVec',cv),('tfidf',tfidf),('svc',sv)])\n",
    "val_score = cross_validate(ppl, X_train, y_train, cv=cv_set, scoring=['accuracy','f1'])\n",
    "print('Mean cross validation accuracy (RUS):', val_score['test_accuracy'].mean())\n",
    "print('Mean cross validation f1 score (RUS):', val_score['test_f1'].mean())\n",
    "ppl.fit(X_train, y_train)\n",
    "y_pred = ppl.predict(X_test)\n",
    "print('Test accuracy (RUS)',accuracy_score(y_pred, y_test))\n",
    "print('Test f1 score (RUS)',f1_score(y_pred, y_test))"
   ]
  },
  {
   "cell_type": "markdown",
   "metadata": {
    "colab_type": "text",
    "id": "Is3sTbv74uv_"
   },
   "source": [
    "### Grid Search"
   ]
  },
  {
   "cell_type": "code",
   "execution_count": 18,
   "metadata": {
    "colab": {
     "base_uri": "https://localhost:8080/",
     "height": 156
    },
    "colab_type": "code",
    "id": "AkdP-6KT9hZD",
    "outputId": "de9c75eb-156e-4adb-ba93-029d6d28279e"
   },
   "outputs": [
    {
     "name": "stdout",
     "output_type": "stream",
     "text": [
      "Fitting 3 folds for each of 96 candidates, totalling 288 fits\n"
     ]
    },
    {
     "name": "stderr",
     "output_type": "stream",
     "text": [
      "[Parallel(n_jobs=-1)]: Using backend LokyBackend with 4 concurrent workers.\n",
      "[Parallel(n_jobs=-1)]: Done  42 tasks      | elapsed:   13.5s\n",
      "[Parallel(n_jobs=-1)]: Done 192 tasks      | elapsed:   32.3s\n",
      "[Parallel(n_jobs=-1)]: Done 288 out of 288 | elapsed:   57.2s finished\n"
     ]
    },
    {
     "name": "stdout",
     "output_type": "stream",
     "text": [
      "Best score: 0.990280 using {'countVec__analyzer': 'char_wb', 'countVec__ngram_range': (1, 3), 'svc__C': 1, 'svc__penalty': 'l2', 'tfidf__use_idf': True}\n"
     ]
    }
   ],
   "source": [
    "ppl = Pipeline([('countVec',cv),('tfidf',tfidf),('svc',sv)])\n",
    "\n",
    "param_grid = {\n",
    "    'countVec__ngram_range': [(1,2), (1,3)],\n",
    "    'countVec__analyzer': ['word','char_wb'],\n",
    "    'tfidf__use_idf': [True, False],\n",
    "    'svc__C': [0.001,0.01,0.1,1,10,20],\n",
    "    'svc__penalty':['l1','l2']\n",
    "}\n",
    "\n",
    "kfold_splits = 5\n",
    "grid = GridSearchCV(estimator=ppl,  \n",
    "                    n_jobs=-1, \n",
    "                    verbose=1,\n",
    "                    return_train_score=True,\n",
    "                    cv=cv_set,\n",
    "                    param_grid=param_grid,)\n",
    "#grid.get_params\n",
    "\n",
    "grid_result = grid.fit(X_train, y_train)\n",
    "\n",
    "# summarize results\n",
    "print(\"Best score: %f using %s\" % (grid_result.best_score_, grid_result.best_params_))"
   ]
  },
  {
   "cell_type": "markdown",
   "metadata": {
    "colab_type": "text",
    "id": "nIGxmq_n488r"
   },
   "source": [
    "### Final Prediction"
   ]
  },
  {
   "cell_type": "code",
   "execution_count": 19,
   "metadata": {},
   "outputs": [],
   "source": [
    "# Definition of the best model\n",
    "cv = CountVectorizer(max_features=max_f, analyzer='char_wb',ngram_range=(1,3))\n",
    "tfidf = TfidfTransformer(use_idf=True)\n",
    "sv = LinearSVC(random_state = 111,C=1,penalty='l2')\n",
    "ppl = Pipeline([('countVec',cv),('tfidf',tfidf),('svc',sv)])"
   ]
  },
  {
   "cell_type": "code",
   "execution_count": 20,
   "metadata": {
    "colab": {
     "base_uri": "https://localhost:8080/",
     "height": 221
    },
    "colab_type": "code",
    "id": "Pz9BbK3N9hYz",
    "outputId": "95f016a9-2769-44ee-bac4-a6c56526242d"
   },
   "outputs": [
    {
     "name": "stdout",
     "output_type": "stream",
     "text": [
      "-------------Predicting category security_ind ...-----------\n",
      "Test accuracy 0.9896373056994818\n",
      "              precision    recall  f1-score   support\n",
      "\n",
      "           0       1.00      0.99      0.99      1156\n",
      "           1       0.14      1.00      0.25         2\n",
      "\n",
      "    accuracy                           0.99      1158\n",
      "   macro avg       0.57      0.99      0.62      1158\n",
      "weighted avg       1.00      0.99      0.99      1158\n",
      "\n",
      "Test f1: 0.25\n"
     ]
    }
   ],
   "source": [
    "print('-------------Predicting category',y.name,'...-----------')\n",
    "ppl.fit(X_train, y_train)\n",
    "y_pred = ppl.predict(X_test)\n",
    "print('Test accuracy',accuracy_score(y_pred, y_test))\n",
    "print(classification_report(y_pred, y_test))\n",
    "print('Test f1:',f1_score(y_pred, y_test))"
   ]
  },
  {
   "cell_type": "markdown",
   "metadata": {
    "colab_type": "text",
    "id": "WfnHNm-Q5C8Z"
   },
   "source": [
    "## Pricing_Ind"
   ]
  },
  {
   "cell_type": "code",
   "execution_count": 21,
   "metadata": {
    "colab": {
     "base_uri": "https://localhost:8080/",
     "height": 34
    },
    "colab_type": "code",
    "id": "17IuL__y9hZL",
    "outputId": "52c4c1a9-dce1-4364-86cf-3594a1e861a7"
   },
   "outputs": [
    {
     "name": "stdout",
     "output_type": "stream",
     "text": [
      "4630 1158 4630 1158\n"
     ]
    }
   ],
   "source": [
    "y = Y.iloc[:,2]\n",
    "train_index = X_train.index\n",
    "test_index = X_test.index\n",
    "y_train = Y.loc[train_index,y.name]\n",
    "y_test = Y.loc[test_index,y.name]\n",
    "print(len(X_train), len(X_test), len(y_train), len(y_test))"
   ]
  },
  {
   "cell_type": "code",
   "execution_count": 22,
   "metadata": {
    "colab": {
     "base_uri": "https://localhost:8080/",
     "height": 547
    },
    "colab_type": "code",
    "id": "ZJpE8Ui59hZO",
    "outputId": "9285dfa3-c8dc-40bd-b265-f5b7b2bddb5f"
   },
   "outputs": [
    {
     "name": "stdout",
     "output_type": "stream",
     "text": [
      "Mean cross validation accuracy (no resampling): 0.929806122026378\n",
      "Mean cross validation f1 (no resampling): 0.8319572843382367\n",
      "Test accuracy (no resampling) 0.9300518134715026\n",
      "Test f1 score (no resampling) 0.8316008316008315\n",
      "\n",
      "Mean cross validation accuracy (ROS): 0.922245793303537\n",
      "Mean cross validation f1 (ROS): 0.8271851503235657\n",
      "Test accuracy (ROS) 0.9214162348877375\n",
      "Test f1 score (ROS) 0.827977315689981\n",
      "\n",
      "Mean cross validation accuracy (RUS): 0.9092857094886148\n",
      "Mean cross validation f1 (RUS): 0.8110738211667826\n",
      "Test accuracy (RUS) 0.9119170984455959\n",
      "Test f1 score (RUS) 0.8158844765342962\n"
     ]
    }
   ],
   "source": [
    "ppl = Pipeline([('countVec',cv),('tfidf',tfidf),('svc',sv)])\n",
    "val_score = cross_validate(ppl, X_train, y_train, cv=cv_set, scoring=['accuracy','f1'])\n",
    "print('Mean cross validation accuracy (no resampling):', val_score['test_accuracy'].mean())\n",
    "print('Mean cross validation f1 (no resampling):', val_score['test_f1'].mean())\n",
    "ppl.fit(X_train, y_train)\n",
    "y_pred = ppl.predict(X_test)\n",
    "print('Test accuracy (no resampling)',accuracy_score(y_pred, y_test))\n",
    "print('Test f1 score (no resampling)',f1_score(y_pred, y_test))\n",
    "print('')\n",
    "\n",
    "ppl = Pipeline([('reshape',f_reshape),('resample',ros),('ravel',f_ravel),('countVec',cv),('tfidf',tfidf),('svc',sv)])\n",
    "val_score = cross_validate(ppl, X_train, y_train, cv=cv_set, scoring=['accuracy','f1'])\n",
    "print('Mean cross validation accuracy (ROS):', val_score['test_accuracy'].mean())\n",
    "print('Mean cross validation f1 (ROS):', val_score['test_f1'].mean())\n",
    "ppl.fit(X_train, y_train)\n",
    "y_pred = ppl.predict(X_test)\n",
    "print('Test accuracy (ROS)',accuracy_score(y_pred, y_test))\n",
    "print('Test f1 score (ROS)',f1_score(y_pred, y_test))\n",
    "print('')\n",
    "\n",
    "ppl = Pipeline([('reshape',f_reshape),('resample',rus),('ravel',f_ravel),('countVec',cv),('tfidf',tfidf),('svc',sv)])\n",
    "val_score = cross_validate(ppl, X_train, y_train, cv=cv_set, scoring=['accuracy','f1'])\n",
    "print('Mean cross validation accuracy (RUS):', val_score['test_accuracy'].mean())\n",
    "print('Mean cross validation f1 (RUS):', val_score['test_f1'].mean())\n",
    "ppl.fit(X_train, y_train)\n",
    "y_pred = ppl.predict(X_test)\n",
    "print('Test accuracy (RUS)',accuracy_score(y_pred, y_test))\n",
    "print('Test f1 score (RUS)',f1_score(y_pred, y_test))"
   ]
  },
  {
   "cell_type": "markdown",
   "metadata": {
    "colab_type": "text",
    "id": "93uwvLtS5Z58"
   },
   "source": [
    "### Grid Search"
   ]
  },
  {
   "cell_type": "code",
   "execution_count": 23,
   "metadata": {
    "colab": {
     "base_uri": "https://localhost:8080/",
     "height": 156
    },
    "colab_type": "code",
    "id": "xT6qS35C9hZR",
    "outputId": "64cc9f5b-9f76-489c-ef2a-25fac185f062"
   },
   "outputs": [
    {
     "name": "stdout",
     "output_type": "stream",
     "text": [
      "Fitting 3 folds for each of 96 candidates, totalling 288 fits\n"
     ]
    },
    {
     "name": "stderr",
     "output_type": "stream",
     "text": [
      "[Parallel(n_jobs=-1)]: Using backend LokyBackend with 4 concurrent workers.\n",
      "[Parallel(n_jobs=-1)]: Done  42 tasks      | elapsed:    3.6s\n",
      "[Parallel(n_jobs=-1)]: Done 192 tasks      | elapsed:   26.0s\n"
     ]
    },
    {
     "name": "stdout",
     "output_type": "stream",
     "text": [
      "Best score: 0.935205 using {'countVec__analyzer': 'word', 'countVec__ngram_range': (1, 2), 'svc__C': 1, 'svc__penalty': 'l2', 'tfidf__use_idf': False}\n"
     ]
    },
    {
     "name": "stderr",
     "output_type": "stream",
     "text": [
      "[Parallel(n_jobs=-1)]: Done 288 out of 288 | elapsed:   52.8s finished\n"
     ]
    }
   ],
   "source": [
    "ppl = Pipeline([('countVec',cv),('tfidf',tfidf),('svc',sv)])\n",
    "\n",
    "param_grid = {\n",
    "    'countVec__ngram_range': [(1,2), (1,3)],\n",
    "    'countVec__analyzer': ['word','char_wb'],\n",
    "    'tfidf__use_idf': [True, False],\n",
    "    'svc__C': [0.001,0.01,0.1,1,10,20],\n",
    "    'svc__penalty':['l1','l2']\n",
    "}\n",
    "\n",
    "kfold_splits = 5\n",
    "grid = GridSearchCV(estimator=ppl,  \n",
    "                    n_jobs=-1, \n",
    "                    verbose=1,\n",
    "                    return_train_score=True,\n",
    "                    cv=cv_set,\n",
    "                    param_grid=param_grid,)\n",
    "#grid.get_params\n",
    "\n",
    "grid_result = grid.fit(X_train, y_train)\n",
    "\n",
    "# summarize results\n",
    "print(\"Best score: %f using %s\" % (grid_result.best_score_, grid_result.best_params_))"
   ]
  },
  {
   "cell_type": "markdown",
   "metadata": {
    "colab_type": "text",
    "id": "sEseYosf5jJd"
   },
   "source": [
    "### Final Prediction"
   ]
  },
  {
   "cell_type": "code",
   "execution_count": 24,
   "metadata": {},
   "outputs": [],
   "source": [
    "# Definition of the best model\n",
    "cv = CountVectorizer(max_features=max_f, analyzer='word',ngram_range=(1,2))\n",
    "tfidf = TfidfTransformer(use_idf=False)\n",
    "sv = LinearSVC(random_state = 111,C=1,penalty='l2')\n",
    "ppl = Pipeline([('countVec',cv),('tfidf',tfidf),('svc',sv)])"
   ]
  },
  {
   "cell_type": "code",
   "execution_count": 25,
   "metadata": {
    "colab": {
     "base_uri": "https://localhost:8080/",
     "height": 221
    },
    "colab_type": "code",
    "id": "Pz9BbK3N9hYz",
    "outputId": "95f016a9-2769-44ee-bac4-a6c56526242d"
   },
   "outputs": [
    {
     "name": "stdout",
     "output_type": "stream",
     "text": [
      "-------------Predicting category pricing_ind ...-----------\n",
      "Test accuracy 0.9317789291882557\n",
      "              precision    recall  f1-score   support\n",
      "\n",
      "           0       0.96      0.95      0.96       919\n",
      "           1       0.82      0.86      0.84       239\n",
      "\n",
      "    accuracy                           0.93      1158\n",
      "   macro avg       0.89      0.91      0.90      1158\n",
      "weighted avg       0.93      0.93      0.93      1158\n",
      "\n",
      "Test f1: 0.8391038696537678\n"
     ]
    }
   ],
   "source": [
    "print('-------------Predicting category',y.name,'...-----------')\n",
    "ppl.fit(X_train, y_train)\n",
    "y_pred = ppl.predict(X_test)\n",
    "print('Test accuracy',accuracy_score(y_pred, y_test))\n",
    "print(classification_report(y_pred, y_test))\n",
    "print('Test f1:',f1_score(y_pred, y_test))"
   ]
  },
  {
   "cell_type": "markdown",
   "metadata": {
    "colab_type": "text",
    "id": "_knG2wVN5lsU"
   },
   "source": [
    "## Location_Ind"
   ]
  },
  {
   "cell_type": "code",
   "execution_count": 26,
   "metadata": {
    "colab": {
     "base_uri": "https://localhost:8080/",
     "height": 34
    },
    "colab_type": "code",
    "id": "bEcVqhpZ5sDr",
    "outputId": "381b2a34-8a45-43f4-eb9b-5f8101d79454"
   },
   "outputs": [
    {
     "name": "stdout",
     "output_type": "stream",
     "text": [
      "4630 1158 4630 1158\n"
     ]
    }
   ],
   "source": [
    "y = Y.iloc[:,3]\n",
    "train_index = X_train.index\n",
    "test_index = X_test.index\n",
    "y_train = Y.loc[train_index,y.name]\n",
    "y_test = Y.loc[test_index,y.name]\n",
    "print(len(X_train), len(X_test), len(y_train), len(y_test))"
   ]
  },
  {
   "cell_type": "code",
   "execution_count": 27,
   "metadata": {
    "colab": {
     "base_uri": "https://localhost:8080/",
     "height": 547
    },
    "colab_type": "code",
    "id": "cgAP_-ia5xOV",
    "outputId": "b8c0c172-92d0-4f1f-c174-cc73cb335015"
   },
   "outputs": [
    {
     "name": "stdout",
     "output_type": "stream",
     "text": [
      "Mean cross validation accuracy (no resampling): 0.9896326884912306\n",
      "Mean cross validation f1 (no resampling): 0.2593301435406699\n",
      "Test accuracy (no resampling) 0.9913644214162349\n",
      "Test f1 score (no resampling) 0.375\n",
      "\n",
      "Mean cross validation accuracy (ROS): 0.9889848801820468\n",
      "Mean cross validation f1 (ROS): 0.37542519063049123\n",
      "Test accuracy (ROS) 0.9887737478411054\n",
      "Test f1 score (ROS) 0.380952380952381\n",
      "\n",
      "Mean cross validation accuracy (RUS): 0.8252649717874584\n",
      "Mean cross validation f1 (RUS): 0.10181096942604734\n",
      "Test accuracy (RUS) 0.8160621761658031\n",
      "Test f1 score (RUS) 0.09361702127659574\n"
     ]
    }
   ],
   "source": [
    "ppl = Pipeline([('countVec',cv),('tfidf',tfidf),('svc',sv)])\n",
    "val_score = cross_validate(ppl, X_train, y_train, cv=cv_set, scoring=['accuracy','f1'])\n",
    "print('Mean cross validation accuracy (no resampling):', val_score['test_accuracy'].mean())\n",
    "print('Mean cross validation f1 (no resampling):', val_score['test_f1'].mean())\n",
    "ppl.fit(X_train, y_train)\n",
    "y_pred = ppl.predict(X_test)\n",
    "print('Test accuracy (no resampling)',accuracy_score(y_pred, y_test))\n",
    "print('Test f1 score (no resampling)',f1_score(y_pred, y_test))\n",
    "print('')\n",
    "\n",
    "ppl = Pipeline([('reshape',f_reshape),('resample',ros),('ravel',f_ravel),('countVec',cv),('tfidf',tfidf),('svc',sv)])\n",
    "val_score = cross_validate(ppl, X_train, y_train, cv=cv_set, scoring=['accuracy','f1'])\n",
    "print('Mean cross validation accuracy (ROS):', val_score['test_accuracy'].mean())\n",
    "print('Mean cross validation f1 (ROS):', val_score['test_f1'].mean())\n",
    "ppl.fit(X_train, y_train)\n",
    "y_pred = ppl.predict(X_test)\n",
    "print('Test accuracy (ROS)',accuracy_score(y_pred, y_test))\n",
    "print('Test f1 score (ROS)',f1_score(y_pred, y_test))\n",
    "print('')\n",
    "\n",
    "ppl = Pipeline([('reshape',f_reshape),('resample',rus),('ravel',f_ravel),('countVec',cv),('tfidf',tfidf),('svc',sv)])\n",
    "val_score = cross_validate(ppl, X_train, y_train, cv=cv_set, scoring=['accuracy','f1'])\n",
    "print('Mean cross validation accuracy (RUS):', val_score['test_accuracy'].mean())\n",
    "print('Mean cross validation f1 (RUS):', val_score['test_f1'].mean())\n",
    "ppl.fit(X_train, y_train)\n",
    "y_pred = ppl.predict(X_test)\n",
    "print('Test accuracy (RUS)',accuracy_score(y_pred, y_test))\n",
    "print('Test f1 score (RUS)',f1_score(y_pred, y_test))"
   ]
  },
  {
   "cell_type": "markdown",
   "metadata": {
    "colab_type": "text",
    "id": "IFLdfsye58KY"
   },
   "source": [
    "### Grid Search"
   ]
  },
  {
   "cell_type": "code",
   "execution_count": 28,
   "metadata": {
    "colab": {
     "base_uri": "https://localhost:8080/",
     "height": 156
    },
    "colab_type": "code",
    "id": "8yHyFkzn53Fx",
    "outputId": "481b363c-9073-46a5-87f6-440e82ce3bf5"
   },
   "outputs": [
    {
     "name": "stdout",
     "output_type": "stream",
     "text": [
      "Fitting 3 folds for each of 96 candidates, totalling 288 fits\n"
     ]
    },
    {
     "name": "stderr",
     "output_type": "stream",
     "text": [
      "[Parallel(n_jobs=-1)]: Using backend LokyBackend with 4 concurrent workers.\n",
      "[Parallel(n_jobs=-1)]: Done  42 tasks      | elapsed:    4.5s\n",
      "[Parallel(n_jobs=-1)]: Done 192 tasks      | elapsed:   35.3s\n",
      "[Parallel(n_jobs=-1)]: Done 288 out of 288 | elapsed:  1.3min finished\n"
     ]
    },
    {
     "name": "stdout",
     "output_type": "stream",
     "text": [
      "Best score: 0.989633 using {'countVec__analyzer': 'word', 'countVec__ngram_range': (1, 3), 'svc__C': 1, 'svc__penalty': 'l2', 'tfidf__use_idf': False}\n"
     ]
    }
   ],
   "source": [
    "ppl = Pipeline([('reshape',f_reshape),('resample',ros),('ravel',f_ravel),('countVec',cv),('tfidf',tfidf),('svc',sv)])\n",
    "\n",
    "param_grid = {\n",
    "    'countVec__ngram_range': [(1,2), (1,3)],\n",
    "    'countVec__analyzer': ['word','char_wb'],\n",
    "    'tfidf__use_idf': [True, False],\n",
    "    'svc__C': [0.001,0.01,0.1,1,10,20],\n",
    "    'svc__penalty':['l1','l2']\n",
    "}\n",
    "\n",
    "kfold_splits = 5\n",
    "grid = GridSearchCV(estimator=ppl,  \n",
    "                    n_jobs=-1, \n",
    "                    verbose=1,\n",
    "                    return_train_score=True,\n",
    "                    cv=cv_set,\n",
    "                    param_grid=param_grid,)\n",
    "#grid.get_params\n",
    "\n",
    "grid_result = grid.fit(X_train, y_train)\n",
    "\n",
    "# summarize results\n",
    "print(\"Best score: %f using %s\" % (grid_result.best_score_, grid_result.best_params_))\n",
    "#means = grid_result.cv_results_['mean_test_score']\n",
    "#stds = grid_result.cv_results_['std_test_score']\n",
    "#params = grid_result.cv_results_['params']\n",
    "#for mean, stdev, param in zip(means, stds, params):\n",
    "    #print(\"%f (%f) with: %r\" % (mean, stdev, param))"
   ]
  },
  {
   "cell_type": "markdown",
   "metadata": {
    "colab_type": "text",
    "id": "FECpBL_C6Dk9"
   },
   "source": [
    "### Final Prediction"
   ]
  },
  {
   "cell_type": "code",
   "execution_count": 29,
   "metadata": {},
   "outputs": [],
   "source": [
    "# Definition of the best model\n",
    "cv = CountVectorizer(max_features=max_f, analyzer='word',ngram_range=(1,3))\n",
    "tfidf = TfidfTransformer(use_idf=False)\n",
    "sv = LinearSVC(random_state = 111,C=1,penalty='l2')\n",
    "ppl = Pipeline([('reshape',f_reshape),('resample',ros),('ravel',f_ravel),('countVec',cv),('tfidf',tfidf),('svc',sv)])"
   ]
  },
  {
   "cell_type": "code",
   "execution_count": 30,
   "metadata": {
    "colab": {
     "base_uri": "https://localhost:8080/",
     "height": 221
    },
    "colab_type": "code",
    "id": "Pz9BbK3N9hYz",
    "outputId": "95f016a9-2769-44ee-bac4-a6c56526242d"
   },
   "outputs": [
    {
     "name": "stdout",
     "output_type": "stream",
     "text": [
      "-------------Predicting category location_ind ...-----------\n",
      "Test accuracy 0.9896373056994818\n",
      "              precision    recall  f1-score   support\n",
      "\n",
      "           0       1.00      0.99      0.99      1150\n",
      "           1       0.33      0.50      0.40         8\n",
      "\n",
      "    accuracy                           0.99      1158\n",
      "   macro avg       0.66      0.75      0.70      1158\n",
      "weighted avg       0.99      0.99      0.99      1158\n",
      "\n",
      "Test f1: 0.4\n"
     ]
    }
   ],
   "source": [
    "print('-------------Predicting category',y.name,'...-----------')\n",
    "ppl.fit(X_train, y_train)\n",
    "y_pred = ppl.predict(X_test)\n",
    "print('Test accuracy',accuracy_score(y_pred, y_test))\n",
    "print(classification_report(y_pred, y_test))\n",
    "print('Test f1:',f1_score(y_pred, y_test))"
   ]
  },
  {
   "cell_type": "markdown",
   "metadata": {
    "colab_type": "text",
    "id": "ueUYxCye6N2i"
   },
   "source": [
    "## FB_Ind"
   ]
  },
  {
   "cell_type": "code",
   "execution_count": 31,
   "metadata": {
    "colab": {
     "base_uri": "https://localhost:8080/",
     "height": 34
    },
    "colab_type": "code",
    "id": "OEqSooaV6Pkh",
    "outputId": "11bd0211-20b4-429b-bb0f-b1bbfd6a7923"
   },
   "outputs": [
    {
     "name": "stdout",
     "output_type": "stream",
     "text": [
      "4630 1158 4630 1158\n"
     ]
    }
   ],
   "source": [
    "y = Y.iloc[:,4]\n",
    "train_index = X_train.index\n",
    "test_index = X_test.index\n",
    "y_train = Y.loc[train_index,y.name]\n",
    "y_test = Y.loc[test_index,y.name]\n",
    "print(len(X_train), len(X_test), len(y_train), len(y_test))"
   ]
  },
  {
   "cell_type": "code",
   "execution_count": 32,
   "metadata": {
    "colab": {
     "base_uri": "https://localhost:8080/",
     "height": 547
    },
    "colab_type": "code",
    "id": "sReiVSIE6WIG",
    "outputId": "3dcfdae3-8026-4b60-d2b0-23576398b60b"
   },
   "outputs": [
    {
     "name": "stdout",
     "output_type": "stream",
     "text": [
      "Mean cross validation accuracy (no resampling): 0.9414691900689167\n",
      "Mean cross validation f1 (no resampling): 0.4825925925925925\n",
      "Test accuracy (no resampling) 0.9438687392055267\n",
      "Test f1 (no resampling) 0.5185185185185185\n",
      "\n",
      "Mean cross validation accuracy (ROS): 0.9384453384105834\n",
      "Mean cross validation f1 (ROS): 0.4881040131040131\n",
      "Test accuracy (ROS) 0.9430051813471503\n",
      "Test f1 (ROS) 0.5217391304347826\n",
      "\n",
      "Mean cross validation accuracy (RUS): 0.8652281684402343\n",
      "Mean cross validation f1 (RUS): 0.4731418998988932\n",
      "Test accuracy (RUS) 0.8575129533678757\n",
      "Test f1 (RUS) 0.44816053511705684\n"
     ]
    }
   ],
   "source": [
    "ppl = Pipeline([('countVec',cv),('tfidf',tfidf),('svc',sv)])\n",
    "val_score = cross_validate(ppl, X_train, y_train, cv=cv_set, scoring=['accuracy','f1'])\n",
    "print('Mean cross validation accuracy (no resampling):', val_score['test_accuracy'].mean())\n",
    "print('Mean cross validation f1 (no resampling):', val_score['test_f1'].mean())\n",
    "ppl.fit(X_train, y_train)\n",
    "y_pred = ppl.predict(X_test)\n",
    "print('Test accuracy (no resampling)',accuracy_score(y_pred, y_test))\n",
    "print('Test f1 (no resampling)',f1_score(y_pred, y_test))\n",
    "print('')\n",
    "\n",
    "ppl = Pipeline([('reshape',f_reshape),('resample',ros),('ravel',f_ravel),('countVec',cv),('tfidf',tfidf),('svc',sv)])\n",
    "val_score = cross_validate(ppl, X_train, y_train, cv=cv_set, scoring=['accuracy','f1'])\n",
    "print('Mean cross validation accuracy (ROS):', val_score['test_accuracy'].mean())\n",
    "print('Mean cross validation f1 (ROS):', val_score['test_f1'].mean())\n",
    "ppl.fit(X_train, y_train)\n",
    "y_pred = ppl.predict(X_test)\n",
    "print('Test accuracy (ROS)',accuracy_score(y_pred, y_test))\n",
    "print('Test f1 (ROS)',f1_score(y_pred, y_test))\n",
    "print('')\n",
    "\n",
    "ppl = Pipeline([('reshape',f_reshape),('resample',rus),('ravel',f_ravel),('countVec',cv),('tfidf',tfidf),('svc',sv)])\n",
    "val_score = cross_validate(ppl, X_train, y_train, cv=cv_set, scoring=['accuracy','f1'])\n",
    "print('Mean cross validation accuracy (RUS):', val_score['test_accuracy'].mean())\n",
    "print('Mean cross validation f1 (RUS):', val_score['test_f1'].mean())\n",
    "ppl.fit(X_train, y_train)\n",
    "y_pred = ppl.predict(X_test)\n",
    "print('Test accuracy (RUS)',accuracy_score(y_pred, y_test))\n",
    "print('Test f1 (RUS)',f1_score(y_pred, y_test))"
   ]
  },
  {
   "cell_type": "markdown",
   "metadata": {
    "colab_type": "text",
    "id": "i40RlPSQ6um5"
   },
   "source": [
    "### Grid Search"
   ]
  },
  {
   "cell_type": "code",
   "execution_count": 33,
   "metadata": {
    "colab": {
     "base_uri": "https://localhost:8080/",
     "height": 156
    },
    "colab_type": "code",
    "id": "Y9glTvT06qI4",
    "outputId": "96efe45d-dedf-4abf-ea30-c1238fd366fe"
   },
   "outputs": [
    {
     "name": "stdout",
     "output_type": "stream",
     "text": [
      "Fitting 3 folds for each of 96 candidates, totalling 288 fits\n"
     ]
    },
    {
     "name": "stderr",
     "output_type": "stream",
     "text": [
      "[Parallel(n_jobs=-1)]: Using backend LokyBackend with 4 concurrent workers.\n",
      "[Parallel(n_jobs=-1)]: Done  42 tasks      | elapsed:    4.9s\n",
      "[Parallel(n_jobs=-1)]: Done 192 tasks      | elapsed:   46.4s\n",
      "[Parallel(n_jobs=-1)]: Done 288 out of 288 | elapsed:  1.6min finished\n"
     ]
    },
    {
     "name": "stdout",
     "output_type": "stream",
     "text": [
      "Best score: 0.938230 using {'countVec__analyzer': 'word', 'countVec__ngram_range': (1, 3), 'svc__C': 1, 'svc__penalty': 'l2', 'tfidf__use_idf': False}\n"
     ]
    }
   ],
   "source": [
    "ppl = Pipeline([('reshape',f_reshape),('resample',ros),('ravel',f_ravel),('countVec',cv),('tfidf',tfidf),('svc',sv)])\n",
    "\n",
    "param_grid = {\n",
    "    'countVec__ngram_range': [(1,2), (1,3)],\n",
    "    'countVec__analyzer': ['word','char_wb'],\n",
    "    'tfidf__use_idf': [True, False],\n",
    "    'svc__C': [0.001,0.01,0.1,1,10,20],\n",
    "    'svc__penalty':['l1','l2']\n",
    "}\n",
    "\n",
    "kfold_splits = 5\n",
    "grid = GridSearchCV(estimator=ppl,  \n",
    "                    n_jobs=-1, \n",
    "                    verbose=1,\n",
    "                    return_train_score=True,\n",
    "                    cv=cv_set,\n",
    "                    param_grid=param_grid,)\n",
    "#grid.get_params\n",
    "\n",
    "grid_result = grid.fit(X_train, y_train)\n",
    "\n",
    "# summarize results\n",
    "print(\"Best score: %f using %s\" % (grid_result.best_score_, grid_result.best_params_))"
   ]
  },
  {
   "cell_type": "markdown",
   "metadata": {
    "colab_type": "text",
    "id": "7vePtYmh60YR"
   },
   "source": [
    "### Final Prediction"
   ]
  },
  {
   "cell_type": "code",
   "execution_count": 34,
   "metadata": {},
   "outputs": [],
   "source": [
    "# Definition of the best model\n",
    "cv = CountVectorizer(max_features=max_f, analyzer='word',ngram_range=(1,3))\n",
    "tfidf = TfidfTransformer(use_idf=False)\n",
    "sv = LinearSVC(random_state = 111,C=1,penalty='l2')\n",
    "ppl = Pipeline([('reshape',f_reshape),('resample',ros),('ravel',f_ravel),('countVec',cv),('tfidf',tfidf),('svc',sv)])"
   ]
  },
  {
   "cell_type": "code",
   "execution_count": 35,
   "metadata": {
    "colab": {
     "base_uri": "https://localhost:8080/",
     "height": 221
    },
    "colab_type": "code",
    "id": "Pz9BbK3N9hYz",
    "outputId": "95f016a9-2769-44ee-bac4-a6c56526242d"
   },
   "outputs": [
    {
     "name": "stdout",
     "output_type": "stream",
     "text": [
      "-------------Predicting category fb_ind ...-----------\n",
      "Test accuracy 0.9421416234887737\n",
      "              precision    recall  f1-score   support\n",
      "\n",
      "           0       0.98      0.96      0.97      1101\n",
      "           1       0.44      0.63      0.52        57\n",
      "\n",
      "    accuracy                           0.94      1158\n",
      "   macro avg       0.71      0.79      0.74      1158\n",
      "weighted avg       0.95      0.94      0.95      1158\n",
      "\n",
      "Test f1: 0.5179856115107914\n"
     ]
    }
   ],
   "source": [
    "print('-------------Predicting category',y.name,'...-----------')\n",
    "ppl.fit(X_train, y_train)\n",
    "y_pred = ppl.predict(X_test)\n",
    "print('Test accuracy',accuracy_score(y_pred, y_test))\n",
    "print(classification_report(y_pred, y_test))\n",
    "print('Test f1:',f1_score(y_pred, y_test))"
   ]
  },
  {
   "cell_type": "markdown",
   "metadata": {
    "colab_type": "text",
    "id": "NzPakJ_F66rH"
   },
   "source": [
    "## Housekeep_Ind"
   ]
  },
  {
   "cell_type": "code",
   "execution_count": 36,
   "metadata": {
    "colab": {
     "base_uri": "https://localhost:8080/",
     "height": 34
    },
    "colab_type": "code",
    "id": "m4_Kqi1562Jq",
    "outputId": "ba5b0326-68e7-4bec-b0cc-d7f858123f2d"
   },
   "outputs": [
    {
     "name": "stdout",
     "output_type": "stream",
     "text": [
      "4630 1158 4630 1158\n"
     ]
    }
   ],
   "source": [
    "y = Y.iloc[:,5]\n",
    "train_index = X_train.index\n",
    "test_index = X_test.index\n",
    "y_train = Y.loc[train_index,y.name]\n",
    "y_test = Y.loc[test_index,y.name]\n",
    "print(len(X_train), len(X_test), len(y_train), len(y_test))"
   ]
  },
  {
   "cell_type": "code",
   "execution_count": 37,
   "metadata": {
    "colab": {
     "base_uri": "https://localhost:8080/",
     "height": 547
    },
    "colab_type": "code",
    "id": "POstccBx7BvH",
    "outputId": "756cd9c0-0a5c-456a-d98d-2282964d193a"
   },
   "outputs": [
    {
     "name": "stdout",
     "output_type": "stream",
     "text": [
      "Mean cross validation accuracy (no resampling): 0.9768897533795166\n",
      "Mean cross validation f1 (no resampling): 0.49965112243593257\n",
      "Test accuracy (no resampling) 0.9810017271157168\n",
      "Test f1 score (no resampling) 0.5\n",
      "\n",
      "Mean cross validation accuracy (ROS): 0.9768903130411228\n",
      "Mean cross validation f1 (ROS): 0.5288838161831195\n",
      "Test accuracy (ROS) 0.9827288428324698\n",
      "Test f1 score (ROS) 0.5833333333333333\n",
      "\n",
      "Mean cross validation accuracy (RUS): 0.7928732970896477\n",
      "Mean cross validation f1 (RUS): 0.19992979992979995\n",
      "Test accuracy (RUS) 0.8082901554404145\n",
      "Test f1 score (RUS) 0.1956521739130435\n"
     ]
    }
   ],
   "source": [
    "ppl = Pipeline([('countVec',cv),('tfidf',tfidf),('svc',sv)])\n",
    "val_score = cross_validate(ppl, X_train, y_train, cv=cv_set, scoring=['accuracy','f1'])\n",
    "print('Mean cross validation accuracy (no resampling):', val_score['test_accuracy'].mean())\n",
    "print('Mean cross validation f1 (no resampling):', val_score['test_f1'].mean())\n",
    "ppl.fit(X_train, y_train)\n",
    "y_pred = ppl.predict(X_test)\n",
    "print('Test accuracy (no resampling)',accuracy_score(y_pred, y_test))\n",
    "print('Test f1 score (no resampling)',f1_score(y_pred, y_test))\n",
    "print('')\n",
    "\n",
    "ppl = Pipeline([('reshape',f_reshape),('resample',ros),('ravel',f_ravel),('countVec',cv),('tfidf',tfidf),('svc',sv)])\n",
    "val_score = cross_validate(ppl, X_train, y_train, cv=cv_set, scoring=['accuracy','f1'])\n",
    "print('Mean cross validation accuracy (ROS):', val_score['test_accuracy'].mean())\n",
    "print('Mean cross validation f1 (ROS):', val_score['test_f1'].mean())\n",
    "ppl.fit(X_train, y_train)\n",
    "y_pred = ppl.predict(X_test)\n",
    "print('Test accuracy (ROS)',accuracy_score(y_pred, y_test))\n",
    "print('Test f1 score (ROS)',f1_score(y_pred, y_test))\n",
    "print('')\n",
    "\n",
    "ppl = Pipeline([('reshape',f_reshape),('resample',rus),('ravel',f_ravel),('countVec',cv),('tfidf',tfidf),('svc',sv)])\n",
    "val_score = cross_validate(ppl, X_train, y_train, cv=cv_set, scoring=['accuracy','f1'])\n",
    "print('Mean cross validation accuracy (RUS):', val_score['test_accuracy'].mean())\n",
    "print('Mean cross validation f1 (RUS):', val_score['test_f1'].mean())\n",
    "ppl.fit(X_train, y_train)\n",
    "y_pred = ppl.predict(X_test)\n",
    "print('Test accuracy (RUS)',accuracy_score(y_pred, y_test))\n",
    "print('Test f1 score (RUS)',f1_score(y_pred, y_test))"
   ]
  },
  {
   "cell_type": "markdown",
   "metadata": {
    "colab_type": "text",
    "id": "9tv3oNcb7IbB"
   },
   "source": [
    "### Grid Search"
   ]
  },
  {
   "cell_type": "code",
   "execution_count": 38,
   "metadata": {
    "colab": {
     "base_uri": "https://localhost:8080/",
     "height": 156
    },
    "colab_type": "code",
    "id": "I_3pDmou7Jmj",
    "outputId": "fccd3e07-6a30-42fd-fa7b-2b9c4a1cbf8a"
   },
   "outputs": [
    {
     "name": "stdout",
     "output_type": "stream",
     "text": [
      "Fitting 3 folds for each of 96 candidates, totalling 288 fits\n"
     ]
    },
    {
     "name": "stderr",
     "output_type": "stream",
     "text": [
      "[Parallel(n_jobs=-1)]: Using backend LokyBackend with 4 concurrent workers.\n",
      "[Parallel(n_jobs=-1)]: Done  42 tasks      | elapsed:    4.7s\n",
      "[Parallel(n_jobs=-1)]: Done 192 tasks      | elapsed:   35.2s\n",
      "[Parallel(n_jobs=-1)]: Done 288 out of 288 | elapsed:  1.4min finished\n"
     ]
    },
    {
     "name": "stdout",
     "output_type": "stream",
     "text": [
      "Best score: 0.976890 using {'countVec__analyzer': 'word', 'countVec__ngram_range': (1, 3), 'svc__C': 1, 'svc__penalty': 'l2', 'tfidf__use_idf': False}\n"
     ]
    }
   ],
   "source": [
    "ppl = Pipeline([('reshape',f_reshape),('resample',ros),('ravel',f_ravel),('countVec',cv),('tfidf',tfidf),('svc',sv)])\n",
    "\n",
    "param_grid = {\n",
    "    'countVec__ngram_range': [(1,2), (1,3)],\n",
    "    'countVec__analyzer': ['word','char_wb'],\n",
    "    'tfidf__use_idf': [True, False],\n",
    "    'svc__C': [0.001,0.01,0.1,1,10,20],\n",
    "    'svc__penalty':['l1','l2']\n",
    "}\n",
    "\n",
    "kfold_splits = 5\n",
    "grid = GridSearchCV(estimator=ppl,  \n",
    "                    n_jobs=-1, \n",
    "                    verbose=1,\n",
    "                    return_train_score=True,\n",
    "                    cv=cv_set,\n",
    "                    param_grid=param_grid,)\n",
    "#grid.get_params\n",
    "\n",
    "grid_result = grid.fit(X_train, y_train)\n",
    "\n",
    "# summarize results\n",
    "print(\"Best score: %f using %s\" % (grid_result.best_score_, grid_result.best_params_))"
   ]
  },
  {
   "cell_type": "markdown",
   "metadata": {
    "colab_type": "text",
    "id": "zQQMH1Dd7OAd"
   },
   "source": [
    "### Final Prediction"
   ]
  },
  {
   "cell_type": "code",
   "execution_count": 39,
   "metadata": {},
   "outputs": [],
   "source": [
    "# Definition of the best model\n",
    "cv = CountVectorizer(max_features=max_f, analyzer='word',ngram_range=(1,3))\n",
    "tfidf = TfidfTransformer(use_idf=False)\n",
    "sv = LinearSVC(random_state = 111,C=1,penalty='l2')\n",
    "ppl = Pipeline([('reshape',f_reshape),('resample',ros),('ravel',f_ravel),('countVec',cv),('tfidf',tfidf),('svc',sv)])"
   ]
  },
  {
   "cell_type": "code",
   "execution_count": 40,
   "metadata": {
    "colab": {
     "base_uri": "https://localhost:8080/",
     "height": 221
    },
    "colab_type": "code",
    "id": "Pz9BbK3N9hYz",
    "outputId": "95f016a9-2769-44ee-bac4-a6c56526242d"
   },
   "outputs": [
    {
     "name": "stdout",
     "output_type": "stream",
     "text": [
      "-------------Predicting category housekeep_ind ...-----------\n",
      "Test accuracy 0.9827288428324698\n",
      "              precision    recall  f1-score   support\n",
      "\n",
      "           0       1.00      0.98      0.99      1143\n",
      "           1       0.42      0.93      0.58        15\n",
      "\n",
      "    accuracy                           0.98      1158\n",
      "   macro avg       0.71      0.96      0.79      1158\n",
      "weighted avg       0.99      0.98      0.99      1158\n",
      "\n",
      "Test f1: 0.5833333333333333\n"
     ]
    }
   ],
   "source": [
    "print('-------------Predicting category',y.name,'...-----------')\n",
    "ppl.fit(X_train, y_train)\n",
    "y_pred = ppl.predict(X_test)\n",
    "print('Test accuracy',accuracy_score(y_pred, y_test))\n",
    "print(classification_report(y_pred, y_test))\n",
    "print('Test f1:',f1_score(y_pred, y_test))"
   ]
  },
  {
   "cell_type": "markdown",
   "metadata": {
    "colab_type": "text",
    "id": "mPbEEUyj7S99"
   },
   "source": [
    "## Front Office_Ind"
   ]
  },
  {
   "cell_type": "code",
   "execution_count": 41,
   "metadata": {
    "colab": {
     "base_uri": "https://localhost:8080/",
     "height": 34
    },
    "colab_type": "code",
    "id": "OXl7-91V7bSX",
    "outputId": "15cbcfb3-f3b3-4397-d55b-c29d14e14884"
   },
   "outputs": [
    {
     "name": "stdout",
     "output_type": "stream",
     "text": [
      "4630 1158 4630 1158\n"
     ]
    }
   ],
   "source": [
    "y = Y.iloc[:,6]\n",
    "train_index = X_train.index\n",
    "test_index = X_test.index\n",
    "y_train = Y.loc[train_index,y.name]\n",
    "y_test = Y.loc[test_index,y.name]\n",
    "print(len(X_train), len(X_test), len(y_train), len(y_test))"
   ]
  },
  {
   "cell_type": "code",
   "execution_count": 42,
   "metadata": {
    "colab": {
     "base_uri": "https://localhost:8080/",
     "height": 547
    },
    "colab_type": "code",
    "id": "uoVq07fl7kUy",
    "outputId": "dd4b4658-0d53-4998-e44a-26124abc5381"
   },
   "outputs": [
    {
     "name": "stdout",
     "output_type": "stream",
     "text": [
      "Mean cross validation accuracy (no resampling): 0.9198696100389862\n",
      "Mean cross validation f1 score (no resampling): 0.7401897576779453\n",
      "Test accuracy (no resampling) 0.9196891191709845\n",
      "Test f1 score (no resampling) 0.7365439093484418\n",
      "\n",
      "Mean cross validation accuracy (ROS): 0.914685464580696\n",
      "Mean cross validation f1 score (ROS): 0.7390735847330916\n",
      "Test accuracy (ROS) 0.9101899827288429\n",
      "Test f1 score (ROS) 0.7291666666666665\n",
      "\n",
      "Mean cross validation accuracy (RUS): 0.8790484521438957\n",
      "Mean cross validation f1 score (RUS): 0.7019274649499708\n",
      "Test accuracy (RUS) 0.8713298791018999\n",
      "Test f1 score (RUS) 0.6795698924731183\n"
     ]
    }
   ],
   "source": [
    "ppl = Pipeline([('countVec',cv),('tfidf',tfidf),('svc',sv)])\n",
    "val_score = cross_validate(ppl, X_train, y_train, cv=cv_set, scoring=['accuracy','f1'])\n",
    "print('Mean cross validation accuracy (no resampling):', val_score['test_accuracy'].mean())\n",
    "print('Mean cross validation f1 score (no resampling):', val_score['test_f1'].mean())\n",
    "ppl.fit(X_train, y_train)\n",
    "y_pred = ppl.predict(X_test)\n",
    "print('Test accuracy (no resampling)',accuracy_score(y_pred, y_test))\n",
    "print('Test f1 score (no resampling)',f1_score(y_pred, y_test))\n",
    "print('')\n",
    "\n",
    "ppl = Pipeline([('reshape',f_reshape),('resample',ros),('ravel',f_ravel),('countVec',cv),('tfidf',tfidf),('svc',sv)])\n",
    "val_score = cross_validate(ppl, X_train, y_train, cv=cv_set, scoring=['accuracy','f1'])\n",
    "print('Mean cross validation accuracy (ROS):', val_score['test_accuracy'].mean())\n",
    "print('Mean cross validation f1 score (ROS):', val_score['test_f1'].mean())\n",
    "ppl.fit(X_train, y_train)\n",
    "y_pred = ppl.predict(X_test)\n",
    "print('Test accuracy (ROS)',accuracy_score(y_pred, y_test))\n",
    "print('Test f1 score (ROS)',f1_score(y_pred, y_test))\n",
    "print('')\n",
    "\n",
    "ppl = Pipeline([('reshape',f_reshape),('resample',rus),('ravel',f_ravel),('countVec',cv),('tfidf',tfidf),('svc',sv)])\n",
    "val_score = cross_validate(ppl, X_train, y_train, cv=cv_set, scoring=['accuracy','f1'])\n",
    "print('Mean cross validation accuracy (RUS):', val_score['test_accuracy'].mean())\n",
    "print('Mean cross validation f1 score (RUS):', val_score['test_f1'].mean())\n",
    "ppl.fit(X_train, y_train)\n",
    "y_pred = ppl.predict(X_test)\n",
    "print('Test accuracy (RUS)',accuracy_score(y_pred, y_test))\n",
    "print('Test f1 score (RUS)',f1_score(y_pred, y_test))"
   ]
  },
  {
   "cell_type": "markdown",
   "metadata": {
    "colab_type": "text",
    "id": "m_CXsLAe7nq6"
   },
   "source": [
    "### Grid Search"
   ]
  },
  {
   "cell_type": "code",
   "execution_count": 43,
   "metadata": {
    "colab": {
     "base_uri": "https://localhost:8080/",
     "height": 156
    },
    "colab_type": "code",
    "id": "mYIYktyz7pV6",
    "outputId": "ff9a9e62-a14d-4ba6-cc00-4d619cfb6e16"
   },
   "outputs": [
    {
     "name": "stdout",
     "output_type": "stream",
     "text": [
      "Fitting 3 folds for each of 96 candidates, totalling 288 fits\n"
     ]
    },
    {
     "name": "stderr",
     "output_type": "stream",
     "text": [
      "[Parallel(n_jobs=-1)]: Using backend LokyBackend with 4 concurrent workers.\n",
      "[Parallel(n_jobs=-1)]: Done  42 tasks      | elapsed:   13.6s\n",
      "[Parallel(n_jobs=-1)]: Done 192 tasks      | elapsed:   34.5s\n"
     ]
    },
    {
     "name": "stdout",
     "output_type": "stream",
     "text": [
      "Best score: 0.920734 using {'countVec__analyzer': 'word', 'countVec__ngram_range': (1, 2), 'svc__C': 1, 'svc__penalty': 'l2', 'tfidf__use_idf': False}\n"
     ]
    },
    {
     "name": "stderr",
     "output_type": "stream",
     "text": [
      "[Parallel(n_jobs=-1)]: Done 288 out of 288 | elapsed:  1.0min finished\n"
     ]
    }
   ],
   "source": [
    "ppl = Pipeline([('countVec',cv),('tfidf',tfidf),('svc',sv)])\n",
    "\n",
    "param_grid = {\n",
    "    'countVec__ngram_range': [(1,2), (1,3)],\n",
    "    'countVec__analyzer': ['word','char_wb'],\n",
    "    'tfidf__use_idf': [True, False],\n",
    "    'svc__C': [0.001,0.01,0.1,1,10,20],\n",
    "    'svc__penalty':['l1','l2']\n",
    "}\n",
    "\n",
    "kfold_splits = 5\n",
    "grid = GridSearchCV(estimator=ppl,  \n",
    "                    n_jobs=-1, \n",
    "                    verbose=1,\n",
    "                    return_train_score=True,\n",
    "                    cv=cv_set,\n",
    "                    param_grid=param_grid,)\n",
    "#grid.get_params\n",
    "\n",
    "grid_result = grid.fit(X_train, y_train)\n",
    "\n",
    "# summarize results\n",
    "print(\"Best score: %f using %s\" % (grid_result.best_score_, grid_result.best_params_))"
   ]
  },
  {
   "cell_type": "markdown",
   "metadata": {
    "colab_type": "text",
    "id": "l5sWPkZq7vH3"
   },
   "source": [
    "### Final Prediction"
   ]
  },
  {
   "cell_type": "code",
   "execution_count": 44,
   "metadata": {},
   "outputs": [],
   "source": [
    "# Definition of the best model\n",
    "cv = CountVectorizer(max_features=max_f, analyzer='word',ngram_range=(1,2))\n",
    "tfidf = TfidfTransformer(use_idf=False)\n",
    "sv = LinearSVC(random_state = 111,C=1,penalty='l2')\n",
    "ppl = Pipeline([('countVec',cv),('tfidf',tfidf),('svc',sv)])"
   ]
  },
  {
   "cell_type": "code",
   "execution_count": 45,
   "metadata": {
    "colab": {
     "base_uri": "https://localhost:8080/",
     "height": 221
    },
    "colab_type": "code",
    "id": "Pz9BbK3N9hYz",
    "outputId": "95f016a9-2769-44ee-bac4-a6c56526242d"
   },
   "outputs": [
    {
     "name": "stdout",
     "output_type": "stream",
     "text": [
      "-------------Predicting category frontoff_ind ...-----------\n",
      "Test accuracy 0.9205526770293609\n",
      "              precision    recall  f1-score   support\n",
      "\n",
      "           0       0.97      0.94      0.95       996\n",
      "           1       0.68      0.81      0.74       162\n",
      "\n",
      "    accuracy                           0.92      1158\n",
      "   macro avg       0.83      0.87      0.85      1158\n",
      "weighted avg       0.93      0.92      0.92      1158\n",
      "\n",
      "Test f1: 0.7401129943502827\n"
     ]
    }
   ],
   "source": [
    "print('-------------Predicting category',y.name,'...-----------')\n",
    "ppl.fit(X_train, y_train)\n",
    "y_pred = ppl.predict(X_test)\n",
    "print('Test accuracy',accuracy_score(y_pred, y_test))\n",
    "print(classification_report(y_pred, y_test))\n",
    "print('Test f1:',f1_score(y_pred, y_test))"
   ]
  },
  {
   "cell_type": "markdown",
   "metadata": {
    "colab_type": "text",
    "id": "YGYB8Qj07ym8"
   },
   "source": [
    "## Others"
   ]
  },
  {
   "cell_type": "code",
   "execution_count": 46,
   "metadata": {
    "colab": {
     "base_uri": "https://localhost:8080/",
     "height": 34
    },
    "colab_type": "code",
    "id": "re6YKKIm70nx",
    "outputId": "68ac1b2c-1a44-4270-a69b-e57ba103951f"
   },
   "outputs": [
    {
     "name": "stdout",
     "output_type": "stream",
     "text": [
      "4630 1158 4630 1158\n"
     ]
    }
   ],
   "source": [
    "y = Y.iloc[:,7]\n",
    "train_index = X_train.index\n",
    "test_index = X_test.index\n",
    "y_train = Y.loc[train_index,y.name]\n",
    "y_test = Y.loc[test_index,y.name]\n",
    "print(len(X_train), len(X_test), len(y_train), len(y_test))"
   ]
  },
  {
   "cell_type": "code",
   "execution_count": 47,
   "metadata": {
    "colab": {
     "base_uri": "https://localhost:8080/",
     "height": 547
    },
    "colab_type": "code",
    "id": "fIuV4yeV7--4",
    "outputId": "c6113d56-767f-4068-be51-b19aeba83768"
   },
   "outputs": [
    {
     "name": "stdout",
     "output_type": "stream",
     "text": [
      "Mean cross validation accuracy (no resampling): 0.8254863179527131\n",
      "Mean cross validation f1 score (no resampling): 0.5540955869527298\n",
      "Test accuracy (no resampling) 0.8281519861830743\n",
      "Test f1 score (no resampling) 0.5567928730512249\n",
      "\n",
      "Mean cross validation accuracy (ROS): 0.8192211861020353\n",
      "Mean cross validation f1 score (ROS): 0.5844112739588755\n",
      "Test accuracy (ROS) 0.803972366148532\n",
      "Test f1 score (ROS) 0.5609284332688588\n",
      "\n",
      "Mean cross validation accuracy (RUS): 0.7488097396790004\n",
      "Mean cross validation f1 score (RUS): 0.5723042847077496\n",
      "Test accuracy (RUS) 0.7633851468048359\n",
      "Test f1 score (RUS) 0.5970588235294119\n"
     ]
    }
   ],
   "source": [
    "ppl = Pipeline([('countVec',cv),('tfidf',tfidf),('svc',sv)])\n",
    "val_score = cross_validate(ppl, X_train, y_train, cv=cv_set, scoring=['accuracy','f1'])\n",
    "print('Mean cross validation accuracy (no resampling):', val_score['test_accuracy'].mean())\n",
    "print('Mean cross validation f1 score (no resampling):', val_score['test_f1'].mean())\n",
    "ppl.fit(X_train, y_train)\n",
    "y_pred = ppl.predict(X_test)\n",
    "print('Test accuracy (no resampling)',accuracy_score(y_pred, y_test))\n",
    "print('Test f1 score (no resampling)',f1_score(y_pred, y_test))\n",
    "print('')\n",
    "\n",
    "ppl = Pipeline([('reshape',f_reshape),('resample',ros),('ravel',f_ravel),('countVec',cv),('tfidf',tfidf),('svc',sv)])\n",
    "val_score = cross_validate(ppl, X_train, y_train, cv=cv_set, scoring=['accuracy','f1'])\n",
    "print('Mean cross validation accuracy (ROS):', val_score['test_accuracy'].mean())\n",
    "print('Mean cross validation f1 score (ROS):', val_score['test_f1'].mean())\n",
    "ppl.fit(X_train, y_train)\n",
    "y_pred = ppl.predict(X_test)\n",
    "print('Test accuracy (ROS)',accuracy_score(y_pred, y_test))\n",
    "print('Test f1 score (ROS)',f1_score(y_pred, y_test))\n",
    "print('')\n",
    "\n",
    "ppl = Pipeline([('reshape',f_reshape),('resample',rus),('ravel',f_ravel),('countVec',cv),('tfidf',tfidf),('svc',sv)])\n",
    "val_score = cross_validate(ppl, X_train, y_train, cv=cv_set, scoring=['accuracy','f1'])\n",
    "print('Mean cross validation accuracy (RUS):', val_score['test_accuracy'].mean())\n",
    "print('Mean cross validation f1 score (RUS):', val_score['test_f1'].mean())\n",
    "ppl.fit(X_train, y_train)\n",
    "y_pred = ppl.predict(X_test)\n",
    "print('Test accuracy (RUS)',accuracy_score(y_pred, y_test))\n",
    "print('Test f1 score (RUS)',f1_score(y_pred, y_test))"
   ]
  },
  {
   "cell_type": "markdown",
   "metadata": {
    "colab_type": "text",
    "id": "0eaXGY_58CXE"
   },
   "source": [
    "### Grid Search"
   ]
  },
  {
   "cell_type": "code",
   "execution_count": 48,
   "metadata": {
    "colab": {
     "base_uri": "https://localhost:8080/",
     "height": 156
    },
    "colab_type": "code",
    "id": "NHcDQxjC8Bgq",
    "outputId": "92f22c9d-92b6-4c9c-a5f4-0290dc9f4c4f"
   },
   "outputs": [
    {
     "name": "stdout",
     "output_type": "stream",
     "text": [
      "Fitting 3 folds for each of 96 candidates, totalling 288 fits\n"
     ]
    },
    {
     "name": "stderr",
     "output_type": "stream",
     "text": [
      "[Parallel(n_jobs=-1)]: Using backend LokyBackend with 4 concurrent workers.\n",
      "[Parallel(n_jobs=-1)]: Done  76 tasks      | elapsed:    4.5s\n",
      "[Parallel(n_jobs=-1)]: Done 276 tasks      | elapsed:   35.4s\n"
     ]
    },
    {
     "name": "stdout",
     "output_type": "stream",
     "text": [
      "Best score: 0.768678 using {'countVec__analyzer': 'word', 'countVec__ngram_range': (1, 2), 'svc__C': 0.001, 'svc__penalty': 'l2', 'tfidf__use_idf': True}\n"
     ]
    },
    {
     "name": "stderr",
     "output_type": "stream",
     "text": [
      "[Parallel(n_jobs=-1)]: Done 288 out of 288 | elapsed:   39.0s finished\n"
     ]
    }
   ],
   "source": [
    "ppl = Pipeline([('reshape',f_reshape),('resample',rus),('ravel',f_ravel),('countVec',cv),('tfidf',tfidf),('svc',sv)])\n",
    "\n",
    "param_grid = {\n",
    "    'countVec__ngram_range': [(1,2), (1,3)],\n",
    "    'countVec__analyzer': ['word','char_wb'],\n",
    "    'tfidf__use_idf': [True, False],\n",
    "    'svc__C': [0.001,0.01,0.1,1,10,20],\n",
    "    'svc__penalty':['l1','l2']\n",
    "}\n",
    "\n",
    "kfold_splits = 5\n",
    "grid = GridSearchCV(estimator=ppl,  \n",
    "                    n_jobs=-1, \n",
    "                    verbose=1,\n",
    "                    return_train_score=True,\n",
    "                    cv=cv_set,\n",
    "                    param_grid=param_grid,)\n",
    "#grid.get_params\n",
    "\n",
    "grid_result = grid.fit(X_train, y_train)\n",
    "\n",
    "# summarize results\n",
    "print(\"Best score: %f using %s\" % (grid_result.best_score_, grid_result.best_params_))"
   ]
  },
  {
   "cell_type": "markdown",
   "metadata": {
    "colab_type": "text",
    "id": "8Z13KwL68HYZ"
   },
   "source": [
    "### Final Prediction"
   ]
  },
  {
   "cell_type": "code",
   "execution_count": 49,
   "metadata": {},
   "outputs": [],
   "source": [
    "# Definition of the best model\n",
    "cv = CountVectorizer(max_features=max_f, analyzer='word',ngram_range=(1,2))\n",
    "tfidf = TfidfTransformer(use_idf=True)\n",
    "sv = LinearSVC(random_state = 111,C=0.001,penalty='l2')\n",
    "ppl = Pipeline([('reshape',f_reshape),('resample',rus),('ravel',f_ravel),('countVec',cv),('tfidf',tfidf),('svc',sv)])"
   ]
  },
  {
   "cell_type": "code",
   "execution_count": 50,
   "metadata": {
    "colab": {
     "base_uri": "https://localhost:8080/",
     "height": 221
    },
    "colab_type": "code",
    "id": "Pz9BbK3N9hYz",
    "outputId": "95f016a9-2769-44ee-bac4-a6c56526242d"
   },
   "outputs": [
    {
     "name": "stdout",
     "output_type": "stream",
     "text": [
      "-------------Predicting category Others ...-----------\n",
      "Test accuracy 0.7746113989637305\n",
      "              precision    recall  f1-score   support\n",
      "\n",
      "           0       0.81      0.89      0.85       811\n",
      "           1       0.67      0.50      0.57       347\n",
      "\n",
      "    accuracy                           0.77      1158\n",
      "   macro avg       0.74      0.69      0.71      1158\n",
      "weighted avg       0.76      0.77      0.76      1158\n",
      "\n",
      "Test f1: 0.5685950413223141\n"
     ]
    }
   ],
   "source": [
    "print('-------------Predicting category',y.name,'...-----------')\n",
    "ppl.fit(X_train, y_train)\n",
    "y_pred = ppl.predict(X_test)\n",
    "print('Test accuracy',accuracy_score(y_pred, y_test))\n",
    "print(classification_report(y_pred, y_test))\n",
    "print('Test f1:',f1_score(y_pred, y_test))"
   ]
  },
  {
   "cell_type": "markdown",
   "metadata": {
    "colab_type": "text",
    "id": "bp9KwCdA9tng"
   },
   "source": [
    "# KNN"
   ]
  },
  {
   "cell_type": "markdown",
   "metadata": {
    "colab_type": "text",
    "id": "fZ7EnSGDfmhZ"
   },
   "source": [
    "## Facility_Ind"
   ]
  },
  {
   "cell_type": "code",
   "execution_count": 51,
   "metadata": {
    "colab": {
     "base_uri": "https://localhost:8080/",
     "height": 34
    },
    "colab_type": "code",
    "id": "uo4i0tOT8LGa",
    "outputId": "14476d9c-6fe8-4408-8f31-766457970407"
   },
   "outputs": [
    {
     "name": "stdout",
     "output_type": "stream",
     "text": [
      "4630 1158 4630 1158\n"
     ]
    }
   ],
   "source": [
    "y = Y.iloc[:,0]\n",
    "train_index = X_train.index\n",
    "test_index = X_test.index\n",
    "y_train = Y.loc[train_index,y.name]\n",
    "y_test = Y.loc[test_index,y.name]\n",
    "print(len(X_train), len(X_test), len(y_train), len(y_test))"
   ]
  },
  {
   "cell_type": "code",
   "execution_count": 52,
   "metadata": {
    "colab": {},
    "colab_type": "code",
    "id": "2hzyc2PQ97vV"
   },
   "outputs": [],
   "source": [
    "from sklearn.neighbors import KNeighborsClassifier\n",
    "knn = KNeighborsClassifier()"
   ]
  },
  {
   "cell_type": "code",
   "execution_count": 53,
   "metadata": {
    "colab": {
     "base_uri": "https://localhost:8080/",
     "height": 547
    },
    "colab_type": "code",
    "id": "qHIFbIg59vmz",
    "outputId": "471e4448-cfee-428a-fc08-2baf1935590f"
   },
   "outputs": [
    {
     "name": "stdout",
     "output_type": "stream",
     "text": [
      "Mean cross validation accuracy (no resampling): 0.7012958684660907\n",
      "Mean cross validation f1 score (no resampling): 0.3022724335593301\n",
      "Test accuracy (no resampling) 0.7012089810017271\n",
      "Test f1 score (no resampling) 0.31620553359683795\n",
      "\n",
      "Mean cross validation accuracy (ROS): 0.7049675284336079\n",
      "Mean cross validation f1 score (ROS): 0.32573599240265905\n",
      "Test accuracy (ROS) 0.7236614853195165\n",
      "Test f1 score (ROS) 0.4444444444444444\n",
      "\n",
      "Mean cross validation accuracy (RUS): 0.696760650640197\n",
      "Mean cross validation f1 score (RUS): 0.32558637582390976\n",
      "Test accuracy (RUS) 0.690846286701209\n",
      "Test f1 score (RUS) 0.39730639730639733\n"
     ]
    }
   ],
   "source": [
    "ppl = Pipeline([('countVec',cv),('tfidf',tfidf),('knn',knn)])\n",
    "val_score = cross_validate(ppl, X_train, y_train, cv=cv_set, scoring=['accuracy','f1'])\n",
    "print('Mean cross validation accuracy (no resampling):', val_score['test_accuracy'].mean())\n",
    "print('Mean cross validation f1 score (no resampling):', val_score['test_f1'].mean())\n",
    "ppl.fit(X_train, y_train)\n",
    "y_pred = ppl.predict(X_test)\n",
    "print('Test accuracy (no resampling)',accuracy_score(y_pred, y_test))\n",
    "print('Test f1 score (no resampling)',f1_score(y_pred, y_test))\n",
    "print('')\n",
    "\n",
    "ppl = Pipeline([('reshape',f_reshape),('resample',ros),('ravel',f_ravel),('countVec',cv),('tfidf',tfidf),('knn',knn)])\n",
    "val_score = cross_validate(ppl, X_train, y_train, cv=cv_set, scoring=['accuracy','f1'])\n",
    "print('Mean cross validation accuracy (ROS):', val_score['test_accuracy'].mean())\n",
    "print('Mean cross validation f1 score (ROS):', val_score['test_f1'].mean())\n",
    "ppl.fit(X_train, y_train)\n",
    "y_pred = ppl.predict(X_test)\n",
    "print('Test accuracy (ROS)',accuracy_score(y_pred, y_test))\n",
    "print('Test f1 score (ROS)',f1_score(y_pred, y_test))\n",
    "print('')\n",
    "\n",
    "ppl = Pipeline([('reshape',f_reshape),('resample',rus),('ravel',f_ravel),('countVec',cv),('tfidf',tfidf),('knn',knn)])\n",
    "val_score = cross_validate(ppl, X_train, y_train, cv=cv_set, scoring=['accuracy','f1'])\n",
    "print('Mean cross validation accuracy (RUS):', val_score['test_accuracy'].mean())\n",
    "print('Mean cross validation f1 score (RUS):', val_score['test_f1'].mean())\n",
    "ppl.fit(X_train, y_train)\n",
    "y_pred = ppl.predict(X_test)\n",
    "print('Test accuracy (RUS)',accuracy_score(y_pred, y_test))\n",
    "print('Test f1 score (RUS)',f1_score(y_pred, y_test))"
   ]
  },
  {
   "cell_type": "markdown",
   "metadata": {
    "colab_type": "text",
    "id": "LXqiP9G7fJFl"
   },
   "source": [
    "### Grid Search"
   ]
  },
  {
   "cell_type": "code",
   "execution_count": 55,
   "metadata": {
    "colab": {
     "base_uri": "https://localhost:8080/",
     "height": 190
    },
    "colab_type": "code",
    "id": "s-y8q5ZyfIJF",
    "outputId": "d0276eeb-df19-4459-b9aa-9bad557425f3"
   },
   "outputs": [
    {
     "name": "stdout",
     "output_type": "stream",
     "text": [
      "Fitting 3 folds for each of 56 candidates, totalling 168 fits\n"
     ]
    },
    {
     "name": "stderr",
     "output_type": "stream",
     "text": [
      "[Parallel(n_jobs=-1)]: Using backend LokyBackend with 4 concurrent workers.\n",
      "[Parallel(n_jobs=-1)]: Done  42 tasks      | elapsed:   30.6s\n",
      "/anaconda3/lib/python3.6/site-packages/joblib/externals/loky/process_executor.py:706: UserWarning: A worker stopped while some jobs were given to the executor. This can be caused by a too short worker timeout or by a memory leak.\n",
      "  \"timeout or by a memory leak.\", UserWarning\n",
      "[Parallel(n_jobs=-1)]: Done 168 out of 168 | elapsed:  2.9min finished\n"
     ]
    },
    {
     "name": "stdout",
     "output_type": "stream",
     "text": [
      "Best score: 0.762637 using {'countVec__analyzer': 'char_wb', 'countVec__ngram_range': (1, 3), 'knn__n_neighbors': 4, 'tfidf__use_idf': True}\n"
     ]
    }
   ],
   "source": [
    "ppl = Pipeline([('reshape',f_reshape),('resample',ros),('ravel',f_ravel),('countVec',cv),('tfidf',tfidf),('knn',knn)])\n",
    "\n",
    "param_grid = {\n",
    "    'countVec__ngram_range': [(1,2), (1,3)],\n",
    "    'countVec__analyzer': ['word','char_wb'],\n",
    "    'tfidf__use_idf': [True, False],\n",
    "    'knn__n_neighbors': [2,3,4,5,6,7,8],\n",
    "}\n",
    "\n",
    "kfold_splits = 5\n",
    "grid = GridSearchCV(estimator=ppl,  \n",
    "                    n_jobs=-1, \n",
    "                    verbose=1,\n",
    "                    return_train_score=True,\n",
    "                    cv=cv_set,\n",
    "                    param_grid=param_grid,)\n",
    "#grid.get_params\n",
    "\n",
    "grid_result = grid.fit(X_train, y_train)\n",
    "\n",
    "# summarize results\n",
    "print(\"Best score: %f using %s\" % (grid_result.best_score_, grid_result.best_params_))"
   ]
  },
  {
   "cell_type": "markdown",
   "metadata": {
    "colab_type": "text",
    "id": "KmnLwDf9fh2i"
   },
   "source": [
    "### Final Prediction"
   ]
  },
  {
   "cell_type": "code",
   "execution_count": 56,
   "metadata": {},
   "outputs": [],
   "source": [
    "# Definition of the best model\n",
    "cv = CountVectorizer(max_features=max_f, analyzer='char_wb',ngram_range=(1,3))\n",
    "tfidf = TfidfTransformer(use_idf=True)\n",
    "knn = KNeighborsClassifier(n_neighbors=4)\n",
    "ppl = Pipeline([('reshape',f_reshape),('resample',ros),('ravel',f_ravel),('countVec',cv),('tfidf',tfidf),('knn',knn)])"
   ]
  },
  {
   "cell_type": "code",
   "execution_count": 57,
   "metadata": {
    "colab": {
     "base_uri": "https://localhost:8080/",
     "height": 221
    },
    "colab_type": "code",
    "id": "Pz9BbK3N9hYz",
    "outputId": "95f016a9-2769-44ee-bac4-a6c56526242d"
   },
   "outputs": [
    {
     "name": "stdout",
     "output_type": "stream",
     "text": [
      "-------------Predicting category facility_ind ...-----------\n",
      "Test accuracy 0.7659758203799655\n",
      "              precision    recall  f1-score   support\n",
      "\n",
      "           0       0.83      0.82      0.82       771\n",
      "           1       0.65      0.66      0.65       387\n",
      "\n",
      "    accuracy                           0.77      1158\n",
      "   macro avg       0.74      0.74      0.74      1158\n",
      "weighted avg       0.77      0.77      0.77      1158\n",
      "\n",
      "Test f1: 0.6547770700636942\n"
     ]
    }
   ],
   "source": [
    "print('-------------Predicting category',y.name,'...-----------')\n",
    "ppl.fit(X_train, y_train)\n",
    "y_pred = ppl.predict(X_test)\n",
    "print('Test accuracy',accuracy_score(y_pred, y_test))\n",
    "print(classification_report(y_pred, y_test))\n",
    "print('Test f1:',f1_score(y_pred, y_test))"
   ]
  },
  {
   "cell_type": "markdown",
   "metadata": {
    "colab_type": "text",
    "id": "uwdS2tZig10w"
   },
   "source": [
    "## Security_Ind"
   ]
  },
  {
   "cell_type": "code",
   "execution_count": 58,
   "metadata": {
    "colab": {
     "base_uri": "https://localhost:8080/",
     "height": 34
    },
    "colab_type": "code",
    "id": "JUO-Ru6vg4zF",
    "outputId": "2ae8663e-b0ce-4b0c-d889-ae82205f1cfa"
   },
   "outputs": [
    {
     "name": "stdout",
     "output_type": "stream",
     "text": [
      "4630 1158 4630 1158\n"
     ]
    }
   ],
   "source": [
    "y = Y.iloc[:,1]\n",
    "train_index = X_train.index\n",
    "test_index = X_test.index\n",
    "y_train = Y.loc[train_index,y.name]\n",
    "y_test = Y.loc[test_index,y.name]\n",
    "print(len(X_train), len(X_test), len(y_train), len(y_test))"
   ]
  },
  {
   "cell_type": "code",
   "execution_count": 59,
   "metadata": {
    "colab": {
     "base_uri": "https://localhost:8080/",
     "height": 426
    },
    "colab_type": "code",
    "id": "uKwYgo58iHZT",
    "outputId": "9e951fe3-0838-4b5a-c747-f14f2174b3a3"
   },
   "outputs": [
    {
     "name": "stdout",
     "output_type": "stream",
     "text": [
      "Mean cross validation accuracy (no resampling): 0.9885526815066538\n",
      "Mean cross validation f1 score (no resampling): 0.06666666666666667\n",
      "Test accuracy (no resampling) 0.9887737478411054\n",
      "Test f1 score (no resampling) 0.13333333333333333\n",
      "\n",
      "Mean cross validation accuracy (ROS): 0.9440619623750696\n",
      "Mean cross validation f1 score (ROS): 0.1348515779316628\n",
      "Test accuracy (ROS) 0.9550949913644214\n",
      "Test f1 score (ROS) 0.21212121212121213\n",
      "\n",
      "Mean cross validation accuracy (RUS): 0.4525275437459495\n",
      "Mean cross validation f1 score (RUS): 0.035087716073057246\n",
      "Test accuracy (RUS) 0.4231433506044905\n",
      "Test f1 score (RUS) 0.03468208092485549\n"
     ]
    }
   ],
   "source": [
    "ppl = Pipeline([('countVec',cv),('tfidf',tfidf),('knn',knn)])\n",
    "val_score = cross_validate(ppl, X_train, y_train, cv=cv_set, scoring=['accuracy','f1'])\n",
    "print('Mean cross validation accuracy (no resampling):', val_score['test_accuracy'].mean())\n",
    "print('Mean cross validation f1 score (no resampling):', val_score['test_f1'].mean())\n",
    "ppl.fit(X_train, y_train)\n",
    "y_pred = ppl.predict(X_test)\n",
    "print('Test accuracy (no resampling)',accuracy_score(y_pred, y_test))\n",
    "print('Test f1 score (no resampling)',f1_score(y_pred, y_test))\n",
    "print('')\n",
    "\n",
    "ppl = Pipeline([('reshape',f_reshape),('resample',ros),('ravel',f_ravel),('countVec',cv),('tfidf',tfidf),('knn',knn)])\n",
    "val_score = cross_validate(ppl, X_train, y_train, cv=cv_set, scoring=['accuracy','f1'])\n",
    "print('Mean cross validation accuracy (ROS):', val_score['test_accuracy'].mean())\n",
    "print('Mean cross validation f1 score (ROS):', val_score['test_f1'].mean())\n",
    "ppl.fit(X_train, y_train)\n",
    "y_pred = ppl.predict(X_test)\n",
    "print('Test accuracy (ROS)',accuracy_score(y_pred, y_test))\n",
    "print('Test f1 score (ROS)',f1_score(y_pred, y_test))\n",
    "print('')\n",
    "\n",
    "ppl = Pipeline([('reshape',f_reshape),('resample',rus),('ravel',f_ravel),('countVec',cv),('tfidf',tfidf),('knn',knn)])\n",
    "val_score = cross_validate(ppl, X_train, y_train, cv=cv_set, scoring=['accuracy','f1'])\n",
    "print('Mean cross validation accuracy (RUS):', val_score['test_accuracy'].mean())\n",
    "print('Mean cross validation f1 score (RUS):', val_score['test_f1'].mean())\n",
    "ppl.fit(X_train, y_train)\n",
    "y_pred = ppl.predict(X_test)\n",
    "print('Test accuracy (RUS)',accuracy_score(y_pred, y_test))\n",
    "print('Test f1 score (RUS)',f1_score(y_pred, y_test))"
   ]
  },
  {
   "cell_type": "markdown",
   "metadata": {
    "colab_type": "text",
    "id": "kBNzbiatiL1K"
   },
   "source": [
    "### Grid Search"
   ]
  },
  {
   "cell_type": "code",
   "execution_count": 60,
   "metadata": {
    "colab": {
     "base_uri": "https://localhost:8080/",
     "height": 102
    },
    "colab_type": "code",
    "id": "TPJrSRI-iPG2",
    "outputId": "133d4cd5-4396-4cf4-b34e-7f2ba4d7ce00"
   },
   "outputs": [
    {
     "name": "stdout",
     "output_type": "stream",
     "text": [
      "Fitting 3 folds for each of 56 candidates, totalling 168 fits\n"
     ]
    },
    {
     "name": "stderr",
     "output_type": "stream",
     "text": [
      "[Parallel(n_jobs=-1)]: Using backend LokyBackend with 4 concurrent workers.\n",
      "[Parallel(n_jobs=-1)]: Done  42 tasks      | elapsed:   29.5s\n",
      "[Parallel(n_jobs=-1)]: Done 168 out of 168 | elapsed:  3.5min finished\n"
     ]
    },
    {
     "name": "stdout",
     "output_type": "stream",
     "text": [
      "Best score: 0.988985 using {'countVec__analyzer': 'word', 'countVec__ngram_range': (1, 2), 'knn__n_neighbors': 2, 'tfidf__use_idf': False}\n"
     ]
    }
   ],
   "source": [
    "ppl = Pipeline([('reshape',f_reshape),('resample',ros),('ravel',f_ravel),('countVec',cv),('tfidf',tfidf),('knn',knn)])\n",
    "\n",
    "param_grid = {\n",
    "    'countVec__ngram_range': [(1,2), (1,3)],\n",
    "    'countVec__analyzer': ['word','char_wb'],\n",
    "    'tfidf__use_idf': [True, False],\n",
    "    'knn__n_neighbors': [2,3,4,5,6,7,8],\n",
    "}\n",
    "\n",
    "kfold_splits = 5\n",
    "grid = GridSearchCV(estimator=ppl,  \n",
    "                    n_jobs=-1, \n",
    "                    verbose=1,\n",
    "                    return_train_score=True,\n",
    "                    cv=cv_set,\n",
    "                    param_grid=param_grid,)\n",
    "#grid.get_params\n",
    "\n",
    "grid_result = grid.fit(X_train, y_train)\n",
    "\n",
    "# summarize results\n",
    "print(\"Best score: %f using %s\" % (grid_result.best_score_, grid_result.best_params_))"
   ]
  },
  {
   "cell_type": "markdown",
   "metadata": {
    "colab_type": "text",
    "id": "oAtM7JVLiSQ2"
   },
   "source": [
    "### Final Prediction"
   ]
  },
  {
   "cell_type": "code",
   "execution_count": 61,
   "metadata": {},
   "outputs": [],
   "source": [
    "# Definition of the best model\n",
    "cv = CountVectorizer(max_features=max_f, analyzer='word',ngram_range=(1,2))\n",
    "tfidf = TfidfTransformer(use_idf=False)\n",
    "knn = KNeighborsClassifier(n_neighbors=2)\n",
    "ppl = Pipeline([('reshape',f_reshape),('resample',ros),('ravel',f_ravel),('countVec',cv),('tfidf',tfidf),('knn',knn)])"
   ]
  },
  {
   "cell_type": "code",
   "execution_count": 62,
   "metadata": {
    "colab": {
     "base_uri": "https://localhost:8080/",
     "height": 221
    },
    "colab_type": "code",
    "id": "Pz9BbK3N9hYz",
    "outputId": "95f016a9-2769-44ee-bac4-a6c56526242d"
   },
   "outputs": [
    {
     "name": "stdout",
     "output_type": "stream",
     "text": [
      "-------------Predicting category security_ind ...-----------\n",
      "Test accuracy 0.9887737478411054\n",
      "              precision    recall  f1-score   support\n",
      "\n",
      "           0       1.00      0.99      0.99      1157\n",
      "           1       0.07      1.00      0.13         1\n",
      "\n",
      "    accuracy                           0.99      1158\n",
      "   macro avg       0.54      0.99      0.56      1158\n",
      "weighted avg       1.00      0.99      0.99      1158\n",
      "\n",
      "Test f1: 0.13333333333333333\n"
     ]
    }
   ],
   "source": [
    "print('-------------Predicting category',y.name,'...-----------')\n",
    "ppl.fit(X_train, y_train)\n",
    "y_pred = ppl.predict(X_test)\n",
    "print('Test accuracy',accuracy_score(y_pred, y_test))\n",
    "print(classification_report(y_pred, y_test))\n",
    "print('Test f1:',f1_score(y_pred, y_test))"
   ]
  },
  {
   "cell_type": "markdown",
   "metadata": {
    "colab_type": "text",
    "id": "mUGonO-KiWpI"
   },
   "source": [
    "## Pricing_Ind"
   ]
  },
  {
   "cell_type": "code",
   "execution_count": 63,
   "metadata": {
    "colab": {
     "base_uri": "https://localhost:8080/",
     "height": 34
    },
    "colab_type": "code",
    "id": "1E5-MOGLiV9e",
    "outputId": "7d15da2c-79b3-434c-d10b-3dc3a0dacbed"
   },
   "outputs": [
    {
     "name": "stdout",
     "output_type": "stream",
     "text": [
      "4630 1158 4630 1158\n"
     ]
    }
   ],
   "source": [
    "y = Y.iloc[:,2]\n",
    "train_index = X_train.index\n",
    "test_index = X_test.index\n",
    "y_train = Y.loc[train_index,y.name]\n",
    "y_test = Y.loc[test_index,y.name]\n",
    "print(len(X_train), len(X_test), len(y_train), len(y_test))"
   ]
  },
  {
   "cell_type": "code",
   "execution_count": 64,
   "metadata": {
    "colab": {
     "base_uri": "https://localhost:8080/",
     "height": 547
    },
    "colab_type": "code",
    "id": "n5zmMquKibJH",
    "outputId": "83fbfda7-f015-4f2e-ac56-99278de75366"
   },
   "outputs": [
    {
     "name": "stdout",
     "output_type": "stream",
     "text": [
      "Mean cross validation accuracy (no resampling): 0.8829362814068102\n",
      "Mean cross validation f1 score (no resampling): 0.6468351697363345\n",
      "Test accuracy (no resampling) 0.8816925734024179\n",
      "Test f1 score (no resampling) 0.6366047745358089\n",
      "\n",
      "Mean cross validation accuracy (ROS): 0.8786163933839043\n",
      "Mean cross validation f1 score (ROS): 0.6432709159779053\n",
      "Test accuracy (ROS) 0.8721934369602763\n",
      "Test f1 score (ROS) 0.6243654822335025\n",
      "\n",
      "Mean cross validation accuracy (RUS): 0.8634940569534036\n",
      "Mean cross validation f1 score (RUS): 0.6468089689906749\n",
      "Test accuracy (RUS) 0.8687392055267703\n",
      "Test f1 score (RUS) 0.6\n"
     ]
    }
   ],
   "source": [
    "ppl = Pipeline([('countVec',cv),('tfidf',tfidf),('knn',knn)])\n",
    "val_score = cross_validate(ppl, X_train, y_train, cv=cv_set, scoring=['accuracy','f1'])\n",
    "print('Mean cross validation accuracy (no resampling):', val_score['test_accuracy'].mean())\n",
    "print('Mean cross validation f1 score (no resampling):', val_score['test_f1'].mean())\n",
    "ppl.fit(X_train, y_train)\n",
    "y_pred = ppl.predict(X_test)\n",
    "print('Test accuracy (no resampling)',accuracy_score(y_pred, y_test))\n",
    "print('Test f1 score (no resampling)',f1_score(y_pred, y_test))\n",
    "print('')\n",
    "\n",
    "ppl = Pipeline([('reshape',f_reshape),('resample',ros),('ravel',f_ravel),('countVec',cv),('tfidf',tfidf),('knn',knn)])\n",
    "val_score = cross_validate(ppl, X_train, y_train, cv=cv_set, scoring=['accuracy','f1'])\n",
    "print('Mean cross validation accuracy (ROS):', val_score['test_accuracy'].mean())\n",
    "print('Mean cross validation f1 score (ROS):', val_score['test_f1'].mean())\n",
    "ppl.fit(X_train, y_train)\n",
    "y_pred = ppl.predict(X_test)\n",
    "print('Test accuracy (ROS)',accuracy_score(y_pred, y_test))\n",
    "print('Test f1 score (ROS)',f1_score(y_pred, y_test))\n",
    "print('')\n",
    "\n",
    "ppl = Pipeline([('reshape',f_reshape),('resample',rus),('ravel',f_ravel),('countVec',cv),('tfidf',tfidf),('knn',knn)])\n",
    "val_score = cross_validate(ppl, X_train, y_train, cv=cv_set, scoring=['accuracy','f1'])\n",
    "print('Mean cross validation accuracy (RUS):', val_score['test_accuracy'].mean())\n",
    "print('Mean cross validation f1 score (RUS):', val_score['test_f1'].mean())\n",
    "ppl.fit(X_train, y_train)\n",
    "y_pred = ppl.predict(X_test)\n",
    "print('Test accuracy (RUS)',accuracy_score(y_pred, y_test))\n",
    "print('Test f1 score (RUS)',f1_score(y_pred, y_test))"
   ]
  },
  {
   "cell_type": "markdown",
   "metadata": {
    "colab_type": "text",
    "id": "_llQNpxOifCy"
   },
   "source": [
    "### Grid Search"
   ]
  },
  {
   "cell_type": "code",
   "execution_count": 65,
   "metadata": {
    "colab": {
     "base_uri": "https://localhost:8080/",
     "height": 156
    },
    "colab_type": "code",
    "id": "EAORnQV4idsO",
    "outputId": "cf145ac3-20f9-4c68-e2b5-c50a46888d3b"
   },
   "outputs": [
    {
     "name": "stdout",
     "output_type": "stream",
     "text": [
      "Fitting 3 folds for each of 56 candidates, totalling 168 fits\n"
     ]
    },
    {
     "name": "stderr",
     "output_type": "stream",
     "text": [
      "[Parallel(n_jobs=-1)]: Using backend LokyBackend with 4 concurrent workers.\n",
      "[Parallel(n_jobs=-1)]: Done  42 tasks      | elapsed:   13.9s\n",
      "[Parallel(n_jobs=-1)]: Done 168 out of 168 | elapsed:  1.7min finished\n"
     ]
    },
    {
     "name": "stdout",
     "output_type": "stream",
     "text": [
      "Best score: 0.901728 using {'countVec__analyzer': 'char_wb', 'countVec__ngram_range': (1, 3), 'knn__n_neighbors': 6, 'tfidf__use_idf': True}\n"
     ]
    }
   ],
   "source": [
    "ppl = Pipeline([('countVec',cv),('tfidf',tfidf),('knn',knn)])\n",
    "\n",
    "param_grid = {\n",
    "    'countVec__ngram_range': [(1,2), (1,3)],\n",
    "    'countVec__analyzer': ['word','char_wb'],\n",
    "    'tfidf__use_idf': [True, False],\n",
    "    'knn__n_neighbors': [2,3,4,5,6,7,8],\n",
    "}\n",
    "\n",
    "kfold_splits = 5\n",
    "grid = GridSearchCV(estimator=ppl,  \n",
    "                    n_jobs=-1, \n",
    "                    verbose=1,\n",
    "                    return_train_score=True,\n",
    "                    cv=cv_set,\n",
    "                    param_grid=param_grid,)\n",
    "#grid.get_params\n",
    "\n",
    "grid_result = grid.fit(X_train, y_train)\n",
    "\n",
    "# summarize results\n",
    "print(\"Best score: %f using %s\" % (grid_result.best_score_, grid_result.best_params_))"
   ]
  },
  {
   "cell_type": "markdown",
   "metadata": {
    "colab_type": "text",
    "id": "jrTodNMXinCJ"
   },
   "source": [
    "### Final Prediction"
   ]
  },
  {
   "cell_type": "code",
   "execution_count": 66,
   "metadata": {},
   "outputs": [],
   "source": [
    "# Definition of the best model\n",
    "cv = CountVectorizer(max_features=max_f, analyzer='char_wb',ngram_range=(1,3))\n",
    "tfidf = TfidfTransformer(use_idf=True)\n",
    "knn = KNeighborsClassifier(n_neighbors=6)\n",
    "ppl = Pipeline([('countVec',cv),('tfidf',tfidf),('knn',knn)])"
   ]
  },
  {
   "cell_type": "code",
   "execution_count": 67,
   "metadata": {
    "colab": {
     "base_uri": "https://localhost:8080/",
     "height": 221
    },
    "colab_type": "code",
    "id": "Pz9BbK3N9hYz",
    "outputId": "95f016a9-2769-44ee-bac4-a6c56526242d"
   },
   "outputs": [
    {
     "name": "stdout",
     "output_type": "stream",
     "text": [
      "-------------Predicting category pricing_ind ...-----------\n",
      "Test accuracy 0.9058721934369602\n",
      "              precision    recall  f1-score   support\n",
      "\n",
      "           0       0.97      0.92      0.94       955\n",
      "           1       0.69      0.85      0.76       203\n",
      "\n",
      "    accuracy                           0.91      1158\n",
      "   macro avg       0.83      0.88      0.85      1158\n",
      "weighted avg       0.92      0.91      0.91      1158\n",
      "\n",
      "Test f1: 0.7604395604395604\n"
     ]
    }
   ],
   "source": [
    "print('-------------Predicting category',y.name,'...-----------')\n",
    "ppl.fit(X_train, y_train)\n",
    "y_pred = ppl.predict(X_test)\n",
    "print('Test accuracy',accuracy_score(y_pred, y_test))\n",
    "print(classification_report(y_pred, y_test))\n",
    "print('Test f1:',f1_score(y_pred, y_test))"
   ]
  },
  {
   "cell_type": "markdown",
   "metadata": {
    "colab_type": "text",
    "id": "ZLqDzkP4it5q"
   },
   "source": [
    "# Location_Ind"
   ]
  },
  {
   "cell_type": "code",
   "execution_count": 68,
   "metadata": {
    "colab": {
     "base_uri": "https://localhost:8080/",
     "height": 34
    },
    "colab_type": "code",
    "id": "Jein41I8itHE",
    "outputId": "a3d46e5b-32c9-4ccb-e4b2-5da9753c7da8"
   },
   "outputs": [
    {
     "name": "stdout",
     "output_type": "stream",
     "text": [
      "4630 1158 4630 1158\n"
     ]
    }
   ],
   "source": [
    "y = Y.iloc[:,3]\n",
    "train_index = X_train.index\n",
    "test_index = X_test.index\n",
    "y_train = Y.loc[train_index,y.name]\n",
    "y_test = Y.loc[test_index,y.name]\n",
    "print(len(X_train), len(X_test), len(y_train), len(y_test))"
   ]
  },
  {
   "cell_type": "code",
   "execution_count": 69,
   "metadata": {
    "colab": {
     "base_uri": "https://localhost:8080/",
     "height": 547
    },
    "colab_type": "code",
    "id": "N3m36wYsi6pS",
    "outputId": "fe941bcb-3716-4755-e1f4-4685cea29e64"
   },
   "outputs": [
    {
     "name": "stdout",
     "output_type": "stream",
     "text": [
      "Mean cross validation accuracy (no resampling): 0.9881209025774655\n",
      "Mean cross validation f1 (no resampling): 0.0\n",
      "Test accuracy (no resampling) 0.9913644214162349\n",
      "Test f1 (no resampling) 0.2857142857142857\n",
      "\n",
      "Mean cross validation accuracy (ROS): 0.969330543979888\n",
      "Mean cross validation f1 (ROS): 0.17457450011511963\n",
      "Test accuracy (ROS) 0.9758203799654577\n",
      "Test f1 (ROS) 0.33333333333333337\n",
      "\n",
      "Mean cross validation accuracy (RUS): 0.5350178867849343\n",
      "Mean cross validation f1 (RUS): 0.04604639210835221\n",
      "Test accuracy (RUS) 0.4835924006908463\n",
      "Test f1 (RUS) 0.02922077922077922\n"
     ]
    }
   ],
   "source": [
    "ppl = Pipeline([('countVec',cv),('tfidf',tfidf),('knn',knn)])\n",
    "val_score = cross_validate(ppl, X_train, y_train, cv=cv_set, scoring=['accuracy','f1'])\n",
    "print('Mean cross validation accuracy (no resampling):', val_score['test_accuracy'].mean())\n",
    "print('Mean cross validation f1 (no resampling):', val_score['test_f1'].mean())\n",
    "ppl.fit(X_train, y_train)\n",
    "y_pred = ppl.predict(X_test)\n",
    "print('Test accuracy (no resampling)',accuracy_score(y_pred, y_test))\n",
    "print('Test f1 (no resampling)',f1_score(y_pred, y_test))\n",
    "print('')\n",
    "\n",
    "ppl = Pipeline([('reshape',f_reshape),('resample',ros),('ravel',f_ravel),('countVec',cv),('tfidf',tfidf),('knn',knn)])\n",
    "val_score = cross_validate(ppl, X_train, y_train, cv=cv_set, scoring=['accuracy','f1'])\n",
    "print('Mean cross validation accuracy (ROS):', val_score['test_accuracy'].mean())\n",
    "print('Mean cross validation f1 (ROS):', val_score['test_f1'].mean())\n",
    "ppl.fit(X_train, y_train)\n",
    "y_pred = ppl.predict(X_test)\n",
    "print('Test accuracy (ROS)',accuracy_score(y_pred, y_test))\n",
    "print('Test f1 (ROS)',f1_score(y_pred, y_test))\n",
    "print('')\n",
    "\n",
    "ppl = Pipeline([('reshape',f_reshape),('resample',rus),('ravel',f_ravel),('countVec',cv),('tfidf',tfidf),('knn',knn)])\n",
    "val_score = cross_validate(ppl, X_train, y_train, cv=cv_set, scoring=['accuracy','f1'])\n",
    "print('Mean cross validation accuracy (RUS):', val_score['test_accuracy'].mean())\n",
    "print('Mean cross validation f1 (RUS):', val_score['test_f1'].mean())\n",
    "ppl.fit(X_train, y_train)\n",
    "y_pred = ppl.predict(X_test)\n",
    "print('Test accuracy (RUS)',accuracy_score(y_pred, y_test))\n",
    "print('Test f1 (RUS)',f1_score(y_pred, y_test))"
   ]
  },
  {
   "cell_type": "markdown",
   "metadata": {
    "colab_type": "text",
    "id": "MDoZ6Yu7i-xg"
   },
   "source": [
    "### Grid Search"
   ]
  },
  {
   "cell_type": "code",
   "execution_count": 70,
   "metadata": {
    "colab": {
     "base_uri": "https://localhost:8080/",
     "height": 156
    },
    "colab_type": "code",
    "id": "rtCQK70gi-ET",
    "outputId": "fdf54835-c929-4062-b58c-e95aa8b96f85"
   },
   "outputs": [
    {
     "name": "stdout",
     "output_type": "stream",
     "text": [
      "Fitting 3 folds for each of 56 candidates, totalling 168 fits\n"
     ]
    },
    {
     "name": "stderr",
     "output_type": "stream",
     "text": [
      "[Parallel(n_jobs=-1)]: Using backend LokyBackend with 4 concurrent workers.\n",
      "[Parallel(n_jobs=-1)]: Done  42 tasks      | elapsed:   34.2s\n",
      "/anaconda3/lib/python3.6/site-packages/joblib/externals/loky/process_executor.py:706: UserWarning: A worker stopped while some jobs were given to the executor. This can be caused by a too short worker timeout or by a memory leak.\n",
      "  \"timeout or by a memory leak.\", UserWarning\n",
      "[Parallel(n_jobs=-1)]: Done 168 out of 168 | elapsed:  3.5min finished\n"
     ]
    },
    {
     "name": "stdout",
     "output_type": "stream",
     "text": [
      "Best score: 0.988985 using {'countVec__analyzer': 'word', 'countVec__ngram_range': (1, 3), 'knn__n_neighbors': 2, 'tfidf__use_idf': True}\n"
     ]
    }
   ],
   "source": [
    "ppl = Pipeline([('reshape',f_reshape),('resample',ros),('ravel',f_ravel),('countVec',cv),('tfidf',tfidf),('knn',knn)])\n",
    "\n",
    "param_grid = {\n",
    "    'countVec__ngram_range': [(1,2), (1,3)],\n",
    "    'countVec__analyzer': ['word','char_wb'],\n",
    "    'tfidf__use_idf': [True, False],\n",
    "    'knn__n_neighbors': [2,3,4,5,6,7,8],\n",
    "}\n",
    "\n",
    "kfold_splits = 5\n",
    "grid = GridSearchCV(estimator=ppl,  \n",
    "                    n_jobs=-1, \n",
    "                    verbose=1,\n",
    "                    return_train_score=True,\n",
    "                    cv=cv_set,\n",
    "                    param_grid=param_grid,)\n",
    "#grid.get_params\n",
    "\n",
    "grid_result = grid.fit(X_train, y_train)\n",
    "\n",
    "# summarize results\n",
    "print(\"Best score: %f using %s\" % (grid_result.best_score_, grid_result.best_params_))"
   ]
  },
  {
   "cell_type": "markdown",
   "metadata": {
    "colab_type": "text",
    "id": "G6uliiGEjEH3"
   },
   "source": [
    "### Final Prediction"
   ]
  },
  {
   "cell_type": "code",
   "execution_count": 71,
   "metadata": {},
   "outputs": [],
   "source": [
    "# Definition of the best model\n",
    "cv = CountVectorizer(max_features=max_f, analyzer='word',ngram_range=(1,3))\n",
    "tfidf = TfidfTransformer(use_idf=True)\n",
    "knn = KNeighborsClassifier(n_neighbors=2)\n",
    "ppl = Pipeline([('reshape',f_reshape),('resample',ros),('ravel',f_ravel),('countVec',cv),('tfidf',tfidf),('knn',knn)])"
   ]
  },
  {
   "cell_type": "code",
   "execution_count": 72,
   "metadata": {
    "colab": {
     "base_uri": "https://localhost:8080/",
     "height": 221
    },
    "colab_type": "code",
    "id": "Pz9BbK3N9hYz",
    "outputId": "95f016a9-2769-44ee-bac4-a6c56526242d"
   },
   "outputs": [
    {
     "name": "stdout",
     "output_type": "stream",
     "text": [
      "-------------Predicting category location_ind ...-----------\n",
      "Test accuracy 0.9905008635578584\n",
      "              precision    recall  f1-score   support\n",
      "\n",
      "           0       1.00      0.99      1.00      1157\n",
      "           1       0.08      1.00      0.15         1\n",
      "\n",
      "    accuracy                           0.99      1158\n",
      "   macro avg       0.54      1.00      0.57      1158\n",
      "weighted avg       1.00      0.99      0.99      1158\n",
      "\n",
      "Test f1: 0.15384615384615385\n"
     ]
    }
   ],
   "source": [
    "print('-------------Predicting category',y.name,'...-----------')\n",
    "ppl.fit(X_train, y_train)\n",
    "y_pred = ppl.predict(X_test)\n",
    "print('Test accuracy',accuracy_score(y_pred, y_test))\n",
    "print(classification_report(y_pred, y_test))\n",
    "print('Test f1:',f1_score(y_pred, y_test))"
   ]
  },
  {
   "cell_type": "markdown",
   "metadata": {
    "colab_type": "text",
    "id": "pNUx13WcjLYV"
   },
   "source": [
    "# FB_Ind"
   ]
  },
  {
   "cell_type": "code",
   "execution_count": 73,
   "metadata": {
    "colab": {
     "base_uri": "https://localhost:8080/",
     "height": 34
    },
    "colab_type": "code",
    "id": "fPYAwY3fjIXF",
    "outputId": "efe7a464-fab8-4a40-a637-d3fb9d2db352"
   },
   "outputs": [
    {
     "name": "stdout",
     "output_type": "stream",
     "text": [
      "4630 1158 4630 1158\n"
     ]
    }
   ],
   "source": [
    "y = Y.iloc[:,4]\n",
    "train_index = X_train.index\n",
    "test_index = X_test.index\n",
    "y_train = Y.loc[train_index,y.name]\n",
    "y_test = Y.loc[test_index,y.name]\n",
    "print(len(X_train), len(X_test), len(y_train), len(y_test))"
   ]
  },
  {
   "cell_type": "code",
   "execution_count": 74,
   "metadata": {
    "colab": {
     "base_uri": "https://localhost:8080/",
     "height": 547
    },
    "colab_type": "code",
    "id": "_0RMIrJmjOzE",
    "outputId": "4e705742-251d-4119-dbf3-f0485feedbc9"
   },
   "outputs": [
    {
     "name": "stdout",
     "output_type": "stream",
     "text": [
      "Mean cross validation accuracy (no resampling): 0.9291578939709894\n",
      "Mean cross validation f1 (no resampling): 0.062403368904916885\n",
      "Test accuracy (no resampling) 0.9300518134715026\n",
      "Test f1 (no resampling) 0.06896551724137931\n",
      "\n",
      "Mean cross validation accuracy (ROS): 0.9302374812093616\n",
      "Mean cross validation f1 (ROS): 0.09506872608476886\n",
      "Test accuracy (ROS) 0.9317789291882557\n",
      "Test f1 (ROS) 0.09195402298850576\n",
      "\n",
      "Mean cross validation accuracy (RUS): 0.8736552730756876\n",
      "Mean cross validation f1 (RUS): 0.2125055531439045\n",
      "Test accuracy (RUS) 0.9291882556131261\n",
      "Test f1 (RUS) 0.046511627906976744\n"
     ]
    }
   ],
   "source": [
    "ppl = Pipeline([('countVec',cv),('tfidf',tfidf),('knn',knn)])\n",
    "val_score = cross_validate(ppl, X_train, y_train, cv=cv_set, scoring=['accuracy','f1'])\n",
    "print('Mean cross validation accuracy (no resampling):', val_score['test_accuracy'].mean())\n",
    "print('Mean cross validation f1 (no resampling):', val_score['test_f1'].mean())\n",
    "ppl.fit(X_train, y_train)\n",
    "y_pred = ppl.predict(X_test)\n",
    "print('Test accuracy (no resampling)',accuracy_score(y_pred, y_test))\n",
    "print('Test f1 (no resampling)',f1_score(y_pred, y_test))\n",
    "print('')\n",
    "\n",
    "ppl = Pipeline([('reshape',f_reshape),('resample',ros),('ravel',f_ravel),('countVec',cv),('tfidf',tfidf),('knn',knn)])\n",
    "val_score = cross_validate(ppl, X_train, y_train, cv=cv_set, scoring=['accuracy','f1'])\n",
    "print('Mean cross validation accuracy (ROS):', val_score['test_accuracy'].mean())\n",
    "print('Mean cross validation f1 (ROS):', val_score['test_f1'].mean())\n",
    "ppl.fit(X_train, y_train)\n",
    "y_pred = ppl.predict(X_test)\n",
    "print('Test accuracy (ROS)',accuracy_score(y_pred, y_test))\n",
    "print('Test f1 (ROS)',f1_score(y_pred, y_test))\n",
    "print('')\n",
    "\n",
    "ppl = Pipeline([('reshape',f_reshape),('resample',rus),('ravel',f_ravel),('countVec',cv),('tfidf',tfidf),('knn',knn)])\n",
    "val_score = cross_validate(ppl, X_train, y_train, cv=cv_set, scoring=['accuracy','f1'])\n",
    "print('Mean cross validation accuracy (RUS):', val_score['test_accuracy'].mean())\n",
    "print('Mean cross validation f1 (RUS):', val_score['test_f1'].mean())\n",
    "ppl.fit(X_train, y_train)\n",
    "y_pred = ppl.predict(X_test)\n",
    "print('Test accuracy (RUS)',accuracy_score(y_pred, y_test))\n",
    "print('Test f1 (RUS)',f1_score(y_pred, y_test))"
   ]
  },
  {
   "cell_type": "markdown",
   "metadata": {
    "colab_type": "text",
    "id": "_Zw5VhvGjSEx"
   },
   "source": [
    "### Grid Search"
   ]
  },
  {
   "cell_type": "code",
   "execution_count": 75,
   "metadata": {
    "colab": {
     "base_uri": "https://localhost:8080/",
     "height": 156
    },
    "colab_type": "code",
    "id": "n0sdq9KpjRMA",
    "outputId": "86bc7630-f9bd-4cc4-a53a-cd56f380063d"
   },
   "outputs": [
    {
     "name": "stdout",
     "output_type": "stream",
     "text": [
      "Fitting 3 folds for each of 56 candidates, totalling 168 fits\n"
     ]
    },
    {
     "name": "stderr",
     "output_type": "stream",
     "text": [
      "[Parallel(n_jobs=-1)]: Using backend LokyBackend with 4 concurrent workers.\n",
      "[Parallel(n_jobs=-1)]: Done  42 tasks      | elapsed:   27.8s\n",
      "/anaconda3/lib/python3.6/site-packages/joblib/externals/loky/process_executor.py:706: UserWarning: A worker stopped while some jobs were given to the executor. This can be caused by a too short worker timeout or by a memory leak.\n",
      "  \"timeout or by a memory leak.\", UserWarning\n",
      "[Parallel(n_jobs=-1)]: Done 168 out of 168 | elapsed:  3.4min finished\n"
     ]
    },
    {
     "name": "stdout",
     "output_type": "stream",
     "text": [
      "Best score: 0.931966 using {'countVec__analyzer': 'word', 'countVec__ngram_range': (1, 2), 'knn__n_neighbors': 2, 'tfidf__use_idf': False}\n"
     ]
    }
   ],
   "source": [
    "ppl = Pipeline([('reshape',f_reshape),('resample',ros),('ravel',f_ravel),('countVec',cv),('tfidf',tfidf),('knn',knn)])\n",
    "\n",
    "param_grid = {\n",
    "    'countVec__ngram_range': [(1,2), (1,3)],\n",
    "    'countVec__analyzer': ['word','char_wb'],\n",
    "    'tfidf__use_idf': [True, False],\n",
    "    'knn__n_neighbors': [2,3,4,5,6,7,8],\n",
    "}\n",
    "\n",
    "kfold_splits = 5\n",
    "grid = GridSearchCV(estimator=ppl,  \n",
    "                    n_jobs=-1, \n",
    "                    verbose=1,\n",
    "                    return_train_score=True,\n",
    "                    cv=cv_set,\n",
    "                    param_grid=param_grid,)\n",
    "#grid.get_params\n",
    "\n",
    "grid_result = grid.fit(X_train, y_train)\n",
    "\n",
    "# summarize results\n",
    "print(\"Best score: %f using %s\" % (grid_result.best_score_, grid_result.best_params_))"
   ]
  },
  {
   "cell_type": "markdown",
   "metadata": {
    "colab_type": "text",
    "id": "F3IGaYt6jXhA"
   },
   "source": [
    "### Final Prediction"
   ]
  },
  {
   "cell_type": "code",
   "execution_count": 76,
   "metadata": {},
   "outputs": [],
   "source": [
    "# Definition of the best model\n",
    "cv = CountVectorizer(max_features=max_f, analyzer='word',ngram_range=(1,2))\n",
    "tfidf = TfidfTransformer(use_idf=False)\n",
    "knn = KNeighborsClassifier(n_neighbors=2)\n",
    "ppl = Pipeline([('reshape',f_reshape),('resample',ros),('ravel',f_ravel),('countVec',cv),('tfidf',tfidf),('knn',knn)])"
   ]
  },
  {
   "cell_type": "code",
   "execution_count": 77,
   "metadata": {
    "colab": {
     "base_uri": "https://localhost:8080/",
     "height": 221
    },
    "colab_type": "code",
    "id": "Pz9BbK3N9hYz",
    "outputId": "95f016a9-2769-44ee-bac4-a6c56526242d"
   },
   "outputs": [
    {
     "name": "stdout",
     "output_type": "stream",
     "text": [
      "-------------Predicting category fb_ind ...-----------\n",
      "Test accuracy 0.9343696027633851\n",
      "              precision    recall  f1-score   support\n",
      "\n",
      "           0       1.00      0.94      0.97      1146\n",
      "           1       0.11      0.75      0.19        12\n",
      "\n",
      "    accuracy                           0.93      1158\n",
      "   macro avg       0.55      0.84      0.58      1158\n",
      "weighted avg       0.99      0.93      0.96      1158\n",
      "\n",
      "Test f1: 0.19148936170212766\n"
     ]
    }
   ],
   "source": [
    "print('-------------Predicting category',y.name,'...-----------')\n",
    "ppl.fit(X_train, y_train)\n",
    "y_pred = ppl.predict(X_test)\n",
    "print('Test accuracy',accuracy_score(y_pred, y_test))\n",
    "print(classification_report(y_pred, y_test))\n",
    "print('Test f1:',f1_score(y_pred, y_test))"
   ]
  },
  {
   "cell_type": "markdown",
   "metadata": {
    "colab_type": "text",
    "id": "qcu5Tmz2kiDZ"
   },
   "source": [
    "# Housekeep_Ind"
   ]
  },
  {
   "cell_type": "code",
   "execution_count": 78,
   "metadata": {
    "colab": {
     "base_uri": "https://localhost:8080/",
     "height": 34
    },
    "colab_type": "code",
    "id": "0zaxJ8jRkn51",
    "outputId": "40f87cdc-17c7-4981-a502-41aefe7e0563"
   },
   "outputs": [
    {
     "name": "stdout",
     "output_type": "stream",
     "text": [
      "4630 1158 4630 1158\n"
     ]
    }
   ],
   "source": [
    "y = Y.iloc[:,5]\n",
    "train_index = X_train.index\n",
    "test_index = X_test.index\n",
    "y_train = Y.loc[train_index,y.name]\n",
    "y_test = Y.loc[test_index,y.name]\n",
    "print(len(X_train), len(X_test), len(y_train), len(y_test))"
   ]
  },
  {
   "cell_type": "code",
   "execution_count": 79,
   "metadata": {
    "colab": {
     "base_uri": "https://localhost:8080/",
     "height": 426
    },
    "colab_type": "code",
    "id": "uKQAyeEUkt8g",
    "outputId": "2dc01c4a-6948-4e40-a6b7-7b427865f320"
   },
   "outputs": [
    {
     "name": "stdout",
     "output_type": "stream",
     "text": [
      "Mean cross validation accuracy (no resampling): 0.8528911279084214\n",
      "Mean cross validation f1 (no resampling): 0.12297965367738417\n",
      "Test accuracy (no resampling) 0.9697754749568221\n",
      "Test f1 (no resampling) 0.186046511627907\n",
      "\n",
      "Mean cross validation accuracy (ROS): 0.9669547804615416\n",
      "Mean cross validation f1 (ROS): 0.17228195937873358\n",
      "Test accuracy (ROS) 0.9715025906735751\n",
      "Test f1 (ROS) 0.15384615384615385\n",
      "\n",
      "Mean cross validation accuracy (RUS): 0.8788371798875527\n",
      "Mean cross validation f1 (RUS): 0.2288668413997743\n",
      "Test accuracy (RUS) 0.8791018998272885\n",
      "Test f1 (RUS) 0.22222222222222224\n"
     ]
    }
   ],
   "source": [
    "ppl = Pipeline([('countVec',cv),('tfidf',tfidf),('knn',knn)])\n",
    "val_score = cross_validate(ppl, X_train, y_train, cv=cv_set, scoring=['accuracy','f1'])\n",
    "print('Mean cross validation accuracy (no resampling):', val_score['test_accuracy'].mean())\n",
    "print('Mean cross validation f1 (no resampling):', val_score['test_f1'].mean())\n",
    "ppl.fit(X_train, y_train)\n",
    "y_pred = ppl.predict(X_test)\n",
    "print('Test accuracy (no resampling)',accuracy_score(y_pred, y_test))\n",
    "print('Test f1 (no resampling)',f1_score(y_pred, y_test))\n",
    "print('')\n",
    "\n",
    "ppl = Pipeline([('reshape',f_reshape),('resample',ros),('ravel',f_ravel),('countVec',cv),('tfidf',tfidf),('knn',knn)])\n",
    "val_score = cross_validate(ppl, X_train, y_train, cv=cv_set, scoring=['accuracy','f1'])\n",
    "print('Mean cross validation accuracy (ROS):', val_score['test_accuracy'].mean())\n",
    "print('Mean cross validation f1 (ROS):', val_score['test_f1'].mean())\n",
    "ppl.fit(X_train, y_train)\n",
    "y_pred = ppl.predict(X_test)\n",
    "print('Test accuracy (ROS)',accuracy_score(y_pred, y_test))\n",
    "print('Test f1 (ROS)',f1_score(y_pred, y_test))\n",
    "print('')\n",
    "\n",
    "ppl = Pipeline([('reshape',f_reshape),('resample',rus),('ravel',f_ravel),('countVec',cv),('tfidf',tfidf),('knn',knn)])\n",
    "val_score = cross_validate(ppl, X_train, y_train, cv=cv_set, scoring=['accuracy','f1'])\n",
    "print('Mean cross validation accuracy (RUS):', val_score['test_accuracy'].mean())\n",
    "print('Mean cross validation f1 (RUS):', val_score['test_f1'].mean())\n",
    "ppl.fit(X_train, y_train)\n",
    "y_pred = ppl.predict(X_test)\n",
    "print('Test accuracy (RUS)',accuracy_score(y_pred, y_test))\n",
    "print('Test f1 (RUS)',f1_score(y_pred, y_test))"
   ]
  },
  {
   "cell_type": "markdown",
   "metadata": {
    "colab_type": "text",
    "id": "uuCyG9pIkyQM"
   },
   "source": [
    "### Grid Search"
   ]
  },
  {
   "cell_type": "code",
   "execution_count": 80,
   "metadata": {
    "colab": {
     "base_uri": "https://localhost:8080/",
     "height": 187
    },
    "colab_type": "code",
    "id": "n0YdgZ1kkzo9",
    "outputId": "5555e818-97e0-4242-d4d7-cf98f386a2a2"
   },
   "outputs": [
    {
     "name": "stdout",
     "output_type": "stream",
     "text": [
      "Fitting 3 folds for each of 56 candidates, totalling 168 fits\n"
     ]
    },
    {
     "name": "stderr",
     "output_type": "stream",
     "text": [
      "[Parallel(n_jobs=-1)]: Using backend LokyBackend with 4 concurrent workers.\n",
      "[Parallel(n_jobs=-1)]: Done  42 tasks      | elapsed:    7.0s\n"
     ]
    },
    {
     "name": "stdout",
     "output_type": "stream",
     "text": [
      "Best score: 0.892875 using {'countVec__analyzer': 'word', 'countVec__ngram_range': (1, 3), 'knn__n_neighbors': 2, 'tfidf__use_idf': False}\n"
     ]
    },
    {
     "name": "stderr",
     "output_type": "stream",
     "text": [
      "[Parallel(n_jobs=-1)]: Done 168 out of 168 | elapsed:   40.2s finished\n"
     ]
    }
   ],
   "source": [
    "ppl = Pipeline([('reshape',f_reshape),('resample',rus),('ravel',f_ravel),('countVec',cv),('tfidf',tfidf),('knn',knn)])\n",
    "\n",
    "param_grid = {\n",
    "    'countVec__ngram_range': [(1,2), (1,3)],\n",
    "    'countVec__analyzer': ['word','char_wb'],\n",
    "    'tfidf__use_idf': [True, False],\n",
    "    'knn__n_neighbors': [2,3,4,5,6,7,8],\n",
    "}\n",
    "\n",
    "kfold_splits = 5\n",
    "grid = GridSearchCV(estimator=ppl,  \n",
    "                    n_jobs=-1, \n",
    "                    verbose=1,\n",
    "                    return_train_score=True,\n",
    "                    cv=cv_set,\n",
    "                    param_grid=param_grid,)\n",
    "#grid.get_params\n",
    "\n",
    "grid_result = grid.fit(X_train, y_train)\n",
    "\n",
    "# summarize results\n",
    "print(\"Best score: %f using %s\" % (grid_result.best_score_, grid_result.best_params_))"
   ]
  },
  {
   "cell_type": "markdown",
   "metadata": {
    "colab_type": "text",
    "id": "Pk5i42xXk1dL"
   },
   "source": [
    "### Final Prediction"
   ]
  },
  {
   "cell_type": "code",
   "execution_count": 81,
   "metadata": {},
   "outputs": [],
   "source": [
    "# Definition of the best model\n",
    "cv = CountVectorizer(max_features=max_f, analyzer='word',ngram_range=(1,3))\n",
    "tfidf = TfidfTransformer(use_idf=False)\n",
    "knn = KNeighborsClassifier(n_neighbors=2)\n",
    "ppl = Pipeline([('reshape',f_reshape),('resample',rus),('ravel',f_ravel),('countVec',cv),('tfidf',tfidf),('knn',knn)])"
   ]
  },
  {
   "cell_type": "code",
   "execution_count": 82,
   "metadata": {
    "colab": {
     "base_uri": "https://localhost:8080/",
     "height": 221
    },
    "colab_type": "code",
    "id": "Pz9BbK3N9hYz",
    "outputId": "95f016a9-2769-44ee-bac4-a6c56526242d"
   },
   "outputs": [
    {
     "name": "stdout",
     "output_type": "stream",
     "text": [
      "-------------Predicting category housekeep_ind ...-----------\n",
      "Test accuracy 0.917098445595855\n",
      "              precision    recall  f1-score   support\n",
      "\n",
      "           0       0.93      0.99      0.96      1053\n",
      "           1       0.64      0.20      0.30       105\n",
      "\n",
      "    accuracy                           0.92      1158\n",
      "   macro avg       0.78      0.59      0.63      1158\n",
      "weighted avg       0.90      0.92      0.90      1158\n",
      "\n",
      "Test f1: 0.30434782608695654\n"
     ]
    }
   ],
   "source": [
    "print('-------------Predicting category',y.name,'...-----------')\n",
    "ppl.fit(X_train, y_train)\n",
    "y_pred = ppl.predict(X_test)\n",
    "print('Test accuracy',accuracy_score(y_pred, y_test))\n",
    "print(classification_report(y_pred, y_test))\n",
    "print('Test f1:',f1_score(y_pred, y_test))"
   ]
  },
  {
   "cell_type": "markdown",
   "metadata": {
    "colab_type": "text",
    "id": "XE15Cdq_k6WE"
   },
   "source": [
    "# Front Office_Ind"
   ]
  },
  {
   "cell_type": "code",
   "execution_count": 83,
   "metadata": {
    "colab": {
     "base_uri": "https://localhost:8080/",
     "height": 34
    },
    "colab_type": "code",
    "id": "b8wmhQPuk9f8",
    "outputId": "be737198-6613-43b3-bdd2-aa891c37bd0c"
   },
   "outputs": [
    {
     "name": "stdout",
     "output_type": "stream",
     "text": [
      "4630 1158 4630 1158\n"
     ]
    }
   ],
   "source": [
    "y = Y.iloc[:,6]\n",
    "train_index = X_train.index\n",
    "test_index = X_test.index\n",
    "y_train = Y.loc[train_index,y.name]\n",
    "y_test = Y.loc[test_index,y.name]\n",
    "print(len(X_train), len(X_test), len(y_train), len(y_test))"
   ]
  },
  {
   "cell_type": "code",
   "execution_count": 84,
   "metadata": {
    "colab": {
     "base_uri": "https://localhost:8080/",
     "height": 547
    },
    "colab_type": "code",
    "id": "Bn04C5Z5lH8d",
    "outputId": "7404b4a5-b563-461a-d19d-2ac287ad4b07"
   },
   "outputs": [
    {
     "name": "stdout",
     "output_type": "stream",
     "text": [
      "Mean cross validation accuracy (no resampling): 0.8708426936736972\n",
      "Mean cross validation f1 (no resampling): 0.40306811930713166\n",
      "Test accuracy (no resampling) 0.8670120898100173\n",
      "Test f1 (no resampling) 0.36885245901639346\n",
      "\n",
      "Mean cross validation accuracy (ROS): 0.8714899423212749\n",
      "Mean cross validation f1 (ROS): 0.45740167918692004\n",
      "Test accuracy (ROS) 0.8713298791018999\n",
      "Test f1 (ROS) 0.4808362369337979\n",
      "\n",
      "Mean cross validation accuracy (RUS): 0.8488088162373503\n",
      "Mean cross validation f1 (RUS): 0.4586941922005802\n",
      "Test accuracy (RUS) 0.8747841105354058\n",
      "Test f1 (RUS) 0.4569288389513108\n"
     ]
    }
   ],
   "source": [
    "ppl = Pipeline([('countVec',cv),('tfidf',tfidf),('knn',knn)])\n",
    "val_score = cross_validate(ppl, X_train, y_train, cv=cv_set, scoring=['accuracy','f1'])\n",
    "print('Mean cross validation accuracy (no resampling):', val_score['test_accuracy'].mean())\n",
    "print('Mean cross validation f1 (no resampling):', val_score['test_f1'].mean())\n",
    "ppl.fit(X_train, y_train)\n",
    "y_pred = ppl.predict(X_test)\n",
    "print('Test accuracy (no resampling)',accuracy_score(y_pred, y_test))\n",
    "print('Test f1 (no resampling)',f1_score(y_pred, y_test))\n",
    "print('')\n",
    "\n",
    "ppl = Pipeline([('reshape',f_reshape),('resample',ros),('ravel',f_ravel),('countVec',cv),('tfidf',tfidf),('knn',knn)])\n",
    "val_score = cross_validate(ppl, X_train, y_train, cv=cv_set, scoring=['accuracy','f1'])\n",
    "print('Mean cross validation accuracy (ROS):', val_score['test_accuracy'].mean())\n",
    "print('Mean cross validation f1 (ROS):', val_score['test_f1'].mean())\n",
    "ppl.fit(X_train, y_train)\n",
    "y_pred = ppl.predict(X_test)\n",
    "print('Test accuracy (ROS)',accuracy_score(y_pred, y_test))\n",
    "print('Test f1 (ROS)',f1_score(y_pred, y_test))\n",
    "print('')\n",
    "\n",
    "ppl = Pipeline([('reshape',f_reshape),('resample',rus),('ravel',f_ravel),('countVec',cv),('tfidf',tfidf),('knn',knn)])\n",
    "val_score = cross_validate(ppl, X_train, y_train, cv=cv_set, scoring=['accuracy','f1'])\n",
    "print('Mean cross validation accuracy (RUS):', val_score['test_accuracy'].mean())\n",
    "print('Mean cross validation f1 (RUS):', val_score['test_f1'].mean())\n",
    "ppl.fit(X_train, y_train)\n",
    "y_pred = ppl.predict(X_test)\n",
    "print('Test accuracy (RUS)',accuracy_score(y_pred, y_test))\n",
    "print('Test f1 (RUS)',f1_score(y_pred, y_test))"
   ]
  },
  {
   "cell_type": "markdown",
   "metadata": {
    "colab_type": "text",
    "id": "Feq0QwfElI_d"
   },
   "source": [
    "### Grid Search"
   ]
  },
  {
   "cell_type": "code",
   "execution_count": 85,
   "metadata": {
    "colab": {
     "base_uri": "https://localhost:8080/",
     "height": 156
    },
    "colab_type": "code",
    "id": "E8YVndE7lK0D",
    "outputId": "af2f9827-d50a-420d-afdc-ccb3df1a1400"
   },
   "outputs": [
    {
     "name": "stdout",
     "output_type": "stream",
     "text": [
      "Fitting 3 folds for each of 56 candidates, totalling 168 fits\n"
     ]
    },
    {
     "name": "stderr",
     "output_type": "stream",
     "text": [
      "[Parallel(n_jobs=-1)]: Using backend LokyBackend with 4 concurrent workers.\n",
      "/anaconda3/lib/python3.6/site-packages/joblib/externals/loky/process_executor.py:706: UserWarning: A worker stopped while some jobs were given to the executor. This can be caused by a too short worker timeout or by a memory leak.\n",
      "  \"timeout or by a memory leak.\", UserWarning\n",
      "[Parallel(n_jobs=-1)]: Done  42 tasks      | elapsed:   20.9s\n",
      "[Parallel(n_jobs=-1)]: Done 168 out of 168 | elapsed:  3.1min finished\n"
     ]
    },
    {
     "name": "stdout",
     "output_type": "stream",
     "text": [
      "Best score: 0.873866 using {'countVec__analyzer': 'word', 'countVec__ngram_range': (1, 2), 'knn__n_neighbors': 3, 'tfidf__use_idf': False}\n"
     ]
    }
   ],
   "source": [
    "ppl = Pipeline([('reshape',f_reshape),('resample',ros),('ravel',f_ravel),('countVec',cv),('tfidf',tfidf),('knn',knn)])\n",
    "\n",
    "param_grid = {\n",
    "    'countVec__ngram_range': [(1,2), (1,3)],\n",
    "    'countVec__analyzer': ['word','char_wb'],\n",
    "    'tfidf__use_idf': [True, False],\n",
    "    'knn__n_neighbors': [2,3,4,5,6,7,8],\n",
    "}\n",
    "\n",
    "kfold_splits = 5\n",
    "grid = GridSearchCV(estimator=ppl,  \n",
    "                    n_jobs=-1, \n",
    "                    verbose=1,\n",
    "                    return_train_score=True,\n",
    "                    cv=cv_set,\n",
    "                    param_grid=param_grid,)\n",
    "#grid.get_params\n",
    "\n",
    "grid_result = grid.fit(X_train, y_train)\n",
    "\n",
    "# summarize results\n",
    "print(\"Best score: %f using %s\" % (grid_result.best_score_, grid_result.best_params_))"
   ]
  },
  {
   "cell_type": "markdown",
   "metadata": {
    "colab_type": "text",
    "id": "ZXPTw9-qlOEi"
   },
   "source": [
    "### Final Prediction"
   ]
  },
  {
   "cell_type": "code",
   "execution_count": 86,
   "metadata": {},
   "outputs": [],
   "source": [
    "# Definition of the best model\n",
    "cv = CountVectorizer(max_features=max_f, analyzer='word',ngram_range=(1,2))\n",
    "tfidf = TfidfTransformer(use_idf=False)\n",
    "knn = KNeighborsClassifier(n_neighbors=3)\n",
    "ppl = Pipeline([('reshape',f_reshape),('resample',ros),('ravel',f_ravel),('countVec',cv),('tfidf',tfidf),('knn',knn)])"
   ]
  },
  {
   "cell_type": "code",
   "execution_count": 87,
   "metadata": {
    "colab": {
     "base_uri": "https://localhost:8080/",
     "height": 221
    },
    "colab_type": "code",
    "id": "Pz9BbK3N9hYz",
    "outputId": "95f016a9-2769-44ee-bac4-a6c56526242d"
   },
   "outputs": [
    {
     "name": "stdout",
     "output_type": "stream",
     "text": [
      "-------------Predicting category frontoff_ind ...-----------\n",
      "Test accuracy 0.8704663212435233\n",
      "              precision    recall  f1-score   support\n",
      "\n",
      "           0       0.97      0.89      0.93      1054\n",
      "           1       0.38      0.70      0.49       104\n",
      "\n",
      "    accuracy                           0.87      1158\n",
      "   macro avg       0.67      0.79      0.71      1158\n",
      "weighted avg       0.92      0.87      0.89      1158\n",
      "\n",
      "Test f1: 0.49324324324324326\n"
     ]
    }
   ],
   "source": [
    "print('-------------Predicting category',y.name,'...-----------')\n",
    "ppl.fit(X_train, y_train)\n",
    "y_pred = ppl.predict(X_test)\n",
    "print('Test accuracy',accuracy_score(y_pred, y_test))\n",
    "print(classification_report(y_pred, y_test))\n",
    "print('Test f1:',f1_score(y_pred, y_test))"
   ]
  },
  {
   "cell_type": "markdown",
   "metadata": {
    "colab_type": "text",
    "id": "tc3vO-OmlSj3"
   },
   "source": [
    "# Others"
   ]
  },
  {
   "cell_type": "code",
   "execution_count": 88,
   "metadata": {
    "colab": {
     "base_uri": "https://localhost:8080/",
     "height": 34
    },
    "colab_type": "code",
    "id": "UXcxF1bLlTiT",
    "outputId": "23bd8d92-16e8-4198-e40d-31c43344bb57"
   },
   "outputs": [
    {
     "name": "stdout",
     "output_type": "stream",
     "text": [
      "4630 1158 4630 1158\n"
     ]
    }
   ],
   "source": [
    "y = Y.iloc[:,7]\n",
    "train_index = X_train.index\n",
    "test_index = X_test.index\n",
    "y_train = Y.loc[train_index,y.name]\n",
    "y_test = Y.loc[test_index,y.name]\n",
    "print(len(X_train), len(X_test), len(y_train), len(y_test))"
   ]
  },
  {
   "cell_type": "code",
   "execution_count": 89,
   "metadata": {
    "colab": {
     "base_uri": "https://localhost:8080/",
     "height": 547
    },
    "colab_type": "code",
    "id": "u_PV9aS2lXSg",
    "outputId": "8f495f14-aff8-479c-be28-caef4935fcc8"
   },
   "outputs": [
    {
     "name": "stdout",
     "output_type": "stream",
     "text": [
      "Mean cross validation accuracy (no resampling): 0.6315407651917345\n",
      "Mean cross validation f1 (no resampling): 0.42033297707645517\n",
      "Test accuracy (no resampling) 0.8074265975820379\n",
      "Test f1 (no resampling) 0.39237057220708443\n",
      "\n",
      "Mean cross validation accuracy (ROS): 0.7950330312279984\n",
      "Mean cross validation f1 (ROS): 0.4338840860200044\n",
      "Test accuracy (ROS) 0.8031088082901554\n",
      "Test f1 (ROS) 0.4597156398104265\n",
      "\n",
      "Mean cross validation accuracy (RUS): 0.4559512736219172\n",
      "Mean cross validation f1 (RUS): 0.43022491322370104\n",
      "Test accuracy (RUS) 0.44127806563039723\n",
      "Test f1 (RUS) 0.4299559471365638\n"
     ]
    }
   ],
   "source": [
    "ppl = Pipeline([('countVec',cv),('tfidf',tfidf),('knn',knn)])\n",
    "val_score = cross_validate(ppl, X_train, y_train, cv=cv_set, scoring=['accuracy','f1'])\n",
    "print('Mean cross validation accuracy (no resampling):', val_score['test_accuracy'].mean())\n",
    "print('Mean cross validation f1 (no resampling):', val_score['test_f1'].mean())\n",
    "ppl.fit(X_train, y_train)\n",
    "y_pred = ppl.predict(X_test)\n",
    "print('Test accuracy (no resampling)',accuracy_score(y_pred, y_test))\n",
    "print('Test f1 (no resampling)',f1_score(y_pred, y_test))\n",
    "print('')\n",
    "\n",
    "ppl = Pipeline([('reshape',f_reshape),('resample',ros),('ravel',f_ravel),('countVec',cv),('tfidf',tfidf),('knn',knn)])\n",
    "val_score = cross_validate(ppl, X_train, y_train, cv=cv_set, scoring=['accuracy','f1'])\n",
    "print('Mean cross validation accuracy (ROS):', val_score['test_accuracy'].mean())\n",
    "print('Mean cross validation f1 (ROS):', val_score['test_f1'].mean())\n",
    "ppl.fit(X_train, y_train)\n",
    "y_pred = ppl.predict(X_test)\n",
    "print('Test accuracy (ROS)',accuracy_score(y_pred, y_test))\n",
    "print('Test f1 (ROS)',f1_score(y_pred, y_test))\n",
    "print('')\n",
    "\n",
    "ppl = Pipeline([('reshape',f_reshape),('resample',rus),('ravel',f_ravel),('countVec',cv),('tfidf',tfidf),('knn',knn)])\n",
    "val_score = cross_validate(ppl, X_train, y_train, cv=cv_set, scoring=['accuracy','f1'])\n",
    "print('Mean cross validation accuracy (RUS):', val_score['test_accuracy'].mean())\n",
    "print('Mean cross validation f1 (RUS):', val_score['test_f1'].mean())\n",
    "ppl.fit(X_train, y_train)\n",
    "y_pred = ppl.predict(X_test)\n",
    "print('Test accuracy (RUS)',accuracy_score(y_pred, y_test))\n",
    "print('Test f1 (RUS)',f1_score(y_pred, y_test))"
   ]
  },
  {
   "cell_type": "markdown",
   "metadata": {
    "colab_type": "text",
    "id": "q16DTloDlaJg"
   },
   "source": [
    "### Grid Search"
   ]
  },
  {
   "cell_type": "code",
   "execution_count": 90,
   "metadata": {
    "colab": {
     "base_uri": "https://localhost:8080/",
     "height": 156
    },
    "colab_type": "code",
    "id": "xFKov-K9lbm3",
    "outputId": "2f4c1b8a-a0c2-4863-b0a7-e78f61f34da1"
   },
   "outputs": [
    {
     "name": "stdout",
     "output_type": "stream",
     "text": [
      "Fitting 3 folds for each of 56 candidates, totalling 168 fits\n"
     ]
    },
    {
     "name": "stderr",
     "output_type": "stream",
     "text": [
      "[Parallel(n_jobs=-1)]: Using backend LokyBackend with 4 concurrent workers.\n",
      "[Parallel(n_jobs=-1)]: Done  42 tasks      | elapsed:   18.3s\n"
     ]
    },
    {
     "name": "stdout",
     "output_type": "stream",
     "text": [
      "Best score: 0.800004 using {'countVec__analyzer': 'word', 'countVec__ngram_range': (1, 2), 'knn__n_neighbors': 2, 'tfidf__use_idf': False}\n"
     ]
    },
    {
     "name": "stderr",
     "output_type": "stream",
     "text": [
      "[Parallel(n_jobs=-1)]: Done 168 out of 168 | elapsed:  2.4min finished\n"
     ]
    }
   ],
   "source": [
    "ppl = Pipeline([('reshape',f_reshape),('resample',ros),('ravel',f_ravel),('countVec',cv),('tfidf',tfidf),('knn',knn)])\n",
    "\n",
    "param_grid = {\n",
    "    'countVec__ngram_range': [(1,2), (1,3)],\n",
    "    'countVec__analyzer': ['word','char_wb'],\n",
    "    'tfidf__use_idf': [True, False],\n",
    "    'knn__n_neighbors': [2,3,4,5,6,7,8],\n",
    "}\n",
    "\n",
    "kfold_splits = 5\n",
    "grid = GridSearchCV(estimator=ppl,  \n",
    "                    n_jobs=-1, \n",
    "                    verbose=1,\n",
    "                    return_train_score=True,\n",
    "                    cv=cv_set,\n",
    "                    param_grid=param_grid,)\n",
    "#grid.get_params\n",
    "\n",
    "grid_result = grid.fit(X_train, y_train)\n",
    "\n",
    "# summarize results\n",
    "print(\"Best score: %f using %s\" % (grid_result.best_score_, grid_result.best_params_))"
   ]
  },
  {
   "cell_type": "markdown",
   "metadata": {
    "colab_type": "text",
    "id": "gRqJO4lcleaL"
   },
   "source": [
    "### Final Prediction"
   ]
  },
  {
   "cell_type": "code",
   "execution_count": 91,
   "metadata": {},
   "outputs": [],
   "source": [
    "# Definition of the best model\n",
    "cv = CountVectorizer(max_features=max_f, analyzer='word',ngram_range=(1,2))\n",
    "tfidf = TfidfTransformer(use_idf=False)\n",
    "knn = KNeighborsClassifier(n_neighbors=2)\n",
    "ppl = Pipeline([('reshape',f_reshape),('resample',ros),('ravel',f_ravel),('countVec',cv),('tfidf',tfidf),('knn',knn)])"
   ]
  },
  {
   "cell_type": "code",
   "execution_count": 92,
   "metadata": {
    "colab": {
     "base_uri": "https://localhost:8080/",
     "height": 221
    },
    "colab_type": "code",
    "id": "Pz9BbK3N9hYz",
    "outputId": "95f016a9-2769-44ee-bac4-a6c56526242d"
   },
   "outputs": [
    {
     "name": "stdout",
     "output_type": "stream",
     "text": [
      "-------------Predicting category Others ...-----------\n",
      "Test accuracy 0.809153713298791\n",
      "              precision    recall  f1-score   support\n",
      "\n",
      "           0       0.96      0.83      0.89      1043\n",
      "           1       0.29      0.66      0.41       115\n",
      "\n",
      "    accuracy                           0.81      1158\n",
      "   macro avg       0.63      0.74      0.65      1158\n",
      "weighted avg       0.89      0.81      0.84      1158\n",
      "\n",
      "Test f1: 0.4075067024128686\n"
     ]
    }
   ],
   "source": [
    "print('-------------Predicting category',y.name,'...-----------')\n",
    "ppl.fit(X_train, y_train)\n",
    "y_pred = ppl.predict(X_test)\n",
    "print('Test accuracy',accuracy_score(y_pred, y_test))\n",
    "print(classification_report(y_pred, y_test))\n",
    "print('Test f1:',f1_score(y_pred, y_test))"
   ]
  }
 ],
 "metadata": {
  "colab": {
   "collapsed_sections": [],
   "name": "SVC_KNN.ipynb",
   "provenance": []
  },
  "kernelspec": {
   "display_name": "Python 3",
   "language": "python",
   "name": "python3"
  },
  "language_info": {
   "codemirror_mode": {
    "name": "ipython",
    "version": 3
   },
   "file_extension": ".py",
   "mimetype": "text/x-python",
   "name": "python",
   "nbconvert_exporter": "python",
   "pygments_lexer": "ipython3",
   "version": "3.6.10"
  }
 },
 "nbformat": 4,
 "nbformat_minor": 1
}
