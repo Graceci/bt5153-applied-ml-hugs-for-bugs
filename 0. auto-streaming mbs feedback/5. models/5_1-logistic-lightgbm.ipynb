{
 "cells": [
  {
   "cell_type": "markdown",
   "metadata": {
    "colab_type": "text",
    "id": "UH3J1CJza2a7"
   },
   "source": [
    "# Classification (department)"
   ]
  },
  {
   "cell_type": "markdown",
   "metadata": {
    "colab_type": "text",
    "id": "_0afyQqMa2bC"
   },
   "source": [
    "## 1.Read the dataset"
   ]
  },
  {
   "cell_type": "code",
   "execution_count": 0,
   "metadata": {
    "colab": {},
    "colab_type": "code",
    "id": "Xe-Za4hca2bG"
   },
   "outputs": [],
   "source": [
    "import pandas  as pd\n",
    "\n",
    "import nltk\n",
    "from nltk.tag import pos_tag\n",
    "from nltk.corpus import stopwords\n",
    "from nltk.tokenize import word_tokenize\n",
    "from wordcloud import WordCloud, STOPWORDS\n",
    "import matplotlib.pyplot as plt\n",
    "import pandas as pd\n",
    "from nltk import ngrams  \n",
    "import re \n",
    "brief_cleaning = lambda x: re.sub(\"[^A-Za-z']+\", ' ', str(x)).lower()\n",
    "\n"
   ]
  },
  {
   "cell_type": "code",
   "execution_count": 12,
   "metadata": {
    "colab": {
     "base_uri": "https://localhost:8080/",
     "height": 200
    },
    "colab_type": "code",
    "id": "rmUmJYdlbZ4B",
    "outputId": "9770e647-f8eb-4528-fd0a-a1122c2b08d7"
   },
   "outputs": [
    {
     "name": "stdout",
     "output_type": "stream",
     "text": [
      "Requirement already satisfied: vaderSentiment in /usr/local/lib/python3.6/dist-packages (3.3.1)\n",
      "[nltk_data] Downloading package stopwords to /root/nltk_data...\n",
      "[nltk_data]   Package stopwords is already up-to-date!\n",
      "[nltk_data] Downloading package punkt to /root/nltk_data...\n",
      "[nltk_data]   Package punkt is already up-to-date!\n",
      "[nltk_data] Downloading package averaged_perceptron_tagger to\n",
      "[nltk_data]     /root/nltk_data...\n",
      "[nltk_data]   Package averaged_perceptron_tagger is already up-to-\n",
      "[nltk_data]       date!\n"
     ]
    },
    {
     "data": {
      "text/plain": [
       "True"
      ]
     },
     "execution_count": 12,
     "metadata": {
      "tags": []
     },
     "output_type": "execute_result"
    }
   ],
   "source": [
    "!pip install vaderSentiment\n",
    "nltk.download('stopwords')\n",
    "nltk.download('punkt')\n",
    "nltk.download('averaged_perceptron_tagger')"
   ]
  },
  {
   "cell_type": "markdown",
   "metadata": {
    "colab_type": "text",
    "id": "DfS7TJJrKO9V"
   },
   "source": [
    "2. Cleaning\n"
   ]
  },
  {
   "cell_type": "code",
   "execution_count": 13,
   "metadata": {
    "colab": {
     "base_uri": "https://localhost:8080/",
     "height": 1000
    },
    "colab_type": "code",
    "id": "XH5iZMyiCNF4",
    "outputId": "11a59bba-f78e-49ce-fccf-934700f32972"
   },
   "outputs": [
    {
     "name": "stdout",
     "output_type": "stream",
     "text": [
      "             review_number                                 ... Others               \n",
      "                     count         mean          std  min  ...    25%  50%  75%  max\n",
      "facility_ind                                               ...                      \n",
      "0                   3800.0  2510.828158  1656.042307  0.0  ...    0.0  0.0  1.0  1.0\n",
      "1                   1988.0  2105.807847  1583.982481  0.0  ...    0.0  0.0  0.0  1.0\n",
      "\n",
      "[2 rows x 64 columns]\n",
      "             review_number                                  ... Others               \n",
      "                     count         mean          std   min  ...    25%  50%  75%  max\n",
      "security_ind                                                ...                      \n",
      "0                   5723.0  2370.019745  1640.229271   0.0  ...    0.0  0.0  0.0  1.0\n",
      "1                     65.0  2521.076923  1864.528680  14.0  ...    0.0  0.0  0.0  1.0\n",
      "\n",
      "[2 rows x 64 columns]\n",
      "            review_number                                 ... Others               \n",
      "                    count         mean          std  min  ...    25%  50%  75%  max\n",
      "pricing_ind                                               ...                      \n",
      "0                  4515.0  2345.991584  1638.068296  0.0  ...    0.0  0.0  1.0  1.0\n",
      "1                  1273.0  2462.954438  1656.960620  2.0  ...    0.0  0.0  0.0  1.0\n",
      "\n",
      "[2 rows x 64 columns]\n",
      "             review_number                                 ... Others               \n",
      "                     count         mean          std  min  ...    25%  50%  75%  max\n",
      "location_ind                                               ...                      \n",
      "0                   5722.0  2373.881160  1643.174489  0.0  ...    0.0  0.0  0.0  1.0\n",
      "1                     66.0  2184.015152  1612.330654  5.0  ...    0.0  0.0  0.0  0.0\n",
      "\n",
      "[2 rows x 64 columns]\n",
      "       review_number                                 ... Others               \n",
      "               count         mean          std  min  ...    25%  50%  75%  max\n",
      "fb_ind                                               ...                      \n",
      "0             5380.0  2398.292193  1633.726400  0.0  ...    0.0  0.0  0.0  1.0\n",
      "1              408.0  2021.276961  1722.352954  0.0  ...    0.0  0.0  0.0  1.0\n",
      "\n",
      "[2 rows x 64 columns]\n",
      "              review_number                                  ... Others               \n",
      "                      count         mean          std   min  ...    25%  50%  75%  max\n",
      "housekeep_ind                                                ...                      \n",
      "0                    5608.0  2378.679565  1643.985846   0.0  ...    0.0  0.0  0.0  1.0\n",
      "1                     180.0  2154.766667  1595.088692  20.0  ...    0.0  0.0  0.0  1.0\n",
      "\n",
      "[2 rows x 64 columns]\n",
      "             review_number                                 ... Others               \n",
      "                     count         mean          std  min  ...    25%  50%  75%  max\n",
      "frontoff_ind                                               ...                      \n",
      "0                   4818.0  2418.249066  1652.372452  0.0  ...    0.0  0.0  1.0  1.0\n",
      "1                    970.0  2140.586598  1575.051188  0.0  ...    0.0  0.0  0.0  1.0\n",
      "\n",
      "[2 rows x 64 columns]\n",
      "       review_number                                 ... frontoff_ind               \n",
      "               count         mean          std  min  ...          25%  50%  75%  max\n",
      "Others                                               ...                            \n",
      "0             4492.0  2247.363090  1629.869206  0.0  ...          0.0  0.0  0.0  1.0\n",
      "1             1296.0  2802.729938  1615.013377  0.0  ...          0.0  0.0  0.0  1.0\n",
      "\n",
      "[2 rows x 64 columns]\n"
     ]
    }
   ],
   "source": [
    "df=pd.read_excel('cons_data_full.xlsx')\n",
    "df['facility_ind']=df['facility_ind'].fillna(0)\n",
    "df['security_ind']=df['security_ind'].fillna(0)\n",
    "df['pricing_ind']=df['pricing_ind'].fillna(0)\n",
    "df['location_ind']=df['location_ind'].fillna(0)\n",
    "df['fb_ind']=df['fb_ind'].fillna(0)\n",
    "df['housekeep_ind']=df['housekeep_ind'].fillna(0)\n",
    "df['frontoff_ind']=df['frontoff_ind'].fillna(0)\n",
    "df['Others']=df['Others'].fillna(0)\n",
    "df=df.replace('`',0)\n",
    "df=df[ ~ ((df['facility_ind']==0) & (df['security_ind']==0) & (df['pricing_ind']==0) &\n",
    "          (df['location_ind']==0) & (df['fb_ind']==0) & (df['housekeep_ind']==0) &\n",
    "          (df['frontoff_ind']==0) & (df['Others']==0)   )]\n",
    "df['cons']=df['cons'].apply(lambda x: re.sub(\"[^A-Za-z']+\", ' ', str(x)).lower())\n",
    "df=df.drop(['Unnamed: 0', 'Unnamed: 11', 'Unnamed: 12', 'Unnamed: 13',\n",
    "       'Unnamed: 14'],axis=1)\n",
    "group_columns=['facility_ind', 'security_ind', 'pricing_ind',\n",
    "       'location_ind', 'fb_ind', 'housekeep_ind', 'frontoff_ind', 'Others',]\n",
    "for column_name in group_columns:\n",
    "  df[column_name]= df[column_name].apply(lambda x: int(x))\n",
    "for column_name in group_columns:\n",
    "  group=df.groupby(column_name)\n",
    "  print(group.describe())"
   ]
  },
  {
   "cell_type": "code",
   "execution_count": 15,
   "metadata": {
    "colab": {
     "base_uri": "https://localhost:8080/",
     "height": 127
    },
    "colab_type": "code",
    "id": "lPEgsePua2bV",
    "outputId": "a371af1e-0213-4b2b-8f45-3b38720ba2db",
    "scrolled": true
   },
   "outputs": [
    {
     "name": "stdout",
     "output_type": "stream",
     "text": [
      "0                                             bedroom \n",
      "1                                        soft furnish \n",
      "2                           little furniture big spac \n",
      "3    uncomfortable couch area colour inventive desi...\n",
      "4                       hotel bar relaxing drink dinn \n",
      "Name: clean, dtype: object\n"
     ]
    }
   ],
   "source": [
    "from nltk import ngrams\n",
    "from nltk.stem import SnowballStemmer\n",
    "from nltk.tag import pos_tag\n",
    "from nltk.corpus import stopwords\n",
    "from nltk.tokenize import word_tokenize\n",
    "from wordcloud import WordCloud, STOPWORDS\n",
    "from nltk import ngrams\n",
    "from nltk.stem import SnowballStemmer\n",
    "import string\n",
    "\n",
    "stop_words= set(stopwords.words('english'))\n",
    "stop_words_add=['       ']\n",
    "\n",
    "for w in stop_words_add:\n",
    "    stop_words.add(w)\n",
    "    \n",
    "def clean(val):\n",
    "   comment_words_1=''\n",
    "   stemmer = SnowballStemmer(\"english\") \n",
    "   comment_words=stemmer.stem(val)\n",
    "   tokens=  word_tokenize(comment_words)\n",
    "   pos_result = nltk.pos_tag(tokens)\n",
    "   val_list1=[word for word in pos_result if word not in stop_words]\n",
    "   for i in range(len(val_list1)):\n",
    "      if ((pos_result[i][1]=='NN') or (pos_result[i][1]=='JJ')):\n",
    "          comment_words_1 = comment_words_1+str(pos_result[i][0])+ ' '\n",
    "   return comment_words_1\n",
    "\n",
    "def clean_stopwords(val):\n",
    "   val=re.sub(\"[^A-Za-z']+\", ' ', str(val)).lower()\n",
    "   comment_words=''\n",
    "   tokens=  word_tokenize(val) \n",
    "   stemmer = SnowballStemmer(\"english\") \n",
    "  \n",
    "   val_list1=[word for word in tokens if word not in stop_words]\n",
    "   val_list=[]\n",
    "   for word in val_list1:\n",
    "      val_list.append(stemmer.stem(word))\n",
    "\n",
    "   comment_words=' '.join(val_list)\n",
    "   return comment_words \n",
    "\n",
    " \n",
    "df['clean']=df['cons'].apply(clean)\n",
    "df['clean_stopwords']=df['cons'].apply(clean_stopwords)\n",
    "print(df['clean'].head())"
   ]
  },
  {
   "cell_type": "code",
   "execution_count": 0,
   "metadata": {
    "colab": {},
    "colab_type": "code",
    "id": "ooW7YgakaoIg"
   },
   "outputs": [],
   "source": [
    "df1=df.drop(['cons','clean'],axis=1)\n",
    "df1.rename(columns={'clean_stopwords':'cons'},inplace=True)\n",
    "df1.to_csv('data_cleaned.csv',index=False)"
   ]
  },
  {
   "cell_type": "code",
   "execution_count": 0,
   "metadata": {
    "colab": {
     "base_uri": "https://localhost:8080/",
     "height": 127
    },
    "colab_type": "code",
    "id": "rC0GWaXXWcTC",
    "outputId": "a1a14389-3ce2-472d-8a0a-4541c0fd8c23"
   },
   "outputs": [
    {
     "name": "stdout",
     "output_type": "stream",
     "text": [
      "0                                        bedroom bland\n",
      "1                                         soft furnish\n",
      "2                             littl furnitur big space\n",
      "3    uncomfort couch area need colour invent design...\n",
      "4             hotel could resid bar relax drink dinner\n",
      "Name: clean_stopwords, dtype: object\n"
     ]
    }
   ],
   "source": [
    "print(df['clean_stopwords'].head())"
   ]
  },
  {
   "cell_type": "markdown",
   "metadata": {
    "colab_type": "text",
    "id": "cE3DDS5Ma2bn"
   },
   "source": [
    "## 3. Spilt the dataset"
   ]
  },
  {
   "cell_type": "code",
   "execution_count": 0,
   "metadata": {
    "colab": {},
    "colab_type": "code",
    "id": "5HY5GZt8a2bp"
   },
   "outputs": [],
   "source": [
    "from sklearn.model_selection import train_test_split \n",
    "\n",
    "X=df['clean_stopwords']\n",
    "#X=df['clean']\n",
    "\n",
    "X_train0,X_test0, y_train0, y_test0 = train_test_split(X, df['facility_ind'], test_size =  0.20, random_state=42)\n",
    "X_train1,X_test1, y_train1, y_test1 = train_test_split(X, df['security_ind'], test_size =  0.20, random_state=42) \n",
    "X_train2,X_test2, y_train2, y_test2 = train_test_split(X, df['pricing_ind'], test_size =  0.20, random_state=42) \n",
    "X_train3,X_test3, y_train3, y_test3 = train_test_split(X, df['location_ind'], test_size =  0.20, random_state=42) \n",
    "X_train4,X_test4, y_train4, y_test4 = train_test_split(X, df['fb_ind'], test_size =  0.20, random_state=42) \n",
    "X_train5,X_test5, y_train5, y_test5 = train_test_split(X, df['housekeep_ind'], test_size =  0.20, random_state=42) \n",
    "X_train6,X_test6, y_train6, y_test6 = train_test_split(X, df['frontoff_ind'], test_size =  0.20, random_state=42) \n",
    "X_train7,X_test7, y_train7, y_test7 = train_test_split(X, df['Others'], test_size =  0.20, random_state=42) "
   ]
  },
  {
   "cell_type": "markdown",
   "metadata": {
    "colab_type": "text",
    "id": "zQuTr4cea2bx"
   },
   "source": [
    "## 4. Features-- Tf-idf"
   ]
  },
  {
   "cell_type": "code",
   "execution_count": 0,
   "metadata": {
    "colab": {},
    "colab_type": "code",
    "id": "NXAsAvSJa2b0"
   },
   "outputs": [],
   "source": [
    "from sklearn.feature_extraction.text import TfidfVectorizer\n",
    "tvec = TfidfVectorizer(ngram_range = (1,1),norm='l2', use_idf=False, sublinear_tf=False)\n",
    "                                # max_features=5000) #,sublinear_tf=True)\n",
    "                  \n",
    "X_train_tfidf=tvec.fit_transform(X_train0)\n",
    "X_test_tfidf=tvec.transform(X_test0)\n",
    "X_train_tfidf.shape\n",
    "\n",
    "X_train_tfidf0=X_train_tfidf\n",
    "X_test_tfidf0=tvec.transform(X_test0)\n",
    "X_train_tfidf1=tvec.transform(X_train1)\n",
    "X_test_tfidf1=tvec.transform(X_test1)\n",
    "\n",
    "X_train_tfidf2=tvec.transform(X_train2)\n",
    "X_test_tfidf2=tvec.transform(X_test2)\n",
    "X_train_tfidf3=tvec.transform(X_train3)\n",
    "X_test_tfidf3=tvec.transform(X_test3)\n",
    "X_train_tfidf4=tvec.transform(X_train4)\n",
    "X_test_tfidf4=tvec.transform(X_test4)\n",
    "X_train_tfidf5=tvec.transform(X_train5)\n",
    "X_test_tfidf5=tvec.transform(X_test5)\n",
    "X_train_tfidf6=tvec.transform(X_train6)\n",
    "X_test_tfidf6=tvec.transform(X_test6)\n",
    "X_train_tfidf7=tvec.transform(X_train7)\n",
    "X_test_tfidf7=tvec.transform(X_test7)"
   ]
  },
  {
   "cell_type": "code",
   "execution_count": 0,
   "metadata": {
    "colab": {
     "base_uri": "https://localhost:8080/",
     "height": 201
    },
    "colab_type": "code",
    "id": "nY1kk2tZa2cB",
    "outputId": "0c3bc767-a718-414e-f921-6c0ef2d99ef3"
   },
   "outputs": [
    {
     "data": {
      "text/plain": [
       "['abd',\n",
       " 'abd final',\n",
       " 'abil',\n",
       " 'abil sit',\n",
       " 'abil transport',\n",
       " 'abit',\n",
       " 'abit expens',\n",
       " 'abl',\n",
       " 'abl access',\n",
       " 'abl bring']"
      ]
     },
     "execution_count": 121,
     "metadata": {
      "tags": []
     },
     "output_type": "execute_result"
    }
   ],
   "source": [
    "tvec.get_feature_names()[0:10]"
   ]
  },
  {
   "cell_type": "markdown",
   "metadata": {
    "colab_type": "text",
    "id": "NfaND8W6a2cN"
   },
   "source": [
    "## 5. Modeling \n",
    "   5.1 LightGBM         \n",
    "  "
   ]
  },
  {
   "cell_type": "code",
   "execution_count": 0,
   "metadata": {
    "colab": {
     "base_uri": "https://localhost:8080/",
     "height": 1000
    },
    "colab_type": "code",
    "id": "IrZSjbGRa2cR",
    "outputId": "6c3bf220-8e2e-4ddf-c292-4ba3aee2bee8"
   },
   "outputs": [
    {
     "name": "stderr",
     "output_type": "stream",
     "text": [
      "/usr/local/lib/python3.6/dist-packages/sklearn/utils/deprecation.py:87: FutureWarning: Function safe_indexing is deprecated; safe_indexing is deprecated in version 0.22 and will be removed in version 0.24.\n",
      "  warnings.warn(msg, category=FutureWarning)\n"
     ]
    },
    {
     "name": "stdout",
     "output_type": "stream",
     "text": [
      "-------------------******-----------------------------------\n",
      "Training until validation scores don't improve for 250 rounds.\n",
      "[200]\tvalid_0's binary_error: 0.0250432\n",
      "Early stopping, best iteration is:\n",
      "[9]\tvalid_0's binary_error: 0.015544\n",
      "14 10\n",
      "-------------------******-----------------------------------\n",
      "Training until validation scores don't improve for 250 rounds.\n",
      "[200]\tvalid_0's binary_error: 0.0250432\n",
      "Early stopping, best iteration is:\n",
      "[20]\tvalid_0's binary_error: 0.0146805\n",
      "14 15\n",
      "-------------------******-----------------------------------\n",
      "Training until validation scores don't improve for 250 rounds.\n",
      "[200]\tvalid_0's binary_error: 0.0250432\n",
      "Early stopping, best iteration is:\n",
      "[30]\tvalid_0's binary_error: 0.0146805\n",
      "14 20\n",
      "-------------------******-----------------------------------\n",
      "Training until validation scores don't improve for 250 rounds.\n",
      "[200]\tvalid_0's binary_error: 0.0241796\n",
      "Early stopping, best iteration is:\n",
      "[22]\tvalid_0's binary_error: 0.015544\n",
      "14 25\n",
      "-------------------******-----------------------------------\n",
      "Training until validation scores don't improve for 250 rounds.\n",
      "[200]\tvalid_0's binary_error: 0.0250432\n",
      "Early stopping, best iteration is:\n",
      "[22]\tvalid_0's binary_error: 0.015544\n",
      "15 10\n",
      "-------------------******-----------------------------------\n",
      "Training until validation scores don't improve for 250 rounds.\n",
      "[200]\tvalid_0's binary_error: 0.0259067\n",
      "Early stopping, best iteration is:\n",
      "[19]\tvalid_0's binary_error: 0.0146805\n",
      "15 15\n",
      "-------------------******-----------------------------------\n",
      "Training until validation scores don't improve for 250 rounds.\n",
      "[200]\tvalid_0's binary_error: 0.0241796\n",
      "Early stopping, best iteration is:\n",
      "[18]\tvalid_0's binary_error: 0.015544\n",
      "15 20\n",
      "-------------------******-----------------------------------\n",
      "Training until validation scores don't improve for 250 rounds.\n",
      "[200]\tvalid_0's binary_error: 0.0241796\n",
      "Early stopping, best iteration is:\n",
      "[31]\tvalid_0's binary_error: 0.015544\n",
      "15 25\n",
      "-------------------******-----------------------------------\n",
      "Training until validation scores don't improve for 250 rounds.\n",
      "[200]\tvalid_0's binary_error: 0.0241796\n",
      "Early stopping, best iteration is:\n",
      "[22]\tvalid_0's binary_error: 0.0146805\n",
      "16 10\n",
      "-------------------******-----------------------------------\n",
      "Training until validation scores don't improve for 250 rounds.\n",
      "[200]\tvalid_0's binary_error: 0.0250432\n",
      "Early stopping, best iteration is:\n",
      "[19]\tvalid_0's binary_error: 0.0146805\n",
      "16 15\n",
      "-------------------******-----------------------------------\n",
      "Training until validation scores don't improve for 250 rounds.\n",
      "[200]\tvalid_0's binary_error: 0.0241796\n",
      "Early stopping, best iteration is:\n",
      "[18]\tvalid_0's binary_error: 0.015544\n",
      "16 20\n",
      "-------------------******-----------------------------------\n",
      "Training until validation scores don't improve for 250 rounds.\n",
      "[200]\tvalid_0's binary_error: 0.0250432\n",
      "Early stopping, best iteration is:\n",
      "[31]\tvalid_0's binary_error: 0.015544\n",
      "16 25\n",
      "-------------------******-----------------------------------\n",
      "Training until validation scores don't improve for 250 rounds.\n",
      "[200]\tvalid_0's binary_error: 0.0259067\n",
      "Early stopping, best iteration is:\n",
      "[22]\tvalid_0's binary_error: 0.015544\n",
      "17 10\n",
      "-------------------******-----------------------------------\n",
      "Training until validation scores don't improve for 250 rounds.\n",
      "[200]\tvalid_0's binary_error: 0.0259067\n",
      "Early stopping, best iteration is:\n",
      "[30]\tvalid_0's binary_error: 0.015544\n",
      "17 15\n",
      "-------------------******-----------------------------------\n",
      "Training until validation scores don't improve for 250 rounds.\n",
      "[200]\tvalid_0's binary_error: 0.0250432\n",
      "Early stopping, best iteration is:\n",
      "[17]\tvalid_0's binary_error: 0.015544\n",
      "17 20\n",
      "-------------------******-----------------------------------\n",
      "Training until validation scores don't improve for 250 rounds.\n",
      "[200]\tvalid_0's binary_error: 0.0250432\n",
      "Early stopping, best iteration is:\n",
      "[21]\tvalid_0's binary_error: 0.015544\n",
      "17 25\n",
      "-------------------******-----------------------------------\n",
      "Training until validation scores don't improve for 250 rounds.\n",
      "[200]\tvalid_0's binary_error: 0.0259067\n",
      "Early stopping, best iteration is:\n",
      "[22]\tvalid_0's binary_error: 0.015544\n",
      "18 10\n",
      "-------------------******-----------------------------------\n",
      "Training until validation scores don't improve for 250 rounds.\n",
      "[200]\tvalid_0's binary_error: 0.0250432\n",
      "Early stopping, best iteration is:\n",
      "[20]\tvalid_0's binary_error: 0.015544\n",
      "18 15\n",
      "-------------------******-----------------------------------\n",
      "Training until validation scores don't improve for 250 rounds.\n",
      "[200]\tvalid_0's binary_error: 0.0250432\n",
      "Early stopping, best iteration is:\n",
      "[28]\tvalid_0's binary_error: 0.015544\n",
      "18 20\n",
      "-------------------******-----------------------------------\n",
      "Training until validation scores don't improve for 250 rounds.\n",
      "[200]\tvalid_0's binary_error: 0.0241796\n",
      "Early stopping, best iteration is:\n",
      "[20]\tvalid_0's binary_error: 0.015544\n",
      "18 25\n",
      "-------------------******-----------------------------------\n",
      "Training until validation scores don't improve for 250 rounds.\n",
      "[200]\tvalid_0's binary_error: 0.0241796\n",
      "Early stopping, best iteration is:\n",
      "[22]\tvalid_0's binary_error: 0.0146805\n",
      "19 10\n",
      "-------------------******-----------------------------------\n",
      "Training until validation scores don't improve for 250 rounds.\n",
      "[200]\tvalid_0's binary_error: 0.0259067\n",
      "Early stopping, best iteration is:\n",
      "[34]\tvalid_0's binary_error: 0.0146805\n",
      "19 15\n",
      "-------------------******-----------------------------------\n",
      "Training until validation scores don't improve for 250 rounds.\n",
      "[200]\tvalid_0's binary_error: 0.0241796\n",
      "Early stopping, best iteration is:\n",
      "[20]\tvalid_0's binary_error: 0.015544\n",
      "19 20\n",
      "-------------------******-----------------------------------\n",
      "Training until validation scores don't improve for 250 rounds.\n",
      "[200]\tvalid_0's binary_error: 0.0250432\n",
      "Early stopping, best iteration is:\n",
      "[20]\tvalid_0's binary_error: 0.015544\n",
      "19 25\n"
     ]
    }
   ],
   "source": [
    "import lightgbm as lgb\n",
    "from sklearn import metrics\n",
    "from sklearn.model_selection import train_test_split\n",
    "import os\n",
    "import csv\n",
    "import warnings\n",
    "from sklearn.model_selection import GridSearchCV   \n",
    "import imblearn\n",
    "from imblearn.over_sampling import RandomOverSampler\n",
    "### Prepare Datasets for lightgbm\n",
    "\n",
    "oversample = RandomOverSampler(sampling_strategy='minority')\n",
    "X_over, y_over = oversample.fit_resample(X_train_tfidf1, y_train1)\n",
    "\n",
    "### Prepare Datasets for lightgbm\n",
    "lgb_train = lgb.Dataset(X_over, y_over, free_raw_data=False)\n",
    "lgb_eval = lgb.Dataset(X_test_tfidf1, y_test1, reference=lgb_train, free_raw_data=False)\n",
    "\n",
    "for min_child_samples in range (14,20):\n",
    "  for lambda_l1 in range (10,30,5):\n",
    "        print(\"-------------------******-----------------------------------\")\n",
    "        params = {'boosting_type': 'gbdt','max_depth': 6,\n",
    "                   'reg_alpha': 0.01, 'num_leaves':80, 'min_child_samples': min_child_samples, \n",
    "          'objective': 'binary','feature_fraction': 0.8, \n",
    "    'bagging_fraction': 0.8, \n",
    "    'bagging_freq':1,\n",
    "              'learning_rate': 0.1, 'lambda_l1': lambda_l1 /100, 'lambda_l2': 0.1,'metric':'binary_error'}\n",
    "\n",
    "\n",
    "        gbm = lgb.train(params,  \n",
    "             lgb_train,     num_boost_round=3000,   valid_sets=lgb_eval,   verbose_eval=200,early_stopping_rounds=250)  \n",
    "        print (min_child_samples,lambda_l1)\n"
   ]
  },
  {
   "cell_type": "markdown",
   "metadata": {
    "colab_type": "text",
    "id": "SME6wlEKcS3q"
   },
   "source": [
    "5.1.1 Best LightGBM for facility"
   ]
  },
  {
   "cell_type": "code",
   "execution_count": 0,
   "metadata": {
    "colab": {
     "base_uri": "https://localhost:8080/",
     "height": 90
    },
    "colab_type": "code",
    "id": "mTaKT3fdf4Tq",
    "outputId": "deae82e5-8387-4ebc-a59d-b3347311d8fb"
   },
   "outputs": [
    {
     "name": "stdout",
     "output_type": "stream",
     "text": [
      "Training until validation scores don't improve for 250 rounds.\n",
      "[400]\tvalid_0's binary_error: 0.180484\n",
      "Early stopping, best iteration is:\n",
      "[209]\tvalid_0's binary_error: 0.170121\n"
     ]
    }
   ],
   "source": [
    "#best  -Facility\n",
    "import lightgbm as lgb\n",
    "from sklearn import metrics\n",
    "from sklearn.model_selection import train_test_split\n",
    "import warnings\n",
    "### Prepare Datasets for lightgbm\n",
    "lgb_train = lgb.Dataset(X_train_tfidf0, y_train0, free_raw_data=False)\n",
    "lgb_eval = lgb.Dataset(X_test_tfidf0, y_test0, reference=lgb_train, free_raw_data=False)\n",
    "\n",
    "params_facility  = {'boosting_type': 'gbdt','max_depth': 6,\n",
    "                   'reg_alpha': 0.01, 'num_leaves':80, 'min_child_samples': 14, \n",
    "          'objective': 'binary','feature_fraction': 0.8, \n",
    "    'bagging_fraction': 0.8, \n",
    "    'bagging_freq':1,\n",
    "              'learning_rate': 0.1, 'lambda_l1': 15/100, 'lambda_l2': 0.1,'metric':'binary_error'}\n",
    "gbm_facility = lgb.train(params,  \n",
    "              lgb_train,  \n",
    "               num_boost_round=3000,  \n",
    "               valid_sets=lgb_eval,  \n",
    "               verbose_eval=400,\n",
    "              early_stopping_rounds=250)  \n",
    "\n"
   ]
  },
  {
   "cell_type": "markdown",
   "metadata": {
    "colab_type": "text",
    "id": "gxiRmebzcZBt"
   },
   "source": [
    "5.1.2 Best LightGBM for security"
   ]
  },
  {
   "cell_type": "code",
   "execution_count": 0,
   "metadata": {
    "colab": {
     "base_uri": "https://localhost:8080/",
     "height": 129
    },
    "colab_type": "code",
    "id": "xHH9ZQDcaYQy",
    "outputId": "4d01b1d4-7fba-49b2-fa01-5b65ff7e73e0"
   },
   "outputs": [
    {
     "name": "stderr",
     "output_type": "stream",
     "text": [
      "/usr/local/lib/python3.6/dist-packages/sklearn/utils/deprecation.py:87: FutureWarning: Function safe_indexing is deprecated; safe_indexing is deprecated in version 0.22 and will be removed in version 0.24.\n",
      "  warnings.warn(msg, category=FutureWarning)\n"
     ]
    },
    {
     "name": "stdout",
     "output_type": "stream",
     "text": [
      "Training until validation scores don't improve for 250 rounds.\n",
      "Early stopping, best iteration is:\n",
      "[40]\tvalid_0's binary_error: 0.0172712\n"
     ]
    }
   ],
   "source": [
    "#best  -Security\n",
    "import lightgbm as lgb\n",
    "from sklearn import metrics\n",
    "from sklearn.model_selection import train_test_split\n",
    "import warnings\n",
    "### Prepare Datasets for lightgbm\n",
    "oversample = RandomOverSampler(sampling_strategy='minority')\n",
    "X_over1, y_over1 = oversample.fit_resample(X_train_tfidf1, y_train1)\n",
    "\n",
    "lgb_train = lgb.Dataset(X_over1, y_over1, free_raw_data=False)\n",
    "lgb_eval = lgb.Dataset(X_test_tfidf1, y_test1, reference=lgb_train, free_raw_data=False)\n",
    "\n",
    "#lgb_train = lgb.Dataset(X_train_tfidf1, y_train1, free_raw_data=False)\n",
    "#lgb_eval = lgb.Dataset(X_test_tfidf1, y_test1, reference=lgb_train, free_raw_data=False)\n",
    "\n",
    "params_security = {'boosting_type': 'gbdt','max_depth': 6,\n",
    "                   'reg_alpha': 0.01, 'num_leaves':80, 'min_child_samples': 14, \n",
    "          'objective': 'binary','feature_fraction': 0.8, \n",
    "    'bagging_fraction': 0.8, \n",
    "    'bagging_freq':1,\n",
    "              'learning_rate': 0.1, 'lambda_l1': 15/100, 'lambda_l2': 0.1,'metric':'binary_error'}\n",
    "gbm_security= lgb.train(params,  \n",
    "              lgb_train,  \n",
    "               num_boost_round=3000,  \n",
    "               valid_sets=lgb_eval,  \n",
    "               verbose_eval=400,\n",
    "              early_stopping_rounds=250)  \n",
    "\n"
   ]
  },
  {
   "cell_type": "markdown",
   "metadata": {
    "colab_type": "text",
    "id": "lkM5cDoOcb8p"
   },
   "source": [
    "5.1.3 Best LightGBM for pricing"
   ]
  },
  {
   "cell_type": "code",
   "execution_count": 0,
   "metadata": {
    "colab": {
     "base_uri": "https://localhost:8080/",
     "height": 129
    },
    "colab_type": "code",
    "id": "YboP6mVqcPer",
    "outputId": "09c05213-6646-478b-c40c-998943e945ea"
   },
   "outputs": [
    {
     "name": "stdout",
     "output_type": "stream",
     "text": [
      "Training until validation scores don't improve for 250 rounds.\n"
     ]
    },
    {
     "name": "stderr",
     "output_type": "stream",
     "text": [
      "/usr/local/lib/python3.6/dist-packages/sklearn/utils/deprecation.py:87: FutureWarning: Function safe_indexing is deprecated; safe_indexing is deprecated in version 0.22 and will be removed in version 0.24.\n",
      "  warnings.warn(msg, category=FutureWarning)\n"
     ]
    },
    {
     "name": "stdout",
     "output_type": "stream",
     "text": [
      "Early stopping, best iteration is:\n",
      "[44]\tvalid_0's binary_error: 0.0595855\n"
     ]
    }
   ],
   "source": [
    "#best  -Pricing\n",
    "import lightgbm as lgb\n",
    "from sklearn import metrics\n",
    "from sklearn.model_selection import train_test_split\n",
    "import warnings\n",
    "oversample = RandomOverSampler(sampling_strategy='minority')\n",
    "X_over2, y_over2 = oversample.fit_resample(X_train_tfidf2, y_train2)\n",
    "\n",
    "lgb_train = lgb.Dataset(X_over2, y_over2, free_raw_data=False)\n",
    "lgb_eval = lgb.Dataset(X_test_tfidf2, y_test2, reference=lgb_train, free_raw_data=False)\n",
    "\n",
    "params_pricing= {'boosting_type': 'gbdt','max_depth': 6,\n",
    "                   'reg_alpha': 0.01, 'num_leaves':80, 'min_child_samples': 16, \n",
    "          'objective': 'binary','feature_fraction': 0.8, \n",
    "    'bagging_fraction': 0.8, \n",
    "    'bagging_freq':1,\n",
    "              'learning_rate': 0.1, 'lambda_l1': 15/100, 'lambda_l2': 0.1,'metric':'binary_error'}\n",
    "gbm_pricing= lgb.train(params,  \n",
    "              lgb_train,  \n",
    "               num_boost_round=3000,  \n",
    "               valid_sets=lgb_eval,  \n",
    "               verbose_eval=400,\n",
    "              early_stopping_rounds=250)  \n",
    "\n"
   ]
  },
  {
   "cell_type": "markdown",
   "metadata": {
    "colab_type": "text",
    "id": "rN0yZ50_cwWg"
   },
   "source": [
    "5.1.4 Best LightGBM for location"
   ]
  },
  {
   "cell_type": "code",
   "execution_count": 0,
   "metadata": {
    "colab": {
     "base_uri": "https://localhost:8080/",
     "height": 147
    },
    "colab_type": "code",
    "id": "GeIgYYQkcvNe",
    "outputId": "6d6cb26f-cb0a-4160-aeb5-ad2294fb1f21"
   },
   "outputs": [
    {
     "name": "stdout",
     "output_type": "stream",
     "text": [
      "Training until validation scores don't improve for 250 rounds.\n"
     ]
    },
    {
     "name": "stderr",
     "output_type": "stream",
     "text": [
      "/usr/local/lib/python3.6/dist-packages/sklearn/utils/deprecation.py:87: FutureWarning: Function safe_indexing is deprecated; safe_indexing is deprecated in version 0.22 and will be removed in version 0.24.\n",
      "  warnings.warn(msg, category=FutureWarning)\n"
     ]
    },
    {
     "name": "stdout",
     "output_type": "stream",
     "text": [
      "[400]\tvalid_0's binary_error: 0.00863558\n",
      "Early stopping, best iteration is:\n",
      "[473]\tvalid_0's binary_error: 0.00777202\n"
     ]
    }
   ],
   "source": [
    "#best  -Location\n",
    "import lightgbm as lgb\n",
    "from sklearn import metrics\n",
    "from sklearn.model_selection import train_test_split\n",
    "import warnings\n",
    "import imblearn\n",
    "from imblearn.over_sampling import RandomOverSampler\n",
    "### Prepare Datasets for lightgbm\n",
    "\n",
    "oversample = RandomOverSampler(sampling_strategy='minority')\n",
    "X_over3, y_over3 = oversample.fit_resample(X_train_tfidf3, y_train3)\n",
    "\n",
    "lgb_train = lgb.Dataset(X_over3, y_over3 , free_raw_data=False)\n",
    "lgb_eval = lgb.Dataset(X_test_tfidf3, y_test3, reference=lgb_train, free_raw_data=False)\n",
    "\n",
    "params_location= {'boosting_type': 'gbdt','max_depth': 6,\n",
    "                   'reg_alpha': 0.01, 'num_leaves':80, 'min_child_samples': 16, \n",
    "          'objective': 'binary','feature_fraction': 0.8, \n",
    "    'bagging_fraction': 0.8, \n",
    "    'bagging_freq':1,\n",
    "              'learning_rate': 0.1, 'lambda_l1': 20/100, 'lambda_l2': 0.1,'metric':'binary_error'}\n",
    "gbm_location= lgb.train(params,  \n",
    "              lgb_train,  \n",
    "               num_boost_round=3000,  \n",
    "               valid_sets=lgb_eval,  \n",
    "               verbose_eval=400,\n",
    "              early_stopping_rounds=250)  \n",
    "\n"
   ]
  },
  {
   "cell_type": "markdown",
   "metadata": {
    "colab_type": "text",
    "id": "GVcLjwOZc5Ea"
   },
   "source": [
    "5.1.5 Best LightGBM for food and beverage"
   ]
  },
  {
   "cell_type": "code",
   "execution_count": 0,
   "metadata": {
    "colab": {
     "base_uri": "https://localhost:8080/",
     "height": 90
    },
    "colab_type": "code",
    "id": "SBstQKpCdOwd",
    "outputId": "a172759e-deb8-4665-c884-2063fad04e44"
   },
   "outputs": [
    {
     "name": "stdout",
     "output_type": "stream",
     "text": [
      "Training until validation scores don't improve for 250 rounds.\n",
      "[400]\tvalid_0's binary_error: 0.0595855\n",
      "Early stopping, best iteration is:\n",
      "[385]\tvalid_0's binary_error: 0.0569948\n"
     ]
    }
   ],
   "source": [
    "#best  - Food and Berverage\n",
    "import lightgbm as lgb\n",
    "from sklearn import metrics\n",
    "from sklearn.model_selection import train_test_split\n",
    "import warnings\n",
    "### Prepare Datasets for lightgbm\n",
    "lgb_train = lgb.Dataset(X_train_tfidf4, y_train4, free_raw_data=False)\n",
    "lgb_eval = lgb.Dataset(X_test_tfidf4, y_test4, reference=lgb_train, free_raw_data=False)\n",
    "\n",
    "params_fb= {'boosting_type': 'gbdt','max_depth': 6,\n",
    "                   'reg_alpha': 0.01, 'num_leaves':80, 'min_child_samples': 17, \n",
    "          'objective': 'binary','feature_fraction': 0.8, \n",
    "    'bagging_fraction': 0.8, \n",
    "    'bagging_freq':1,\n",
    "              'learning_rate': 0.1, 'lambda_l1': 10/100, 'lambda_l2': 0.1,'metric':'binary_error'}\n",
    "gbm_fb= lgb.train(params,  \n",
    "              lgb_train,  \n",
    "               num_boost_round=3000,  \n",
    "               valid_sets=lgb_eval,  \n",
    "               verbose_eval=400,\n",
    "              early_stopping_rounds=250)  \n",
    "\n"
   ]
  },
  {
   "cell_type": "markdown",
   "metadata": {
    "colab_type": "text",
    "id": "UhVyElfEdbci"
   },
   "source": [
    "5.1.6 Best LightGBM for housekeeping"
   ]
  },
  {
   "cell_type": "code",
   "execution_count": 0,
   "metadata": {
    "colab": {
     "base_uri": "https://localhost:8080/",
     "height": 90
    },
    "colab_type": "code",
    "id": "jaxhKyd1dpyx",
    "outputId": "32c74cce-bcf0-4518-f7e5-6e4270260dd5"
   },
   "outputs": [
    {
     "name": "stdout",
     "output_type": "stream",
     "text": [
      "Training until validation scores don't improve for 250 rounds.\n",
      "[400]\tvalid_0's binary_error: 0.0259067\n",
      "Early stopping, best iteration is:\n",
      "[300]\tvalid_0's binary_error: 0.0241796\n"
     ]
    }
   ],
   "source": [
    "#best  - Housekeeping\n",
    "import lightgbm as lgb\n",
    "from sklearn import metrics\n",
    "from sklearn.model_selection import train_test_split\n",
    "import warnings\n",
    "### Prepare Datasets for lightgbm\n",
    "\n",
    "lgb_train = lgb.Dataset(X_train_tfidf5, y_train5, free_raw_data=False)\n",
    "lgb_eval = lgb.Dataset(X_test_tfidf5, y_test5, reference=lgb_train, free_raw_data=False)\n",
    "\n",
    "params_housekeeping= {'boosting_type': 'gbdt','max_depth': 6,\n",
    "                   'reg_alpha': 0.01, 'num_leaves':80, 'min_child_samples': 17, \n",
    "          'objective': 'binary','feature_fraction': 0.8, \n",
    "    'bagging_fraction': 0.8, \n",
    "    'bagging_freq':1,\n",
    "              'learning_rate': 0.1, 'lambda_l1': 10/100, 'lambda_l2': 0.1,'metric':'binary_error'}\n",
    "gbm_housekeeping= lgb.train(params,  \n",
    "              lgb_train,  \n",
    "               num_boost_round=3000,  \n",
    "               valid_sets=lgb_eval,  \n",
    "               verbose_eval=400,\n",
    "              early_stopping_rounds=250)  \n",
    "\n"
   ]
  },
  {
   "cell_type": "markdown",
   "metadata": {
    "colab_type": "text",
    "id": "FgV6VrKCdgnA"
   },
   "source": [
    "5.1.7 Best LightGBM for front office"
   ]
  },
  {
   "cell_type": "code",
   "execution_count": 0,
   "metadata": {
    "colab": {
     "base_uri": "https://localhost:8080/",
     "height": 90
    },
    "colab_type": "code",
    "id": "x_3512QLdyR1",
    "outputId": "4254458f-9993-4b13-cb2c-663085d0788e"
   },
   "outputs": [
    {
     "name": "stdout",
     "output_type": "stream",
     "text": [
      "Training until validation scores don't improve for 250 rounds.\n",
      "[400]\tvalid_0's binary_error: 0.0803109\n",
      "Early stopping, best iteration is:\n",
      "[152]\tvalid_0's binary_error: 0.0673575\n"
     ]
    }
   ],
   "source": [
    "#best  - Front Office\n",
    "import lightgbm as lgb\n",
    "from sklearn import metrics\n",
    "from sklearn.model_selection import train_test_split\n",
    "import warnings\n",
    "### Prepare Datasets for lightgbm\n",
    "\n",
    "lgb_train = lgb.Dataset(X_train_tfidf6, y_train6, free_raw_data=False)\n",
    "lgb_eval = lgb.Dataset(X_test_tfidf6, y_test6, reference=lgb_train, free_raw_data=False)\n",
    "\n",
    "params_frontoffice= {'boosting_type': 'gbdt','max_depth': 6,\n",
    "                   'reg_alpha': 0.01, 'num_leaves':80, 'min_child_samples': 15, \n",
    "          'objective': 'binary','feature_fraction': 0.8, \n",
    "    'bagging_fraction': 0.8, \n",
    "    'bagging_freq':1,\n",
    "              'learning_rate': 0.1, 'lambda_l1': 25/100, 'lambda_l2': 0.1,'metric':'binary_error'}\n",
    "gbm_frontoffice= lgb.train(params,  \n",
    "              lgb_train,  \n",
    "               num_boost_round=3000,  \n",
    "               valid_sets=lgb_eval,  \n",
    "               verbose_eval=400,\n",
    "              early_stopping_rounds=250)  \n",
    "\n"
   ]
  },
  {
   "cell_type": "markdown",
   "metadata": {
    "colab_type": "text",
    "id": "xoqBFUfZdmZP"
   },
   "source": [
    "5.1.8 Best LightGBM for others"
   ]
  },
  {
   "cell_type": "code",
   "execution_count": 0,
   "metadata": {
    "colab": {
     "base_uri": "https://localhost:8080/",
     "height": 90
    },
    "colab_type": "code",
    "id": "PRALpiyZd9I9",
    "outputId": "ccadf075-be17-43e0-8c5d-9dee314204ef"
   },
   "outputs": [
    {
     "name": "stdout",
     "output_type": "stream",
     "text": [
      "Training until validation scores don't improve for 250 rounds.\n",
      "[400]\tvalid_0's binary_error: 0.178756\n",
      "Early stopping, best iteration is:\n",
      "[180]\tvalid_0's binary_error: 0.166667\n"
     ]
    }
   ],
   "source": [
    "#best  - Others\n",
    "import lightgbm as lgb\n",
    "from sklearn import metrics\n",
    "from sklearn.model_selection import train_test_split\n",
    "import warnings\n",
    "### Prepare Datasets for lightgbm\n",
    "\n",
    "lgb_train = lgb.Dataset(X_train_tfidf7, y_train7, free_raw_data=False)\n",
    "lgb_eval = lgb.Dataset(X_test_tfidf7, y_test7, reference=lgb_train, free_raw_data=False)\n",
    "\n",
    "params_others= {'boosting_type': 'gbdt','max_depth': 6,\n",
    "                   'reg_alpha': 0.01, 'num_leaves':80, 'min_child_samples': 17, \n",
    "          'objective': 'binary','feature_fraction': 0.8, \n",
    "    'bagging_fraction': 0.8, \n",
    "    'bagging_freq':1,\n",
    "              'learning_rate': 0.1, 'lambda_l1': 10/100, 'lambda_l2': 0.1,'metric':'binary_error'}\n",
    "gbm_others= lgb.train(params,  \n",
    "              lgb_train,  \n",
    "               num_boost_round=3000,  \n",
    "               valid_sets=lgb_eval,  \n",
    "               verbose_eval=400,\n",
    "              early_stopping_rounds=250)  \n",
    "\n"
   ]
  },
  {
   "cell_type": "code",
   "execution_count": 0,
   "metadata": {
    "colab": {
     "base_uri": "https://localhost:8080/",
     "height": 1000
    },
    "colab_type": "code",
    "id": "Fq3-2vnva2cX",
    "outputId": "268f3494-2c9f-4790-f2f5-851d5baf09d1"
   },
   "outputs": [
    {
     "name": "stdout",
     "output_type": "stream",
     "text": [
      "-----------******  facility_ind  ******-----------\n",
      "\n",
      "Accuracy_score on test dataset :  0.8298791018998273\n",
      "Recall : 0.7075\n",
      "Precision : 0.7796143250688705\n",
      "F1 score: 0.7418086500655309\n",
      "-----------******  security_ind  ******-----------\n",
      "\n",
      "Accuracy_score on test dataset :  0.9827288428324698\n",
      "Recall : 0.5882352941176471\n",
      "Precision : 0.43478260869565216\n",
      "F1 score: 0.5\n",
      "-----------******  pricing_ind  ******-----------\n",
      "\n",
      "Accuracy_score on test dataset :  0.9404145077720207\n",
      "Recall : 0.8947368421052632\n",
      "Precision : 0.8371212121212122\n",
      "F1 score: 0.8649706457925638\n",
      "-----------******  location_ind  ******-----------\n",
      "\n",
      "Accuracy_score on test dataset :  0.9922279792746114\n",
      "Recall : 0.5\n",
      "Precision : 0.4444444444444444\n",
      "F1 score: 0.47058823529411764\n",
      "-----------******  fb_ind  ******-----------\n",
      "\n",
      "Accuracy_score on test dataset :  0.9430051813471503\n",
      "Recall : 0.422680412371134\n",
      "Precision : 0.803921568627451\n",
      "F1 score: 0.5540540540540541\n",
      "-----------******  housekeep_ind  ******-----------\n",
      "\n",
      "Accuracy_score on test dataset :  0.9758203799654577\n",
      "Recall : 0.35714285714285715\n",
      "Precision : 0.9375\n",
      "F1 score: 0.5172413793103449\n",
      "-----------******  frontoff_ind  ******-----------\n",
      "\n",
      "Accuracy_score on test dataset :  0.9326424870466321\n",
      "Recall : 0.711864406779661\n",
      "Precision : 0.8235294117647058\n",
      "F1 score: 0.7636363636363636\n",
      "-----------******  Others  ******-----------\n",
      "\n",
      "Accuracy_score on test dataset :  0.8333333333333334\n",
      "Recall : 0.40458015267175573\n",
      "Precision : 0.7412587412587412\n",
      "F1 score: 0.5234567901234567\n"
     ]
    },
    {
     "data": {
      "image/png": "[encoded data removed]",
      "text/plain": [
       "<Figure size 480x320 with 2 Axes>"
      ]
     },
     "metadata": {
      "needs_background": "light",
      "tags": []
     },
     "output_type": "display_data"
    },
    {
     "data": {
      "image/png": "[encoded data removed]",
      "text/plain": [
       "<Figure size 480x320 with 2 Axes>"
      ]
     },
     "metadata": {
      "needs_background": "light",
      "tags": []
     },
     "output_type": "display_data"
    },
    {
     "data": {
      "image/png": "[encoded data removed]",
      "text/plain": [
       "<Figure size 480x320 with 2 Axes>"
      ]
     },
     "metadata": {
      "needs_background": "light",
      "tags": []
     },
     "output_type": "display_data"
    },
    {
     "data": {
      "image/png": "[encoded data removed]",
      "text/plain": [
       "<Figure size 480x320 with 2 Axes>"
      ]
     },
     "metadata": {
      "needs_background": "light",
      "tags": []
     },
     "output_type": "display_data"
    },
    {
     "data": {
      "image/png": "[encoded data removed]",
      "text/plain": [
       "<Figure size 480x320 with 2 Axes>"
      ]
     },
     "metadata": {
      "needs_background": "light",
      "tags": []
     },
     "output_type": "display_data"
    },
    {
     "data": {
      "image/png": "[encoded data removed]",
      "text/plain": [
       "<Figure size 480x320 with 2 Axes>"
      ]
     },
     "metadata": {
      "needs_background": "light",
      "tags": []
     },
     "output_type": "display_data"
    },
    {
     "data": {
      "image/png": "[encoded data removed]",
      "text/plain": [
       "<Figure size 480x320 with 2 Axes>"
      ]
     },
     "metadata": {
      "needs_background": "light",
      "tags": []
     },
     "output_type": "display_data"
    },
    {
     "data": {
      "image/png": "[encoded data removed]",
      "text/plain": [
       "<Figure size 480x320 with 2 Axes>"
      ]
     },
     "metadata": {
      "needs_background": "light",
      "tags": []
     },
     "output_type": "display_data"
    }
   ],
   "source": [
    "from sklearn.metrics import accuracy_score\n",
    "from sklearn.metrics import recall_score\n",
    "from sklearn.metrics import precision_score\n",
    "from sklearn.metrics import roc_auc_score\n",
    "from sklearn.metrics import confusion_matrix\n",
    "from sklearn.metrics import f1_score\n",
    "import matplotlib.pyplot as plt\n",
    "import seaborn as sns\n",
    "#predict_test_LGBM_offline0 =gbm.predict(X_test_tfidf, num_iteration=gbm.best_iteration)  # 输出概率\n",
    "test_x=[X_test_tfidf0,X_test_tfidf1,X_test_tfidf2,X_test_tfidf3,X_test_tfidf4,\n",
    "      X_test_tfidf5,X_test_tfidf6,X_test_tfidf7]\n",
    "test_y=[y_test0,y_test1,y_test2,y_test3,y_test4,y_test5,y_test6,y_test7]\n",
    "class_columns=['facility_ind', 'security_ind', 'pricing_ind',\n",
    "       'location_ind', 'fb_ind', 'housekeep_ind', 'frontoff_ind', 'Others',]\n",
    "\n",
    "models=[gbm_facility,gbm_security,gbm_pricing,gbm_location,gbm_fb,gbm_housekeeping,gbm_frontoffice,gbm_others]\n",
    "def lgb_pre1(X_test_tfidf0,i):\n",
    "    gbm=models[i]\n",
    "    predict_test_LGBM_offline0=gbm.predict(X_test_tfidf, num_iteration=gbm.best_iteration)  # 输出概率\n",
    "    for i in range(0,len(predict_test_LGBM_offline0)):\n",
    "        if (predict_test_LGBM_offline0[i]>=0.5 ):\n",
    "             predict_test_LGBM_offline0[i]=1\n",
    "        else:\n",
    "            predict_test_LGBM_offline0[i]=0\n",
    "    return predict_test_LGBM_offline0\n",
    "\n",
    "# Accuracy Score on test dataset\n",
    "for i in range (0,8) :\n",
    "  text_x_0=test_x[i]\n",
    "  text_y_0=test_y[i]\n",
    "  print(\"-----------******  \"+class_columns[i]+\"  ******-----------\")\n",
    "  predict_test_LGBM_offline= lgb_pre1(text_x_0,i)\n",
    "  accuracy_test_LGBM_score0=accuracy_score(text_y_0,predict_test_LGBM_offline)\n",
    "  print('\\nAccuracy_score on test dataset : ', accuracy_test_LGBM_score0)\n",
    "  print('Recall :',recall_score(text_y_0,predict_test_LGBM_offline))\n",
    "  print('Precision :',precision_score(text_y_0,predict_test_LGBM_offline))\n",
    "  print('F1 score:',f1_score(text_y_0, predict_test_LGBM_offline))\n",
    "  labels = [1,0]\n",
    "  cm = confusion_matrix(text_y_0, predict_test_LGBM_offline, labels)\n",
    "  fig, ax = plt.subplots(dpi=80)\n",
    "  plt.title ('Confusion Matrix for '+class_columns[i])   \n",
    "  g = sns.heatmap(cm, cmap=plt.cm.Reds, annot=True, annot_kws={\"size\":20}, square=True, fmt='d',\n",
    "                  xticklabels=[class_columns[i],'Non '+ class_columns[i]],\n",
    "                  yticklabels=[class_columns[i], 'Non '+class_columns[i]]);\n",
    "  plt.savefig('cm_lr'+class_columns[i]+'.jpg')\n",
    "  #plt.show()"
   ]
  },
  {
   "cell_type": "code",
   "execution_count": 0,
   "metadata": {
    "colab": {},
    "colab_type": "code",
    "id": "RXAX5aANpu73"
   },
   "outputs": [],
   "source": []
  },
  {
   "cell_type": "markdown",
   "metadata": {
    "colab_type": "text",
    "id": "p0-mh7LVa2ce"
   },
   "source": [
    "## Logistic Regression"
   ]
  },
  {
   "cell_type": "code",
   "execution_count": 0,
   "metadata": {
    "colab": {},
    "colab_type": "code",
    "id": "sGaKv0nta2cg"
   },
   "outputs": [],
   "source": [
    "from sklearn.linear_model import LogisticRegression\n",
    "from sklearn import tree\n",
    "\n",
    "\n",
    "lr = LogisticRegression()\n",
    "#C=1,verbose=2,random_state=42,max_iter=150)#class_weight={1: 0.66,0:0.34}\n",
    "lr_facility=LogisticRegression().fit(X_train_tfidf0,y_train0)\n",
    "lr_security=LogisticRegression().fit(X_train_tfidf1,y_train1)\n",
    "lr_pricing=LogisticRegression().fit(X_train_tfidf2,y_train2)\n",
    "lr_location=LogisticRegression().fit(X_over, y_over)\n",
    "lr_fb=LogisticRegression().fit(X_train_tfidf4,y_train4)\n",
    "lr_housekeeping=LogisticRegression().fit(X_train_tfidf5,y_train5)\n",
    "lr_frontoffice=LogisticRegression().fit(X_train_tfidf6,y_train6)\n",
    "lr_others=LogisticRegression().fit(X_train_tfidf7,y_train7)\n",
    "models_lr=[lr_facility,lr_security,lr_pricing,lr_location,lr_fb,lr_housekeeping,lr_frontoffice,lr_others]"
   ]
  },
  {
   "cell_type": "code",
   "execution_count": 0,
   "metadata": {
    "colab": {
     "base_uri": "https://localhost:8080/",
     "height": 1000
    },
    "colab_type": "code",
    "id": "1FEJjUEoa2cn",
    "outputId": "6af51427-73c5-4ddc-c67d-883f74145457"
   },
   "outputs": [
    {
     "name": "stdout",
     "output_type": "stream",
     "text": [
      "-----------******  facility_ind  ******-----------\n",
      "\n",
      "Accuracy_score on test dataset :  0.8324697754749568\n",
      "Recall : 0.69\n",
      "Precision : 0.7976878612716763\n",
      "F1 score: 0.7399463806970509\n",
      "-----------******  security_ind  ******-----------\n",
      "\n",
      "Accuracy_score on test dataset :  0.9853195164075993\n",
      "Recall : 0.0\n",
      "Precision : 0.0\n",
      "F1 score: 0.0\n"
     ]
    },
    {
     "name": "stderr",
     "output_type": "stream",
     "text": [
      "/usr/local/lib/python3.6/dist-packages/sklearn/metrics/_classification.py:1272: UndefinedMetricWarning: Precision is ill-defined and being set to 0.0 due to no predicted samples. Use `zero_division` parameter to control this behavior.\n",
      "  _warn_prf(average, modifier, msg_start, len(result))\n"
     ]
    },
    {
     "name": "stdout",
     "output_type": "stream",
     "text": [
      "-----------******  pricing_ind  ******-----------\n",
      "\n",
      "Accuracy_score on test dataset :  0.9317789291882557\n",
      "Recall : 0.7651821862348178\n",
      "Precision : 0.9\n",
      "F1 score: 0.8271334792122538\n",
      "-----------******  location_ind  ******-----------\n",
      "\n",
      "Accuracy_score on test dataset :  0.9844559585492227\n",
      "Recall : 0.75\n",
      "Precision : 0.2727272727272727\n",
      "F1 score: 0.39999999999999997\n",
      "-----------******  fb_ind  ******-----------\n",
      "\n",
      "Accuracy_score on test dataset :  0.9291882556131261\n",
      "Recall : 0.15463917525773196\n",
      "Precision : 1.0\n",
      "F1 score: 0.2678571428571429\n",
      "-----------******  housekeep_ind  ******-----------\n",
      "\n",
      "Accuracy_score on test dataset :  0.966321243523316\n",
      "Recall : 0.07142857142857142\n",
      "Precision : 1.0\n",
      "F1 score: 0.13333333333333333\n",
      "-----------******  frontoff_ind  ******-----------\n",
      "\n",
      "Accuracy_score on test dataset :  0.9222797927461139\n",
      "Recall : 0.5932203389830508\n",
      "Precision : 0.8536585365853658\n",
      "F1 score: 0.6999999999999998\n",
      "-----------******  Others  ******-----------\n",
      "\n",
      "Accuracy_score on test dataset :  0.8333333333333334\n",
      "Recall : 0.37786259541984735\n",
      "Precision : 0.7674418604651163\n",
      "F1 score: 0.5063938618925831\n"
     ]
    },
    {
     "data": {
      "image/png": "[encoded data removed]",
      "text/plain": [
       "<Figure size 480x320 with 2 Axes>"
      ]
     },
     "metadata": {
      "needs_background": "light",
      "tags": []
     },
     "output_type": "display_data"
    },
    {
     "data": {
      "image/png": "[encoded data removed]",
      "text/plain": [
       "<Figure size 480x320 with 2 Axes>"
      ]
     },
     "metadata": {
      "needs_background": "light",
      "tags": []
     },
     "output_type": "display_data"
    },
    {
     "data": {
      "image/png": "[encoded data removed]",
      "text/plain": [
       "<Figure size 480x320 with 2 Axes>"
      ]
     },
     "metadata": {
      "needs_background": "light",
      "tags": []
     },
     "output_type": "display_data"
    },
    {
     "data": {
      "image/png": "[encoded data removed]",
      "text/plain": [
       "<Figure size 480x320 with 2 Axes>"
      ]
     },
     "metadata": {
      "needs_background": "light",
      "tags": []
     },
     "output_type": "display_data"
    },
    {
     "data": {
      "image/png": "[encoded data removed]",
      "text/plain": [
       "<Figure size 480x320 with 2 Axes>"
      ]
     },
     "metadata": {
      "needs_background": "light",
      "tags": []
     },
     "output_type": "display_data"
    },
    {
     "data": {
      "image/png": "[encoded data removed]",
      "text/plain": [
       "<Figure size 480x320 with 2 Axes>"
      ]
     },
     "metadata": {
      "needs_background": "light",
      "tags": []
     },
     "output_type": "display_data"
    },
    {
     "data": {
      "image/png": "[encoded data removed]",
      "text/plain": [
       "<Figure size 480x320 with 2 Axes>"
      ]
     },
     "metadata": {
      "needs_background": "light",
      "tags": []
     },
     "output_type": "display_data"
    },
    {
     "data": {
      "image/png": "[encoded data removed]",
      "text/plain": [
       "<Figure size 480x320 with 2 Axes>"
      ]
     },
     "metadata": {
      "needs_background": "light",
      "tags": []
     },
     "output_type": "display_data"
    }
   ],
   "source": [
    "\n",
    "\n",
    "test_x=[X_test_tfidf0,X_test_tfidf1,X_test_tfidf2,X_test_tfidf3,X_test_tfidf4,\n",
    "      X_test_tfidf5,X_test_tfidf6,X_test_tfidf7]\n",
    "test_y=[y_test0,y_test1,y_test2,y_test3,y_test4,y_test5,y_test6,y_test7]\n",
    "class_columns=['facility_ind', 'security_ind', 'pricing_ind',\n",
    "       'location_ind', 'fb_ind', 'housekeep_ind', 'frontoff_ind', 'Others',]\n",
    "\n",
    "\n",
    "# Accuracy Score on test dataset\n",
    "for i in range (0,8) :\n",
    "  text_x_0=test_x[i]\n",
    "  text_y_0=test_y[i]\n",
    "  print(\"-----------******  \"+class_columns[i]+\"  ******-----------\")\n",
    "  lr=models_lr[i]\n",
    "  predict_test_LR_offline0 = lr.predict(X_test_tfidf)\n",
    "  accuracy_test_LR_score0=accuracy_score(text_y_0,predict_test_LR_offline0)\n",
    "  print('\\nAccuracy_score on test dataset : ', accuracy_test_LR_score0)\n",
    "  print('Recall :',recall_score(text_y_0,predict_test_LR_offline0))\n",
    "  print('Precision :',precision_score(text_y_0,predict_test_LR_offline0))\n",
    "  print('F1 score:',f1_score(text_y_0, predict_test_LR_offline0))\n",
    "  labels = [1,0]\n",
    "  cm = confusion_matrix(text_y_0, predict_test_LR_offline0, labels)\n",
    "  fig, ax = plt.subplots(dpi=80)\n",
    "  plt.title ('Confusion Matrix for '+class_columns[i])   \n",
    "  g = sns.heatmap(cm, cmap=plt.cm.Reds, annot=True, annot_kws={\"size\":20}, square=True, fmt='d',\n",
    "                  xticklabels=[class_columns[i], 'Non '+class_columns[i]],\n",
    "                  yticklabels=[class_columns[i],'Non '+ class_columns[i]]);\n",
    "  plt.savefig('cm_lr'+class_columns[i]+'.jpg')\n",
    "  #plt.show()\n",
    "  "
   ]
  }
 ],
 "metadata": {
  "colab": {
   "collapsed_sections": [],
   "name": "MODELING_LR_LightGBM.ipynb",
   "provenance": [],
   "toc_visible": true
  },
  "kernelspec": {
   "display_name": "Python 3",
   "language": "python",
   "name": "python3"
  },
  "language_info": {
   "codemirror_mode": {
    "name": "ipython",
    "version": 3
   },
   "file_extension": ".py",
   "mimetype": "text/x-python",
   "name": "python",
   "nbconvert_exporter": "python",
   "pygments_lexer": "ipython3",
   "version": "3.6.10"
  }
 },
 "nbformat": 4,
 "nbformat_minor": 1
}
