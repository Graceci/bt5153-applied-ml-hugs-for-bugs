{
 "cells": [
  {
   "cell_type": "code",
   "execution_count": 1,
   "metadata": {},
   "outputs": [],
   "source": [
    "from bs4 import BeautifulSoup\n",
    "import re\n",
    "import urllib\n",
    "import pandas as pd\n",
    "from urllib.request import urlopen"
   ]
  },
  {
   "cell_type": "code",
   "execution_count": 2,
   "metadata": {},
   "outputs": [],
   "source": [
    "def make_soup(url):\n",
    "    html = urlopen(url).read()\n",
    "    return BeautifulSoup(html,'lxml')"
   ]
  },
  {
   "cell_type": "code",
   "execution_count": 3,
   "metadata": {},
   "outputs": [],
   "source": [
    "def page_scrape(soup):\n",
    "    review_list = soup.find_all('li',class_='review_item clearfix')\n",
    "    for review in review_list:\n",
    "        review_item = review.find('div', class_='review_item_review')\n",
    "        if review_item is not None:\n",
    "            title = review_item.find('span',itemprop = 'name').text.strip()\n",
    "            score = float(review_item.find('span',class_= 'review-score-badge').text.strip())\n",
    "\n",
    "            review_neg = review_item.find('p',class_='review_neg')\n",
    "            if review_neg is not None:\n",
    "                review_neg = review_neg.text.strip()\n",
    "            review_pos = review_item.find('p',class_='review_pos')\n",
    "            if review_pos is not None:\n",
    "                review_pos = review_pos.text.strip()\n",
    "\n",
    "            stay_date = review_item.find('p',class_='review_staydate')\n",
    "            if stay_date is not None:\n",
    "                stay_date = stay_date.text.strip().replace('Stayed in ','')\n",
    "\n",
    "        review_date = review.find('p',class_='review_item_date').text.strip().replace('Reviewed: ','')\n",
    "\n",
    "        reviewer = review.find('div',class_='review_item_reviewer')\n",
    "        if reviewer is not None:\n",
    "            reviewer_name = reviewer.find('p',class_='reviewer_name')\n",
    "            if reviewer_name is not None:\n",
    "                reviewer_name = reviewer_name.find('span',itemprop='name').text.strip()\n",
    "\n",
    "            reviewer_country = reviewer.find('', class_='reviewer_country')\n",
    "            if reviewer_country is not None:\n",
    "                reviewer_country = reviewer_country.find('span',itemprop='name').text.strip()\n",
    "\n",
    "        review_gen = [review_date,title,score,review_pos,review_neg,reviewer_name,reviewer_country,stay_date]\n",
    "        review_data.append(review_gen)"
   ]
  },
  {
   "cell_type": "code",
   "execution_count": 4,
   "metadata": {},
   "outputs": [],
   "source": [
    "num_pages = 81\n",
    "review_data = []\n",
    "for i in range(num_pages):\n",
    "    url_link = 'https://www.booking.com/reviews/sg/hotel/marina-bay-sands.en-gb.html?aid=357004;label=gog235jc-1DCA0oyQE4qAZIM1gDaMkBiAEBmAEJuAEXyAEU2AED6AEBiAIBqAIDuAKR1f3xBcACAQ;sid=8a6dd48ab3f6c651d2176995dfe97040;customer_type=total&hp_nav=0&keep_landing=1&order=featuredreviews&page='+str(i+1)+'&r_lang=en&rows=75&'\n",
    "    soup = make_soup(url_link)\n",
    "    page_scrape(soup)\n",
    "\n",
    "review_data = pd.DataFrame(review_data,columns = ['review_date','title','score','pos','cons','reviewer','review_country','stay_date'])"
   ]
  },
  {
   "cell_type": "code",
   "execution_count": 5,
   "metadata": {},
   "outputs": [],
   "source": [
    "review_data.to_csv('MBS_data.csv')"
   ]
  },
  {
   "cell_type": "code",
   "execution_count": null,
   "metadata": {},
   "outputs": [],
   "source": []
  }
 ],
 "metadata": {
  "kernelspec": {
   "display_name": "Python 3",
   "language": "python",
   "name": "python3"
  },
  "language_info": {
   "codemirror_mode": {
    "name": "ipython",
    "version": 3
   },
   "file_extension": ".py",
   "mimetype": "text/x-python",
   "name": "python",
   "nbconvert_exporter": "python",
   "pygments_lexer": "ipython3",
   "version": "3.7.3"
  }
 },
 "nbformat": 4,
 "nbformat_minor": 2
}
