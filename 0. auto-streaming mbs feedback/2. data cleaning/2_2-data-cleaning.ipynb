{
  "nbformat": 4,
  "nbformat_minor": 0,
  "metadata": {
    "kernelspec": {
      "display_name": "Python 3",
      "language": "python",
      "name": "python3"
    },
    "language_info": {
      "codemirror_mode": {
        "name": "ipython",
        "version": 3
      },
      "file_extension": ".py",
      "mimetype": "text/x-python",
      "name": "python",
      "nbconvert_exporter": "python",
      "pygments_lexer": "ipython3",
      "version": "3.7.3"
    },
    "colab": {
      "name": "MODELING_LR_LightGBM.ipynb",
      "provenance": [],
      "collapsed_sections": [],
      "toc_visible": true
    }
  },
  "cells": [
    {
      "cell_type": "markdown",
      "metadata": {
        "id": "UH3J1CJza2a7",
        "colab_type": "text"
      },
      "source": [
        "# Classification (Data Pre-processing)"
      ]
    },
    {
      "cell_type": "markdown",
      "metadata": {
        "id": "_0afyQqMa2bC",
        "colab_type": "text"
      },
      "source": [
        "## 1.Read the dataset"
      ]
    },
    {
      "cell_type": "code",
      "metadata": {
        "id": "Xe-Za4hca2bG",
        "colab_type": "code",
        "colab": {}
      },
      "source": [
        "import pandas  as pd\n",
        "\n",
        "import nltk\n",
        "from nltk.tag import pos_tag\n",
        "from nltk.corpus import stopwords\n",
        "from nltk.tokenize import word_tokenize\n",
        "from wordcloud import WordCloud, STOPWORDS\n",
        "import matplotlib.pyplot as plt\n",
        "import pandas as pd\n",
        "from nltk import ngrams  \n",
        "import re \n",
        "brief_cleaning = lambda x: re.sub(\"[^A-Za-z']+\", ' ', str(x)).lower()\n",
        "\n"
      ],
      "execution_count": 0,
      "outputs": []
    },
    {
      "cell_type": "code",
      "metadata": {
        "id": "rmUmJYdlbZ4B",
        "colab_type": "code",
        "outputId": "9770e647-f8eb-4528-fd0a-a1122c2b08d7",
        "colab": {
          "base_uri": "https://localhost:8080/",
          "height": 200
        }
      },
      "source": [
        "!pip install vaderSentiment\n",
        "nltk.download('stopwords')\n",
        "nltk.download('punkt')\n",
        "nltk.download('averaged_perceptron_tagger')"
      ],
      "execution_count": 12,
      "outputs": [
        {
          "output_type": "stream",
          "text": [
            "Requirement already satisfied: vaderSentiment in /usr/local/lib/python3.6/dist-packages (3.3.1)\n",
            "[nltk_data] Downloading package stopwords to /root/nltk_data...\n",
            "[nltk_data]   Package stopwords is already up-to-date!\n",
            "[nltk_data] Downloading package punkt to /root/nltk_data...\n",
            "[nltk_data]   Package punkt is already up-to-date!\n",
            "[nltk_data] Downloading package averaged_perceptron_tagger to\n",
            "[nltk_data]     /root/nltk_data...\n",
            "[nltk_data]   Package averaged_perceptron_tagger is already up-to-\n",
            "[nltk_data]       date!\n"
          ],
          "name": "stdout"
        },
        {
          "output_type": "execute_result",
          "data": {
            "text/plain": [
              "True"
            ]
          },
          "metadata": {
            "tags": []
          },
          "execution_count": 12
        }
      ]
    },
    {
      "cell_type": "markdown",
      "metadata": {
        "id": "DfS7TJJrKO9V",
        "colab_type": "text"
      },
      "source": [
        "2. Cleaning\n"
      ]
    },
    {
      "cell_type": "code",
      "metadata": {
        "id": "XH5iZMyiCNF4",
        "colab_type": "code",
        "outputId": "11a59bba-f78e-49ce-fccf-934700f32972",
        "colab": {
          "base_uri": "https://localhost:8080/",
          "height": 1000
        }
      },
      "source": [
        "df=pd.read_excel('cons_data_full.xlsx')\n",
        "df['facility_ind']=df['facility_ind'].fillna(0)\n",
        "df['security_ind']=df['security_ind'].fillna(0)\n",
        "df['pricing_ind']=df['pricing_ind'].fillna(0)\n",
        "df['location_ind']=df['location_ind'].fillna(0)\n",
        "df['fb_ind']=df['fb_ind'].fillna(0)\n",
        "df['housekeep_ind']=df['housekeep_ind'].fillna(0)\n",
        "df['frontoff_ind']=df['frontoff_ind'].fillna(0)\n",
        "df['Others']=df['Others'].fillna(0)\n",
        "df=df.replace('`',0)\n",
        "df=df[ ~ ((df['facility_ind']==0) & (df['security_ind']==0) & (df['pricing_ind']==0) &\n",
        "          (df['location_ind']==0) & (df['fb_ind']==0) & (df['housekeep_ind']==0) &\n",
        "          (df['frontoff_ind']==0) & (df['Others']==0)   )]\n",
        "df['cons']=df['cons'].apply(lambda x: re.sub(\"[^A-Za-z']+\", ' ', str(x)).lower())\n",
        "df=df.drop(['Unnamed: 0', 'Unnamed: 11', 'Unnamed: 12', 'Unnamed: 13',\n",
        "       'Unnamed: 14'],axis=1)\n",
        "group_columns=['facility_ind', 'security_ind', 'pricing_ind',\n",
        "       'location_ind', 'fb_ind', 'housekeep_ind', 'frontoff_ind', 'Others',]\n",
        "for column_name in group_columns:\n",
        "  df[column_name]= df[column_name].apply(lambda x: int(x))\n",
        "for column_name in group_columns:\n",
        "  group=df.groupby(column_name)\n",
        "  print(group.describe())"
      ],
      "execution_count": 13,
      "outputs": [
        {
          "output_type": "stream",
          "text": [
            "             review_number                                 ... Others               \n",
            "                     count         mean          std  min  ...    25%  50%  75%  max\n",
            "facility_ind                                               ...                      \n",
            "0                   3800.0  2510.828158  1656.042307  0.0  ...    0.0  0.0  1.0  1.0\n",
            "1                   1988.0  2105.807847  1583.982481  0.0  ...    0.0  0.0  0.0  1.0\n",
            "\n",
            "[2 rows x 64 columns]\n",
            "             review_number                                  ... Others               \n",
            "                     count         mean          std   min  ...    25%  50%  75%  max\n",
            "security_ind                                                ...                      \n",
            "0                   5723.0  2370.019745  1640.229271   0.0  ...    0.0  0.0  0.0  1.0\n",
            "1                     65.0  2521.076923  1864.528680  14.0  ...    0.0  0.0  0.0  1.0\n",
            "\n",
            "[2 rows x 64 columns]\n",
            "            review_number                                 ... Others               \n",
            "                    count         mean          std  min  ...    25%  50%  75%  max\n",
            "pricing_ind                                               ...                      \n",
            "0                  4515.0  2345.991584  1638.068296  0.0  ...    0.0  0.0  1.0  1.0\n",
            "1                  1273.0  2462.954438  1656.960620  2.0  ...    0.0  0.0  0.0  1.0\n",
            "\n",
            "[2 rows x 64 columns]\n",
            "             review_number                                 ... Others               \n",
            "                     count         mean          std  min  ...    25%  50%  75%  max\n",
            "location_ind                                               ...                      \n",
            "0                   5722.0  2373.881160  1643.174489  0.0  ...    0.0  0.0  0.0  1.0\n",
            "1                     66.0  2184.015152  1612.330654  5.0  ...    0.0  0.0  0.0  0.0\n",
            "\n",
            "[2 rows x 64 columns]\n",
            "       review_number                                 ... Others               \n",
            "               count         mean          std  min  ...    25%  50%  75%  max\n",
            "fb_ind                                               ...                      \n",
            "0             5380.0  2398.292193  1633.726400  0.0  ...    0.0  0.0  0.0  1.0\n",
            "1              408.0  2021.276961  1722.352954  0.0  ...    0.0  0.0  0.0  1.0\n",
            "\n",
            "[2 rows x 64 columns]\n",
            "              review_number                                  ... Others               \n",
            "                      count         mean          std   min  ...    25%  50%  75%  max\n",
            "housekeep_ind                                                ...                      \n",
            "0                    5608.0  2378.679565  1643.985846   0.0  ...    0.0  0.0  0.0  1.0\n",
            "1                     180.0  2154.766667  1595.088692  20.0  ...    0.0  0.0  0.0  1.0\n",
            "\n",
            "[2 rows x 64 columns]\n",
            "             review_number                                 ... Others               \n",
            "                     count         mean          std  min  ...    25%  50%  75%  max\n",
            "frontoff_ind                                               ...                      \n",
            "0                   4818.0  2418.249066  1652.372452  0.0  ...    0.0  0.0  1.0  1.0\n",
            "1                    970.0  2140.586598  1575.051188  0.0  ...    0.0  0.0  0.0  1.0\n",
            "\n",
            "[2 rows x 64 columns]\n",
            "       review_number                                 ... frontoff_ind               \n",
            "               count         mean          std  min  ...          25%  50%  75%  max\n",
            "Others                                               ...                            \n",
            "0             4492.0  2247.363090  1629.869206  0.0  ...          0.0  0.0  0.0  1.0\n",
            "1             1296.0  2802.729938  1615.013377  0.0  ...          0.0  0.0  0.0  1.0\n",
            "\n",
            "[2 rows x 64 columns]\n"
          ],
          "name": "stdout"
        }
      ]
    },
    {
      "cell_type": "code",
      "metadata": {
        "scrolled": true,
        "id": "lPEgsePua2bV",
        "colab_type": "code",
        "outputId": "a371af1e-0213-4b2b-8f45-3b38720ba2db",
        "colab": {
          "base_uri": "https://localhost:8080/",
          "height": 127
        }
      },
      "source": [
        "from nltk import ngrams\n",
        "from nltk.stem import SnowballStemmer\n",
        "from nltk.tag import pos_tag\n",
        "from nltk.corpus import stopwords\n",
        "from nltk.tokenize import word_tokenize\n",
        "from wordcloud import WordCloud, STOPWORDS\n",
        "from nltk import ngrams\n",
        "from nltk.stem import SnowballStemmer\n",
        "import string\n",
        "\n",
        "stop_words= set(stopwords.words('english'))\n",
        "stop_words_add=['       ']\n",
        "\n",
        "for w in stop_words_add:\n",
        "    stop_words.add(w)\n",
        "    \n",
        "\n",
        "\n",
        "def clean_stopwords(val):\n",
        "   val=re.sub(\"[^A-Za-z']+\", ' ', str(val)).lower()\n",
        "   comment_words=''\n",
        "   tokens=  word_tokenize(val) \n",
        "   stemmer = SnowballStemmer(\"english\") \n",
        "  \n",
        "   val_list1=[word for word in tokens if word not in stop_words]\n",
        "   val_list=[]\n",
        "   for word in val_list1:\n",
        "      val_list.append(stemmer.stem(word))\n",
        "\n",
        "   comment_words=' '.join(val_list)\n",
        "   return comment_words \n",
        "\n",
        " \n",
        "df['clean']=df['cons'].apply(clean)\n",
        "df['clean_stopwords']=df['cons'].apply(clean_stopwords)\n",
        "print(df['clean'].head())"
      ],
      "execution_count": 15,
      "outputs": [
        {
          "output_type": "stream",
          "text": [
            "0                                             bedroom \n",
            "1                                        soft furnish \n",
            "2                           little furniture big spac \n",
            "3    uncomfortable couch area colour inventive desi...\n",
            "4                       hotel bar relaxing drink dinn \n",
            "Name: clean, dtype: object\n"
          ],
          "name": "stdout"
        }
      ]
    },
    {
      "cell_type": "code",
      "metadata": {
        "id": "ooW7YgakaoIg",
        "colab_type": "code",
        "colab": {}
      },
      "source": [
        "df1=df.drop(['cons','clean'],axis=1)\n",
        "df1.rename(columns={'clean_stopwords':'cons'},inplace=True)\n",
        "df1.to_csv('data_cleaned.csv',index=False)"
      ],
      "execution_count": 0,
      "outputs": []
    },
    {
      "cell_type": "code",
      "metadata": {
        "id": "rC0GWaXXWcTC",
        "colab_type": "code",
        "outputId": "a1a14389-3ce2-472d-8a0a-4541c0fd8c23",
        "colab": {
          "base_uri": "https://localhost:8080/",
          "height": 127
        }
      },
      "source": [
        "print(df['clean_stopwords'].head())"
      ],
      "execution_count": 0,
      "outputs": [
        {
          "output_type": "stream",
          "text": [
            "0                                        bedroom bland\n",
            "1                                         soft furnish\n",
            "2                             littl furnitur big space\n",
            "3    uncomfort couch area need colour invent design...\n",
            "4             hotel could resid bar relax drink dinner\n",
            "Name: clean_stopwords, dtype: object\n"
          ],
          "name": "stdout"
        }
      ]
    }
  ]
}